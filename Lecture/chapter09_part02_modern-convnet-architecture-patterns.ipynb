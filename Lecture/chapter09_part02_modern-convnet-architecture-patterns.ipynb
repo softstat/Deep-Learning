{
  "cells": [
    {
      "cell_type": "markdown",
      "metadata": {
        "id": "6fcNJ9ngWdao"
      },
      "source": [
        "이 노트북은 [케라스 창시자에게 배우는 딥러닝 2판](https://tensorflow.blog/kerasdl2/)의 예제 코드를 담고 있습니다.\n",
        "\n",
        "<table align=\"left\">\n",
        "    <tr>\n",
        "        <td>\n",
        "            <a href=\"https://colab.research.google.com/github/rickiepark/deep-learning-with-python-2nd/blob/main/chapter09_part02_modern-convnet-architecture-patterns.ipynb\" target=\"_parent\"><img src=\"https://colab.research.google.com/assets/colab-badge.svg\" alt=\"Open In Colab\"/></a>\n",
        "        </td>\n",
        "    </tr>\n",
        "</table>"
      ]
    },
    {
      "cell_type": "markdown",
      "metadata": {
        "id": "V6vyo9pMWdar"
      },
      "source": [
        "## 최신 컨브넷 아키텍처 패턴"
      ]
    },
    {
      "cell_type": "markdown",
      "metadata": {
        "id": "wRLUswhpWdar"
      },
      "source": [
        "### 모듈화, 계층화 그리고 재사용"
      ]
    },
    {
      "cell_type": "markdown",
      "metadata": {
        "id": "DrVGd0xfWdas"
      },
      "source": [
        "### 잔차 연결"
      ]
    },
    {
      "cell_type": "markdown",
      "metadata": {
        "id": "z3p_4BtQWdas"
      },
      "source": [
        "**필터 개수가 변경되는 잔차 블록**"
      ]
    },
    {
      "cell_type": "code",
      "execution_count": 1,
      "metadata": {
        "id": "_sMjx-EsWdas"
      },
      "outputs": [],
      "source": [
        "from tensorflow import keras\n",
        "from tensorflow.keras import layers\n",
        "\n",
        "inputs = keras.Input(shape=(32, 32, 3))\n",
        "x = layers.Conv2D(32, 3, activation=\"relu\")(inputs)\n",
        "residual = x\n",
        "x = layers.Conv2D(64, 3, activation=\"relu\", padding=\"same\")(x)\n",
        "# 밑에 있는 코드 반드시 추가, 그렇지 않으면 차원개수가 맞지 않다고 나옴\n",
        "residual = layers.Conv2D(64, 1)(residual)\n",
        "x = layers.add([x, residual])"
      ]
    },
    {
      "cell_type": "markdown",
      "metadata": {
        "id": "0qicvVeLWdav"
      },
      "source": [
        "**최대 풀링 층을 가진 잔차 블록**"
      ]
    },
    {
      "cell_type": "code",
      "execution_count": 2,
      "metadata": {
        "id": "VujtXbBHWdav"
      },
      "outputs": [],
      "source": [
        "inputs = keras.Input(shape=(32, 32, 3))\n",
        "x = layers.Conv2D(32, 3, activation=\"relu\")(inputs)\n",
        "residual = x\n",
        "x = layers.Conv2D(64, 3, activation=\"relu\", padding=\"same\")(x)\n",
        "x = layers.MaxPooling2D(2, padding=\"same\")(x)\n",
        "residual = layers.Conv2D(64, 1, strides=2)(residual)\n",
        "x = layers.add([x, residual])"
      ]
    },
    {
      "cell_type": "code",
      "execution_count": 3,
      "metadata": {
        "colab": {
          "base_uri": "https://localhost:8080/"
        },
        "id": "gqRZwb1eWdaw",
        "outputId": "768ef45e-d0fe-422d-d90f-da3923f602e7"
      },
      "outputs": [
        {
          "output_type": "stream",
          "name": "stdout",
          "text": [
            "Model: \"model\"\n",
            "__________________________________________________________________________________________________\n",
            " Layer (type)                Output Shape                 Param #   Connected to                  \n",
            "==================================================================================================\n",
            " input_3 (InputLayer)        [(None, 32, 32, 3)]          0         []                            \n",
            "                                                                                                  \n",
            " rescaling (Rescaling)       (None, 32, 32, 3)            0         ['input_3[0][0]']             \n",
            "                                                                                                  \n",
            " conv2d_6 (Conv2D)           (None, 32, 32, 32)           896       ['rescaling[0][0]']           \n",
            "                                                                                                  \n",
            " conv2d_7 (Conv2D)           (None, 32, 32, 32)           9248      ['conv2d_6[0][0]']            \n",
            "                                                                                                  \n",
            " max_pooling2d_1 (MaxPoolin  (None, 16, 16, 32)           0         ['conv2d_7[0][0]']            \n",
            " g2D)                                                                                             \n",
            "                                                                                                  \n",
            " conv2d_8 (Conv2D)           (None, 16, 16, 32)           128       ['rescaling[0][0]']           \n",
            "                                                                                                  \n",
            " add_2 (Add)                 (None, 16, 16, 32)           0         ['max_pooling2d_1[0][0]',     \n",
            "                                                                     'conv2d_8[0][0]']            \n",
            "                                                                                                  \n",
            " conv2d_9 (Conv2D)           (None, 16, 16, 64)           18496     ['add_2[0][0]']               \n",
            "                                                                                                  \n",
            " conv2d_10 (Conv2D)          (None, 16, 16, 64)           36928     ['conv2d_9[0][0]']            \n",
            "                                                                                                  \n",
            " max_pooling2d_2 (MaxPoolin  (None, 8, 8, 64)             0         ['conv2d_10[0][0]']           \n",
            " g2D)                                                                                             \n",
            "                                                                                                  \n",
            " conv2d_11 (Conv2D)          (None, 8, 8, 64)             2112      ['add_2[0][0]']               \n",
            "                                                                                                  \n",
            " add_3 (Add)                 (None, 8, 8, 64)             0         ['max_pooling2d_2[0][0]',     \n",
            "                                                                     'conv2d_11[0][0]']           \n",
            "                                                                                                  \n",
            " conv2d_12 (Conv2D)          (None, 8, 8, 128)            73856     ['add_3[0][0]']               \n",
            "                                                                                                  \n",
            " conv2d_13 (Conv2D)          (None, 8, 8, 128)            147584    ['conv2d_12[0][0]']           \n",
            "                                                                                                  \n",
            " conv2d_14 (Conv2D)          (None, 8, 8, 128)            8320      ['add_3[0][0]']               \n",
            "                                                                                                  \n",
            " add_4 (Add)                 (None, 8, 8, 128)            0         ['conv2d_13[0][0]',           \n",
            "                                                                     'conv2d_14[0][0]']           \n",
            "                                                                                                  \n",
            " global_average_pooling2d (  (None, 128)                  0         ['add_4[0][0]']               \n",
            " GlobalAveragePooling2D)                                                                          \n",
            "                                                                                                  \n",
            " dense (Dense)               (None, 1)                    129       ['global_average_pooling2d[0][\n",
            "                                                                    0]']                          \n",
            "                                                                                                  \n",
            "==================================================================================================\n",
            "Total params: 297697 (1.14 MB)\n",
            "Trainable params: 297697 (1.14 MB)\n",
            "Non-trainable params: 0 (0.00 Byte)\n",
            "__________________________________________________________________________________________________\n"
          ]
        }
      ],
      "source": [
        "inputs = keras.Input(shape=(32, 32, 3))\n",
        "x = layers.Rescaling(1./255)(inputs)\n",
        "\n",
        "def residual_block(x, filters, pooling=False):\n",
        "    residual = x\n",
        "    x = layers.Conv2D(filters, 3, activation=\"relu\", padding=\"same\")(x)\n",
        "    x = layers.Conv2D(filters, 3, activation=\"relu\", padding=\"same\")(x)\n",
        "    if pooling:\n",
        "        x = layers.MaxPooling2D(2, padding=\"same\")(x)\n",
        "        residual = layers.Conv2D(filters, 1, strides=2)(residual)\n",
        "    elif filters != residual.shape[-1]:\n",
        "        residual = layers.Conv2D(filters, 1)(residual)\n",
        "    x = layers.add([x, residual])\n",
        "    return x\n",
        "\n",
        "x = residual_block(x, filters=32, pooling=True)\n",
        "x = residual_block(x, filters=64, pooling=True)\n",
        "x = residual_block(x, filters=128, pooling=False)\n",
        "\n",
        "x = layers.GlobalAveragePooling2D()(x)\n",
        "outputs = layers.Dense(1, activation=\"sigmoid\")(x)\n",
        "model = keras.Model(inputs=inputs, outputs=outputs)\n",
        "model.summary()"
      ]
    },
    {
      "cell_type": "markdown",
      "metadata": {
        "id": "2yTgvoeKWdaw"
      },
      "source": [
        "### 배치 정규화"
      ]
    },
    {
      "cell_type": "markdown",
      "metadata": {
        "id": "JPKA2OB7Wdax"
      },
      "source": [
        "### 깊이별 분리 합성곱"
      ]
    },
    {
      "cell_type": "markdown",
      "metadata": {
        "id": "RkVCpdH6Wdax"
      },
      "source": [
        "### Xception 유사 모델에 모두 적용하기"
      ]
    },
    {
      "cell_type": "markdown",
      "metadata": {
        "id": "rJP0kj1tRe_e"
      },
      "source": [
        "캐글에서 dogs-vs-cats 데이터셋을 다운로드하려면 캐글에 가입해야 한 후 생성한 API 키를 사용해야 합니다. 다운로드에 문제가 있다면 다음 명령으로 구글 드라이브에서 직접 다운로드할 수 있습니다."
      ]
    },
    {
      "cell_type": "code",
      "source": [
        "import gdown\n",
        "gdown.download(id='18uC7WTuEXKJDDxbj-Jq6EjzpFrgE7IAd', output='dogs-vs-cats.zip')"
      ],
      "metadata": {
        "id": "R_H-D_xsuK4h",
        "outputId": "d5c214d3-29a9-4bac-9e40-7065224ed930",
        "colab": {
          "base_uri": "https://localhost:8080/",
          "height": 127
        }
      },
      "execution_count": 4,
      "outputs": [
        {
          "output_type": "stream",
          "name": "stderr",
          "text": [
            "Downloading...\n",
            "From (original): https://drive.google.com/uc?id=18uC7WTuEXKJDDxbj-Jq6EjzpFrgE7IAd\n",
            "From (redirected): https://drive.google.com/uc?id=18uC7WTuEXKJDDxbj-Jq6EjzpFrgE7IAd&confirm=t&uuid=d4f03d54-cff2-4016-9bab-1370f396dc32\n",
            "To: /content/dogs-vs-cats.zip\n",
            "100%|██████████| 852M/852M [00:17<00:00, 47.9MB/s]\n"
          ]
        },
        {
          "output_type": "execute_result",
          "data": {
            "text/plain": [
              "'dogs-vs-cats.zip'"
            ],
            "application/vnd.google.colaboratory.intrinsic+json": {
              "type": "string"
            }
          },
          "metadata": {},
          "execution_count": 4
        }
      ]
    },
    {
      "cell_type": "markdown",
      "source": [
        "코랩의 Secrets 탭에 캐글 키를 저장해 놓았다면 다음처럼 노트북에서 불러올 수 있습니다. Secrets에 저장한 키 이름이 `'kaggle'`이라 가정합니다.\n",
        "\n",
        "```python\n",
        "from google.colab import userdata\n",
        "key = userdata.get('kaggle')\n",
        "with open('kaggle.json', 'w') as f:\n",
        "    f.write(f'{{\"username\":\"haesunpark\",\"key\":\"{key}\"}}')\n",
        "```"
      ],
      "metadata": {
        "id": "9kwJ5oLAWdax"
      }
    },
    {
      "cell_type": "markdown",
      "source": [
        "또는 로컬 컴퓨터에 저장되어 있는 `'kaggle.json'` 파일을 직접 코랩에 업로드할 수 있습니다.\n",
        "```python\n",
        "# kaggle.json 파일을 업로드하세요.\n",
        "from google.colab import files\n",
        "files.upload()\n",
        "```"
      ],
      "metadata": {
        "id": "UMf82mhduZV4"
      }
    },
    {
      "cell_type": "markdown",
      "source": [
        "`'kaggle.json'` 파일이 생성되었다면 적절한 위치로 이동시키고 파일 권한을 변경한 다음 캐글에서 데이터를 다운로드합니다.\n",
        "\n",
        "```bash\n",
        "!mkdir ~/.kaggle\n",
        "!cp kaggle.json ~/.kaggle/\n",
        "!chmod 600 ~/.kaggle/kaggle.json\n",
        "!kaggle competitions download -c dogs-vs-cats\n",
        "```"
      ],
      "metadata": {
        "id": "ZSOaTdZ7Re_f"
      }
    },
    {
      "cell_type": "code",
      "execution_count": 5,
      "metadata": {
        "id": "HQRYmlcoWdax"
      },
      "outputs": [],
      "source": [
        "!unzip -qq dogs-vs-cats.zip\n",
        "!unzip -qq train.zip"
      ]
    },
    {
      "cell_type": "code",
      "execution_count": 6,
      "metadata": {
        "colab": {
          "base_uri": "https://localhost:8080/"
        },
        "id": "1TQ1jwjAWday",
        "outputId": "f72f680a-17e7-4d47-d2af-755219324c29"
      },
      "outputs": [
        {
          "output_type": "stream",
          "name": "stdout",
          "text": [
            "Found 2000 files belonging to 2 classes.\n",
            "Found 1000 files belonging to 2 classes.\n",
            "Found 2000 files belonging to 2 classes.\n"
          ]
        }
      ],
      "source": [
        "import os, shutil, pathlib\n",
        "from tensorflow.keras.utils import image_dataset_from_directory\n",
        "\n",
        "original_dir = pathlib.Path(\"train\")\n",
        "new_base_dir = pathlib.Path(\"cats_vs_dogs_small\")\n",
        "\n",
        "def make_subset(subset_name, start_index, end_index):\n",
        "    for category in (\"cat\", \"dog\"):\n",
        "        dir = new_base_dir / subset_name / category\n",
        "        os.makedirs(dir)\n",
        "        fnames = [f\"{category}.{i}.jpg\" for i in range(start_index, end_index)]\n",
        "        for fname in fnames:\n",
        "            shutil.copyfile(src=original_dir / fname,\n",
        "                            dst=dir / fname)\n",
        "\n",
        "make_subset(\"train\", start_index=0, end_index=1000)\n",
        "make_subset(\"validation\", start_index=1000, end_index=1500)\n",
        "make_subset(\"test\", start_index=1500, end_index=2500)\n",
        "\n",
        "train_dataset = image_dataset_from_directory(\n",
        "    new_base_dir / \"train\",\n",
        "    image_size=(180, 180),\n",
        "    batch_size=32)\n",
        "validation_dataset = image_dataset_from_directory(\n",
        "    new_base_dir / \"validation\",\n",
        "    image_size=(180, 180),\n",
        "    batch_size=32)\n",
        "test_dataset = image_dataset_from_directory(\n",
        "    new_base_dir / \"test\",\n",
        "    image_size=(180, 180),\n",
        "    batch_size=32)"
      ]
    },
    {
      "cell_type": "code",
      "execution_count": 7,
      "metadata": {
        "id": "ocyuOyHbWday"
      },
      "outputs": [],
      "source": [
        "data_augmentation = keras.Sequential(\n",
        "    [\n",
        "        layers.RandomFlip(\"horizontal\"),\n",
        "        layers.RandomRotation(0.1),\n",
        "        layers.RandomZoom(0.2),\n",
        "    ]\n",
        ")"
      ]
    },
    {
      "cell_type": "code",
      "execution_count": 8,
      "metadata": {
        "id": "-qBdzynbWday"
      },
      "outputs": [],
      "source": [
        "inputs = keras.Input(shape=(180, 180, 3))\n",
        "x = data_augmentation(inputs)\n",
        "\n",
        "x = layers.Rescaling(1./255)(x)\n",
        "x = layers.Conv2D(filters=32, kernel_size=5, use_bias=False)(x)\n",
        "\n",
        "for size in [32, 64, 128, 256, 512]:\n",
        "    residual = x\n",
        "\n",
        "    x = layers.BatchNormalization()(x)\n",
        "    x = layers.Activation(\"relu\")(x)\n",
        "    x = layers.SeparableConv2D(size, 3, padding=\"same\", use_bias=False)(x)\n",
        "\n",
        "    x = layers.BatchNormalization()(x)\n",
        "    x = layers.Activation(\"relu\")(x)\n",
        "    x = layers.SeparableConv2D(size, 3, padding=\"same\", use_bias=False)(x)\n",
        "\n",
        "    x = layers.MaxPooling2D(3, strides=2, padding=\"same\")(x)\n",
        "\n",
        "    residual = layers.Conv2D(\n",
        "        size, 1, strides=2, padding=\"same\", use_bias=False)(residual)\n",
        "    x = layers.add([x, residual])\n",
        "\n",
        "x = layers.GlobalAveragePooling2D()(x)\n",
        "x = layers.Dropout(0.5)(x)\n",
        "outputs = layers.Dense(1, activation=\"sigmoid\")(x)\n",
        "model = keras.Model(inputs=inputs, outputs=outputs)"
      ]
    },
    {
      "cell_type": "code",
      "source": [
        "model.summary()"
      ],
      "metadata": {
        "id": "YTGYib-4q189",
        "outputId": "7198bd5e-16a9-460c-816a-daea9f552670",
        "colab": {
          "base_uri": "https://localhost:8080/"
        }
      },
      "execution_count": 9,
      "outputs": [
        {
          "output_type": "stream",
          "name": "stdout",
          "text": [
            "Model: \"model_1\"\n",
            "__________________________________________________________________________________________________\n",
            " Layer (type)                Output Shape                 Param #   Connected to                  \n",
            "==================================================================================================\n",
            " input_4 (InputLayer)        [(None, 180, 180, 3)]        0         []                            \n",
            "                                                                                                  \n",
            " sequential (Sequential)     (None, 180, 180, 3)          0         ['input_4[0][0]']             \n",
            "                                                                                                  \n",
            " rescaling_1 (Rescaling)     (None, 180, 180, 3)          0         ['sequential[0][0]']          \n",
            "                                                                                                  \n",
            " conv2d_15 (Conv2D)          (None, 176, 176, 32)         2400      ['rescaling_1[0][0]']         \n",
            "                                                                                                  \n",
            " batch_normalization (Batch  (None, 176, 176, 32)         128       ['conv2d_15[0][0]']           \n",
            " Normalization)                                                                                   \n",
            "                                                                                                  \n",
            " activation (Activation)     (None, 176, 176, 32)         0         ['batch_normalization[0][0]'] \n",
            "                                                                                                  \n",
            " separable_conv2d (Separabl  (None, 176, 176, 32)         1312      ['activation[0][0]']          \n",
            " eConv2D)                                                                                         \n",
            "                                                                                                  \n",
            " batch_normalization_1 (Bat  (None, 176, 176, 32)         128       ['separable_conv2d[0][0]']    \n",
            " chNormalization)                                                                                 \n",
            "                                                                                                  \n",
            " activation_1 (Activation)   (None, 176, 176, 32)         0         ['batch_normalization_1[0][0]'\n",
            "                                                                    ]                             \n",
            "                                                                                                  \n",
            " separable_conv2d_1 (Separa  (None, 176, 176, 32)         1312      ['activation_1[0][0]']        \n",
            " bleConv2D)                                                                                       \n",
            "                                                                                                  \n",
            " max_pooling2d_3 (MaxPoolin  (None, 88, 88, 32)           0         ['separable_conv2d_1[0][0]']  \n",
            " g2D)                                                                                             \n",
            "                                                                                                  \n",
            " conv2d_16 (Conv2D)          (None, 88, 88, 32)           1024      ['conv2d_15[0][0]']           \n",
            "                                                                                                  \n",
            " add_5 (Add)                 (None, 88, 88, 32)           0         ['max_pooling2d_3[0][0]',     \n",
            "                                                                     'conv2d_16[0][0]']           \n",
            "                                                                                                  \n",
            " batch_normalization_2 (Bat  (None, 88, 88, 32)           128       ['add_5[0][0]']               \n",
            " chNormalization)                                                                                 \n",
            "                                                                                                  \n",
            " activation_2 (Activation)   (None, 88, 88, 32)           0         ['batch_normalization_2[0][0]'\n",
            "                                                                    ]                             \n",
            "                                                                                                  \n",
            " separable_conv2d_2 (Separa  (None, 88, 88, 64)           2336      ['activation_2[0][0]']        \n",
            " bleConv2D)                                                                                       \n",
            "                                                                                                  \n",
            " batch_normalization_3 (Bat  (None, 88, 88, 64)           256       ['separable_conv2d_2[0][0]']  \n",
            " chNormalization)                                                                                 \n",
            "                                                                                                  \n",
            " activation_3 (Activation)   (None, 88, 88, 64)           0         ['batch_normalization_3[0][0]'\n",
            "                                                                    ]                             \n",
            "                                                                                                  \n",
            " separable_conv2d_3 (Separa  (None, 88, 88, 64)           4672      ['activation_3[0][0]']        \n",
            " bleConv2D)                                                                                       \n",
            "                                                                                                  \n",
            " max_pooling2d_4 (MaxPoolin  (None, 44, 44, 64)           0         ['separable_conv2d_3[0][0]']  \n",
            " g2D)                                                                                             \n",
            "                                                                                                  \n",
            " conv2d_17 (Conv2D)          (None, 44, 44, 64)           2048      ['add_5[0][0]']               \n",
            "                                                                                                  \n",
            " add_6 (Add)                 (None, 44, 44, 64)           0         ['max_pooling2d_4[0][0]',     \n",
            "                                                                     'conv2d_17[0][0]']           \n",
            "                                                                                                  \n",
            " batch_normalization_4 (Bat  (None, 44, 44, 64)           256       ['add_6[0][0]']               \n",
            " chNormalization)                                                                                 \n",
            "                                                                                                  \n",
            " activation_4 (Activation)   (None, 44, 44, 64)           0         ['batch_normalization_4[0][0]'\n",
            "                                                                    ]                             \n",
            "                                                                                                  \n",
            " separable_conv2d_4 (Separa  (None, 44, 44, 128)          8768      ['activation_4[0][0]']        \n",
            " bleConv2D)                                                                                       \n",
            "                                                                                                  \n",
            " batch_normalization_5 (Bat  (None, 44, 44, 128)          512       ['separable_conv2d_4[0][0]']  \n",
            " chNormalization)                                                                                 \n",
            "                                                                                                  \n",
            " activation_5 (Activation)   (None, 44, 44, 128)          0         ['batch_normalization_5[0][0]'\n",
            "                                                                    ]                             \n",
            "                                                                                                  \n",
            " separable_conv2d_5 (Separa  (None, 44, 44, 128)          17536     ['activation_5[0][0]']        \n",
            " bleConv2D)                                                                                       \n",
            "                                                                                                  \n",
            " max_pooling2d_5 (MaxPoolin  (None, 22, 22, 128)          0         ['separable_conv2d_5[0][0]']  \n",
            " g2D)                                                                                             \n",
            "                                                                                                  \n",
            " conv2d_18 (Conv2D)          (None, 22, 22, 128)          8192      ['add_6[0][0]']               \n",
            "                                                                                                  \n",
            " add_7 (Add)                 (None, 22, 22, 128)          0         ['max_pooling2d_5[0][0]',     \n",
            "                                                                     'conv2d_18[0][0]']           \n",
            "                                                                                                  \n",
            " batch_normalization_6 (Bat  (None, 22, 22, 128)          512       ['add_7[0][0]']               \n",
            " chNormalization)                                                                                 \n",
            "                                                                                                  \n",
            " activation_6 (Activation)   (None, 22, 22, 128)          0         ['batch_normalization_6[0][0]'\n",
            "                                                                    ]                             \n",
            "                                                                                                  \n",
            " separable_conv2d_6 (Separa  (None, 22, 22, 256)          33920     ['activation_6[0][0]']        \n",
            " bleConv2D)                                                                                       \n",
            "                                                                                                  \n",
            " batch_normalization_7 (Bat  (None, 22, 22, 256)          1024      ['separable_conv2d_6[0][0]']  \n",
            " chNormalization)                                                                                 \n",
            "                                                                                                  \n",
            " activation_7 (Activation)   (None, 22, 22, 256)          0         ['batch_normalization_7[0][0]'\n",
            "                                                                    ]                             \n",
            "                                                                                                  \n",
            " separable_conv2d_7 (Separa  (None, 22, 22, 256)          67840     ['activation_7[0][0]']        \n",
            " bleConv2D)                                                                                       \n",
            "                                                                                                  \n",
            " max_pooling2d_6 (MaxPoolin  (None, 11, 11, 256)          0         ['separable_conv2d_7[0][0]']  \n",
            " g2D)                                                                                             \n",
            "                                                                                                  \n",
            " conv2d_19 (Conv2D)          (None, 11, 11, 256)          32768     ['add_7[0][0]']               \n",
            "                                                                                                  \n",
            " add_8 (Add)                 (None, 11, 11, 256)          0         ['max_pooling2d_6[0][0]',     \n",
            "                                                                     'conv2d_19[0][0]']           \n",
            "                                                                                                  \n",
            " batch_normalization_8 (Bat  (None, 11, 11, 256)          1024      ['add_8[0][0]']               \n",
            " chNormalization)                                                                                 \n",
            "                                                                                                  \n",
            " activation_8 (Activation)   (None, 11, 11, 256)          0         ['batch_normalization_8[0][0]'\n",
            "                                                                    ]                             \n",
            "                                                                                                  \n",
            " separable_conv2d_8 (Separa  (None, 11, 11, 512)          133376    ['activation_8[0][0]']        \n",
            " bleConv2D)                                                                                       \n",
            "                                                                                                  \n",
            " batch_normalization_9 (Bat  (None, 11, 11, 512)          2048      ['separable_conv2d_8[0][0]']  \n",
            " chNormalization)                                                                                 \n",
            "                                                                                                  \n",
            " activation_9 (Activation)   (None, 11, 11, 512)          0         ['batch_normalization_9[0][0]'\n",
            "                                                                    ]                             \n",
            "                                                                                                  \n",
            " separable_conv2d_9 (Separa  (None, 11, 11, 512)          266752    ['activation_9[0][0]']        \n",
            " bleConv2D)                                                                                       \n",
            "                                                                                                  \n",
            " max_pooling2d_7 (MaxPoolin  (None, 6, 6, 512)            0         ['separable_conv2d_9[0][0]']  \n",
            " g2D)                                                                                             \n",
            "                                                                                                  \n",
            " conv2d_20 (Conv2D)          (None, 6, 6, 512)            131072    ['add_8[0][0]']               \n",
            "                                                                                                  \n",
            " add_9 (Add)                 (None, 6, 6, 512)            0         ['max_pooling2d_7[0][0]',     \n",
            "                                                                     'conv2d_20[0][0]']           \n",
            "                                                                                                  \n",
            " global_average_pooling2d_1  (None, 512)                  0         ['add_9[0][0]']               \n",
            "  (GlobalAveragePooling2D)                                                                        \n",
            "                                                                                                  \n",
            " dropout (Dropout)           (None, 512)                  0         ['global_average_pooling2d_1[0\n",
            "                                                                    ][0]']                        \n",
            "                                                                                                  \n",
            " dense_1 (Dense)             (None, 1)                    513       ['dropout[0][0]']             \n",
            "                                                                                                  \n",
            "==================================================================================================\n",
            "Total params: 721857 (2.75 MB)\n",
            "Trainable params: 718849 (2.74 MB)\n",
            "Non-trainable params: 3008 (11.75 KB)\n",
            "__________________________________________________________________________________________________\n"
          ]
        }
      ]
    },
    {
      "cell_type": "code",
      "execution_count": 10,
      "metadata": {
        "colab": {
          "base_uri": "https://localhost:8080/"
        },
        "id": "p4rMrBCmWdaz",
        "outputId": "6c91f6f9-8988-4707-dade-dfd0f6a04359"
      },
      "outputs": [
        {
          "output_type": "stream",
          "name": "stdout",
          "text": [
            "Epoch 1/100\n",
            "63/63 [==============================] - 28s 202ms/step - loss: 0.7221 - accuracy: 0.5490 - val_loss: 0.6929 - val_accuracy: 0.5010\n",
            "Epoch 2/100\n",
            "63/63 [==============================] - 10s 161ms/step - loss: 0.6735 - accuracy: 0.5940 - val_loss: 0.6943 - val_accuracy: 0.5000\n",
            "Epoch 3/100\n",
            "63/63 [==============================] - 10s 150ms/step - loss: 0.6535 - accuracy: 0.6110 - val_loss: 0.6946 - val_accuracy: 0.5000\n",
            "Epoch 4/100\n",
            "63/63 [==============================] - 11s 166ms/step - loss: 0.6384 - accuracy: 0.6295 - val_loss: 0.6938 - val_accuracy: 0.4990\n",
            "Epoch 5/100\n",
            "63/63 [==============================] - 10s 155ms/step - loss: 0.6173 - accuracy: 0.6665 - val_loss: 0.7253 - val_accuracy: 0.5000\n",
            "Epoch 6/100\n",
            "63/63 [==============================] - 10s 161ms/step - loss: 0.6060 - accuracy: 0.6795 - val_loss: 0.6976 - val_accuracy: 0.5070\n",
            "Epoch 7/100\n",
            "63/63 [==============================] - 10s 152ms/step - loss: 0.5876 - accuracy: 0.6990 - val_loss: 0.7594 - val_accuracy: 0.5230\n",
            "Epoch 8/100\n",
            "63/63 [==============================] - 10s 163ms/step - loss: 0.5787 - accuracy: 0.6975 - val_loss: 0.6782 - val_accuracy: 0.5780\n",
            "Epoch 9/100\n",
            "63/63 [==============================] - 10s 146ms/step - loss: 0.5580 - accuracy: 0.7095 - val_loss: 0.5963 - val_accuracy: 0.6710\n",
            "Epoch 10/100\n",
            "63/63 [==============================] - 10s 159ms/step - loss: 0.5475 - accuracy: 0.7195 - val_loss: 1.2239 - val_accuracy: 0.5150\n",
            "Epoch 11/100\n",
            "63/63 [==============================] - 9s 145ms/step - loss: 0.5515 - accuracy: 0.7235 - val_loss: 0.5992 - val_accuracy: 0.6990\n",
            "Epoch 12/100\n",
            "63/63 [==============================] - 10s 153ms/step - loss: 0.5167 - accuracy: 0.7535 - val_loss: 0.8002 - val_accuracy: 0.5810\n",
            "Epoch 13/100\n",
            "63/63 [==============================] - 11s 169ms/step - loss: 0.5051 - accuracy: 0.7545 - val_loss: 0.7138 - val_accuracy: 0.6850\n",
            "Epoch 14/100\n",
            "63/63 [==============================] - 11s 175ms/step - loss: 0.4907 - accuracy: 0.7635 - val_loss: 0.5160 - val_accuracy: 0.7400\n",
            "Epoch 15/100\n",
            "63/63 [==============================] - 10s 152ms/step - loss: 0.4797 - accuracy: 0.7840 - val_loss: 0.9879 - val_accuracy: 0.5410\n",
            "Epoch 16/100\n",
            "63/63 [==============================] - 10s 156ms/step - loss: 0.4378 - accuracy: 0.7995 - val_loss: 0.6251 - val_accuracy: 0.7000\n",
            "Epoch 17/100\n",
            "63/63 [==============================] - 10s 161ms/step - loss: 0.4522 - accuracy: 0.7835 - val_loss: 0.4562 - val_accuracy: 0.7790\n",
            "Epoch 18/100\n",
            "63/63 [==============================] - 10s 152ms/step - loss: 0.4478 - accuracy: 0.7930 - val_loss: 0.5953 - val_accuracy: 0.7040\n",
            "Epoch 19/100\n",
            "63/63 [==============================] - 11s 170ms/step - loss: 0.4321 - accuracy: 0.8045 - val_loss: 2.0833 - val_accuracy: 0.5280\n",
            "Epoch 20/100\n",
            "63/63 [==============================] - 10s 145ms/step - loss: 0.4227 - accuracy: 0.8075 - val_loss: 0.5414 - val_accuracy: 0.7790\n",
            "Epoch 21/100\n",
            "63/63 [==============================] - 10s 153ms/step - loss: 0.3932 - accuracy: 0.8195 - val_loss: 0.8193 - val_accuracy: 0.6980\n",
            "Epoch 22/100\n",
            "63/63 [==============================] - 10s 158ms/step - loss: 0.3987 - accuracy: 0.8175 - val_loss: 1.4071 - val_accuracy: 0.5290\n",
            "Epoch 23/100\n",
            "63/63 [==============================] - 10s 151ms/step - loss: 0.3611 - accuracy: 0.8455 - val_loss: 0.7460 - val_accuracy: 0.6660\n",
            "Epoch 24/100\n",
            "63/63 [==============================] - 10s 163ms/step - loss: 0.3754 - accuracy: 0.8295 - val_loss: 0.4958 - val_accuracy: 0.7500\n",
            "Epoch 25/100\n",
            "63/63 [==============================] - 10s 153ms/step - loss: 0.3729 - accuracy: 0.8425 - val_loss: 1.3972 - val_accuracy: 0.5670\n",
            "Epoch 26/100\n",
            "63/63 [==============================] - 11s 166ms/step - loss: 0.3651 - accuracy: 0.8350 - val_loss: 0.3840 - val_accuracy: 0.8300\n",
            "Epoch 27/100\n",
            "63/63 [==============================] - 11s 167ms/step - loss: 0.3491 - accuracy: 0.8500 - val_loss: 0.4376 - val_accuracy: 0.8020\n",
            "Epoch 28/100\n",
            "63/63 [==============================] - 10s 148ms/step - loss: 0.3531 - accuracy: 0.8385 - val_loss: 0.8008 - val_accuracy: 0.6660\n",
            "Epoch 29/100\n",
            "63/63 [==============================] - 10s 156ms/step - loss: 0.3263 - accuracy: 0.8560 - val_loss: 0.4569 - val_accuracy: 0.8070\n",
            "Epoch 30/100\n",
            "63/63 [==============================] - 10s 163ms/step - loss: 0.3335 - accuracy: 0.8510 - val_loss: 0.8990 - val_accuracy: 0.6540\n",
            "Epoch 31/100\n",
            "63/63 [==============================] - 10s 159ms/step - loss: 0.3142 - accuracy: 0.8680 - val_loss: 0.3937 - val_accuracy: 0.8420\n",
            "Epoch 32/100\n",
            "63/63 [==============================] - 10s 161ms/step - loss: 0.3121 - accuracy: 0.8700 - val_loss: 0.6121 - val_accuracy: 0.7770\n",
            "Epoch 33/100\n",
            "63/63 [==============================] - 11s 172ms/step - loss: 0.3034 - accuracy: 0.8725 - val_loss: 0.4924 - val_accuracy: 0.7660\n",
            "Epoch 34/100\n",
            "63/63 [==============================] - 10s 148ms/step - loss: 0.2826 - accuracy: 0.8830 - val_loss: 0.7525 - val_accuracy: 0.7370\n",
            "Epoch 35/100\n",
            "63/63 [==============================] - 10s 158ms/step - loss: 0.2896 - accuracy: 0.8795 - val_loss: 0.7378 - val_accuracy: 0.7320\n",
            "Epoch 36/100\n",
            "63/63 [==============================] - 11s 167ms/step - loss: 0.2801 - accuracy: 0.8850 - val_loss: 0.4969 - val_accuracy: 0.7730\n",
            "Epoch 37/100\n",
            "63/63 [==============================] - 10s 147ms/step - loss: 0.2891 - accuracy: 0.8840 - val_loss: 0.3366 - val_accuracy: 0.8480\n",
            "Epoch 38/100\n",
            "63/63 [==============================] - 10s 162ms/step - loss: 0.2908 - accuracy: 0.8775 - val_loss: 0.3367 - val_accuracy: 0.8530\n",
            "Epoch 39/100\n",
            "63/63 [==============================] - 10s 152ms/step - loss: 0.2579 - accuracy: 0.8945 - val_loss: 0.6818 - val_accuracy: 0.7500\n",
            "Epoch 40/100\n",
            "63/63 [==============================] - 10s 161ms/step - loss: 0.2620 - accuracy: 0.8890 - val_loss: 0.3941 - val_accuracy: 0.8190\n",
            "Epoch 41/100\n",
            "63/63 [==============================] - 10s 161ms/step - loss: 0.2485 - accuracy: 0.9000 - val_loss: 0.4422 - val_accuracy: 0.8060\n",
            "Epoch 42/100\n",
            "63/63 [==============================] - 11s 168ms/step - loss: 0.2517 - accuracy: 0.8975 - val_loss: 0.3352 - val_accuracy: 0.8600\n",
            "Epoch 43/100\n",
            "63/63 [==============================] - 11s 172ms/step - loss: 0.2282 - accuracy: 0.9030 - val_loss: 0.4929 - val_accuracy: 0.8290\n",
            "Epoch 44/100\n",
            "63/63 [==============================] - 9s 147ms/step - loss: 0.2397 - accuracy: 0.8995 - val_loss: 0.4278 - val_accuracy: 0.8050\n",
            "Epoch 45/100\n",
            "63/63 [==============================] - 10s 154ms/step - loss: 0.2335 - accuracy: 0.9100 - val_loss: 0.5315 - val_accuracy: 0.7650\n",
            "Epoch 46/100\n",
            "63/63 [==============================] - 10s 158ms/step - loss: 0.2252 - accuracy: 0.9120 - val_loss: 0.6306 - val_accuracy: 0.7910\n",
            "Epoch 47/100\n",
            "63/63 [==============================] - 10s 149ms/step - loss: 0.2222 - accuracy: 0.9045 - val_loss: 0.5264 - val_accuracy: 0.8140\n",
            "Epoch 48/100\n",
            "63/63 [==============================] - 11s 171ms/step - loss: 0.2145 - accuracy: 0.9060 - val_loss: 0.5293 - val_accuracy: 0.8090\n",
            "Epoch 49/100\n",
            "63/63 [==============================] - 10s 155ms/step - loss: 0.1992 - accuracy: 0.9170 - val_loss: 0.5602 - val_accuracy: 0.8280\n",
            "Epoch 50/100\n",
            "63/63 [==============================] - 11s 166ms/step - loss: 0.2290 - accuracy: 0.9005 - val_loss: 0.4192 - val_accuracy: 0.8390\n",
            "Epoch 51/100\n",
            "63/63 [==============================] - 9s 145ms/step - loss: 0.2327 - accuracy: 0.9050 - val_loss: 0.3654 - val_accuracy: 0.8560\n",
            "Epoch 52/100\n",
            "63/63 [==============================] - 10s 156ms/step - loss: 0.2158 - accuracy: 0.9085 - val_loss: 0.3394 - val_accuracy: 0.8710\n",
            "Epoch 53/100\n",
            "63/63 [==============================] - 11s 167ms/step - loss: 0.1990 - accuracy: 0.9120 - val_loss: 0.7694 - val_accuracy: 0.7890\n",
            "Epoch 54/100\n",
            "63/63 [==============================] - 11s 164ms/step - loss: 0.1968 - accuracy: 0.9235 - val_loss: 0.7955 - val_accuracy: 0.7580\n",
            "Epoch 55/100\n",
            "63/63 [==============================] - 10s 148ms/step - loss: 0.2031 - accuracy: 0.9160 - val_loss: 0.4903 - val_accuracy: 0.8150\n",
            "Epoch 56/100\n",
            "63/63 [==============================] - 10s 156ms/step - loss: 0.1963 - accuracy: 0.9160 - val_loss: 0.7630 - val_accuracy: 0.7060\n",
            "Epoch 57/100\n",
            "63/63 [==============================] - 10s 145ms/step - loss: 0.1990 - accuracy: 0.9175 - val_loss: 0.3189 - val_accuracy: 0.8640\n",
            "Epoch 58/100\n",
            "63/63 [==============================] - 10s 158ms/step - loss: 0.1954 - accuracy: 0.9175 - val_loss: 0.4057 - val_accuracy: 0.8710\n",
            "Epoch 59/100\n",
            "63/63 [==============================] - 10s 153ms/step - loss: 0.1708 - accuracy: 0.9295 - val_loss: 0.5865 - val_accuracy: 0.8100\n",
            "Epoch 60/100\n",
            "63/63 [==============================] - 10s 155ms/step - loss: 0.2046 - accuracy: 0.9145 - val_loss: 0.3555 - val_accuracy: 0.8650\n",
            "Epoch 61/100\n",
            "63/63 [==============================] - 11s 168ms/step - loss: 0.1644 - accuracy: 0.9350 - val_loss: 1.2835 - val_accuracy: 0.6970\n",
            "Epoch 62/100\n",
            "63/63 [==============================] - 10s 148ms/step - loss: 0.1742 - accuracy: 0.9320 - val_loss: 0.4277 - val_accuracy: 0.8680\n",
            "Epoch 63/100\n",
            "63/63 [==============================] - 11s 164ms/step - loss: 0.1724 - accuracy: 0.9360 - val_loss: 0.3965 - val_accuracy: 0.8450\n",
            "Epoch 64/100\n",
            "63/63 [==============================] - 11s 165ms/step - loss: 0.1652 - accuracy: 0.9340 - val_loss: 0.6041 - val_accuracy: 0.8090\n",
            "Epoch 65/100\n",
            "63/63 [==============================] - 10s 151ms/step - loss: 0.1611 - accuracy: 0.9340 - val_loss: 0.4980 - val_accuracy: 0.8170\n",
            "Epoch 66/100\n",
            "63/63 [==============================] - 10s 163ms/step - loss: 0.1561 - accuracy: 0.9385 - val_loss: 0.4037 - val_accuracy: 0.8580\n",
            "Epoch 67/100\n",
            "63/63 [==============================] - 11s 169ms/step - loss: 0.1762 - accuracy: 0.9280 - val_loss: 0.4038 - val_accuracy: 0.8390\n",
            "Epoch 68/100\n",
            "63/63 [==============================] - 11s 167ms/step - loss: 0.1613 - accuracy: 0.9375 - val_loss: 1.0787 - val_accuracy: 0.6840\n",
            "Epoch 69/100\n",
            "63/63 [==============================] - 10s 158ms/step - loss: 0.1592 - accuracy: 0.9400 - val_loss: 0.6362 - val_accuracy: 0.7640\n",
            "Epoch 70/100\n",
            "63/63 [==============================] - 11s 168ms/step - loss: 0.1434 - accuracy: 0.9375 - val_loss: 0.3568 - val_accuracy: 0.9030\n",
            "Epoch 71/100\n",
            "63/63 [==============================] - 10s 154ms/step - loss: 0.1554 - accuracy: 0.9405 - val_loss: 0.4042 - val_accuracy: 0.8510\n",
            "Epoch 72/100\n",
            "63/63 [==============================] - 11s 168ms/step - loss: 0.1532 - accuracy: 0.9380 - val_loss: 0.5172 - val_accuracy: 0.8380\n",
            "Epoch 73/100\n",
            "63/63 [==============================] - 10s 153ms/step - loss: 0.1292 - accuracy: 0.9460 - val_loss: 0.5173 - val_accuracy: 0.8640\n",
            "Epoch 74/100\n",
            "63/63 [==============================] - 10s 156ms/step - loss: 0.1372 - accuracy: 0.9465 - val_loss: 0.4421 - val_accuracy: 0.8640\n",
            "Epoch 75/100\n",
            "63/63 [==============================] - 10s 155ms/step - loss: 0.1417 - accuracy: 0.9435 - val_loss: 2.4360 - val_accuracy: 0.6350\n",
            "Epoch 76/100\n",
            "63/63 [==============================] - 11s 170ms/step - loss: 0.1412 - accuracy: 0.9415 - val_loss: 0.5604 - val_accuracy: 0.8190\n",
            "Epoch 77/100\n",
            "63/63 [==============================] - 10s 147ms/step - loss: 0.1186 - accuracy: 0.9505 - val_loss: 0.3788 - val_accuracy: 0.8460\n",
            "Epoch 78/100\n",
            "63/63 [==============================] - 10s 158ms/step - loss: 0.1279 - accuracy: 0.9545 - val_loss: 0.3189 - val_accuracy: 0.8960\n",
            "Epoch 79/100\n",
            "63/63 [==============================] - 9s 145ms/step - loss: 0.1307 - accuracy: 0.9505 - val_loss: 1.2301 - val_accuracy: 0.7150\n",
            "Epoch 80/100\n",
            "63/63 [==============================] - 10s 155ms/step - loss: 0.1309 - accuracy: 0.9515 - val_loss: 2.1576 - val_accuracy: 0.6430\n",
            "Epoch 81/100\n",
            "63/63 [==============================] - 10s 163ms/step - loss: 0.1447 - accuracy: 0.9435 - val_loss: 0.6750 - val_accuracy: 0.7930\n",
            "Epoch 82/100\n",
            "63/63 [==============================] - 10s 155ms/step - loss: 0.1305 - accuracy: 0.9435 - val_loss: 0.4633 - val_accuracy: 0.8640\n",
            "Epoch 83/100\n",
            "63/63 [==============================] - 11s 166ms/step - loss: 0.1314 - accuracy: 0.9460 - val_loss: 0.3285 - val_accuracy: 0.8940\n",
            "Epoch 84/100\n",
            "63/63 [==============================] - 11s 174ms/step - loss: 0.1186 - accuracy: 0.9585 - val_loss: 0.2546 - val_accuracy: 0.9030\n",
            "Epoch 85/100\n",
            "63/63 [==============================] - 11s 165ms/step - loss: 0.1249 - accuracy: 0.9510 - val_loss: 0.8140 - val_accuracy: 0.7910\n",
            "Epoch 86/100\n",
            "63/63 [==============================] - 11s 165ms/step - loss: 0.1287 - accuracy: 0.9500 - val_loss: 0.4775 - val_accuracy: 0.8640\n",
            "Epoch 87/100\n",
            "63/63 [==============================] - 10s 149ms/step - loss: 0.1349 - accuracy: 0.9500 - val_loss: 0.3115 - val_accuracy: 0.9040\n",
            "Epoch 88/100\n",
            "63/63 [==============================] - 10s 158ms/step - loss: 0.1394 - accuracy: 0.9530 - val_loss: 0.2816 - val_accuracy: 0.8960\n",
            "Epoch 89/100\n",
            "63/63 [==============================] - 10s 159ms/step - loss: 0.1181 - accuracy: 0.9565 - val_loss: 0.4790 - val_accuracy: 0.8390\n",
            "Epoch 90/100\n",
            "63/63 [==============================] - 10s 150ms/step - loss: 0.1174 - accuracy: 0.9565 - val_loss: 0.3885 - val_accuracy: 0.8770\n",
            "Epoch 91/100\n",
            "63/63 [==============================] - 11s 169ms/step - loss: 0.1190 - accuracy: 0.9570 - val_loss: 0.3585 - val_accuracy: 0.8790\n",
            "Epoch 92/100\n",
            "63/63 [==============================] - 10s 155ms/step - loss: 0.1292 - accuracy: 0.9475 - val_loss: 0.2997 - val_accuracy: 0.8920\n",
            "Epoch 93/100\n",
            "63/63 [==============================] - 10s 157ms/step - loss: 0.1358 - accuracy: 0.9450 - val_loss: 0.3439 - val_accuracy: 0.9010\n",
            "Epoch 94/100\n",
            "63/63 [==============================] - 10s 155ms/step - loss: 0.1166 - accuracy: 0.9560 - val_loss: 0.4191 - val_accuracy: 0.8600\n",
            "Epoch 95/100\n",
            "63/63 [==============================] - 11s 172ms/step - loss: 0.1349 - accuracy: 0.9555 - val_loss: 0.3913 - val_accuracy: 0.8710\n",
            "Epoch 96/100\n",
            "63/63 [==============================] - 10s 155ms/step - loss: 0.1135 - accuracy: 0.9570 - val_loss: 0.6041 - val_accuracy: 0.8280\n",
            "Epoch 97/100\n",
            "63/63 [==============================] - 10s 154ms/step - loss: 0.1154 - accuracy: 0.9545 - val_loss: 0.2893 - val_accuracy: 0.9090\n",
            "Epoch 98/100\n",
            "63/63 [==============================] - 10s 152ms/step - loss: 0.0977 - accuracy: 0.9595 - val_loss: 0.4936 - val_accuracy: 0.8410\n",
            "Epoch 99/100\n",
            "63/63 [==============================] - 11s 165ms/step - loss: 0.1284 - accuracy: 0.9525 - val_loss: 0.3223 - val_accuracy: 0.8930\n",
            "Epoch 100/100\n",
            "63/63 [==============================] - 10s 148ms/step - loss: 0.1157 - accuracy: 0.9610 - val_loss: 0.3351 - val_accuracy: 0.9010\n"
          ]
        }
      ],
      "source": [
        "model.compile(loss=\"binary_crossentropy\",\n",
        "              optimizer=\"rmsprop\",\n",
        "              metrics=[\"accuracy\"])\n",
        "history = model.fit(\n",
        "    train_dataset,\n",
        "    epochs=100,\n",
        "    validation_data=validation_dataset)"
      ]
    },
    {
      "cell_type": "code",
      "execution_count": 11,
      "metadata": {
        "colab": {
          "base_uri": "https://localhost:8080/",
          "height": 887
        },
        "id": "EF7VzM_58F_-",
        "outputId": "53aaabac-6d3f-42dd-f831-9fe957eba8cf"
      },
      "outputs": [
        {
          "output_type": "display_data",
          "data": {
            "text/plain": [
              "<Figure size 640x480 with 1 Axes>"
            ],
            "image/png": "[encoded data removed]"
          },
          "metadata": {}
        },
        {
          "output_type": "display_data",
          "data": {
            "text/plain": [
              "<Figure size 640x480 with 1 Axes>"
            ],
            "image/png": "[encoded data removed]"
          },
          "metadata": {}
        }
      ],
      "source": [
        "import matplotlib.pyplot as plt\n",
        "accuracy = history.history[\"accuracy\"]\n",
        "val_accuracy = history.history[\"val_accuracy\"]\n",
        "loss = history.history[\"loss\"]\n",
        "val_loss = history.history[\"val_loss\"]\n",
        "epochs = range(1, len(accuracy) + 1)\n",
        "plt.plot(epochs, accuracy, \"bo\", label=\"Training accuracy\")\n",
        "plt.plot(epochs, val_accuracy, \"b\", label=\"Validation accuracy\")\n",
        "plt.title(\"Training and validation accuracy\")\n",
        "plt.legend()\n",
        "plt.figure()\n",
        "plt.plot(epochs, loss, \"bo\", label=\"Training loss\")\n",
        "plt.plot(epochs, val_loss, \"b\", label=\"Validation loss\")\n",
        "plt.title(\"Training and validation loss\")\n",
        "plt.legend()\n",
        "plt.show()"
      ]
    }
  ],
  "metadata": {
    "accelerator": "GPU",
    "colab": {
      "name": "chapter09_part02_modern-convnet-architecture-patterns.i",
      "provenance": [],
      "gpuType": "T4"
    },
    "kernelspec": {
      "display_name": "default:Python",
      "language": "python",
      "name": "conda-env-default-py"
    },
    "language_info": {
      "codemirror_mode": {
        "name": "ipython",
        "version": 3
      },
      "file_extension": ".py",
      "mimetype": "text/x-python",
      "name": "python",
      "nbconvert_exporter": "python",
      "pygments_lexer": "ipython3",
      "version": "3.9.10"
    }
  },
  "nbformat": 4,
  "nbformat_minor": 0
}