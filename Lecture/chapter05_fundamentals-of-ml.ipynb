{
  "cells": [
    {
      "cell_type": "markdown",
      "metadata": {
        "id": "dJlvY6QDTk2x"
      },
      "source": [
        "이 노트북은 [케라스 창시자에게 배우는 딥러닝 2판](https://tensorflow.blog/kerasdl2/)의 예제 코드를 담고 있습니다.\n",
        "\n",
        "<table align=\"left\">\n",
        "    <tr>\n",
        "        <td>\n",
        "            <a href=\"https://colab.research.google.com/github/rickiepark/deep-learning-with-python-2nd/blob/main/chapter05_fundamentals-of-ml.ipynb\" target=\"_parent\"><img src=\"https://colab.research.google.com/assets/colab-badge.svg\" alt=\"Open In Colab\"/></a>\n",
        "        </td>\n",
        "    </tr>\n",
        "</table>"
      ]
    },
    {
      "cell_type": "code",
      "source": [
        "# 코랩에서 메모리 부족을 피하기 위해 부동소수점 정밀도를 낮춥니다.\n",
        "import tensorflow as tf\n",
        "\n",
        "tf.keras.backend.set_floatx('float16')"
      ],
      "metadata": {
        "id": "RcrnxWzGPFqG"
      },
      "execution_count": null,
      "outputs": []
    },
    {
      "cell_type": "markdown",
      "metadata": {
        "id": "mPvlk_EMTk24"
      },
      "source": [
        "# 머신 러닝의 기본 요소"
      ]
    },
    {
      "cell_type": "markdown",
      "metadata": {
        "id": "QIwdb7e7Tk25"
      },
      "source": [
        "## 일반화: 머신 러닝의 목표"
      ]
    },
    {
      "cell_type": "markdown",
      "metadata": {
        "id": "tPMwQAH7Tk29"
      },
      "source": [
        "### 과소적합과 과대적합"
      ]
    },
    {
      "cell_type": "markdown",
      "metadata": {
        "id": "pGWJKdoUTk2-"
      },
      "source": [
        "#### 잡음 섞인 훈련 데이터"
      ]
    },
    {
      "cell_type": "markdown",
      "metadata": {
        "id": "6px_zXDbTk2_"
      },
      "source": [
        "#### 불확실한 특성"
      ]
    },
    {
      "cell_type": "markdown",
      "metadata": {
        "id": "QgElP-miTk3A"
      },
      "source": [
        "#### 드문 특성과 가짜 상관관계"
      ]
    },
    {
      "cell_type": "markdown",
      "metadata": {
        "id": "VfRNGJB8Tk3B"
      },
      "source": [
        "**MNIST에 백색 잡음 픽셀과 0 픽셀을 추가하기**"
      ]
    },
    {
      "cell_type": "code",
      "execution_count": 1,
      "metadata": {
        "execution": {
          "iopub.execute_input": "2022-05-21T01:01:24.254476Z",
          "iopub.status.busy": "2022-05-21T01:01:24.253958Z",
          "iopub.status.idle": "2022-05-21T01:01:27.373051Z",
          "shell.execute_reply": "2022-05-21T01:01:27.372074Z"
        },
        "id": "KBz18RQVTk3C",
        "outputId": "ead6bf07-0ae5-4a63-a0e7-91e46d414f1e",
        "colab": {
          "base_uri": "https://localhost:8080/"
        }
      },
      "outputs": [
        {
          "output_type": "stream",
          "name": "stdout",
          "text": [
            "Downloading data from https://storage.googleapis.com/tensorflow/tf-keras-datasets/mnist.npz\n",
            "11490434/11490434 [==============================] - 0s 0us/step\n"
          ]
        }
      ],
      "source": [
        "from tensorflow.keras.datasets import mnist\n",
        "import numpy as np\n",
        "\n",
        "(train_images, train_labels), _ = mnist.load_data()\n",
        "train_images = train_images.reshape((60000, 28 * 28))\n",
        "train_images = train_images.astype(\"float32\") / 255\n",
        "\n",
        "train_images_with_noise_channels = np.concatenate(\n",
        "    [train_images, np.random.random((len(train_images), 784))], axis=1)\n",
        "\n",
        "train_images_with_zeros_channels = np.concatenate(\n",
        "    [train_images, np.zeros((len(train_images), 784))], axis=1)"
      ]
    },
    {
      "cell_type": "code",
      "execution_count": 2,
      "metadata": {
        "execution": {
          "iopub.execute_input": "2022-05-21T01:01:27.377455Z",
          "iopub.status.busy": "2022-05-21T01:01:27.376945Z",
          "iopub.status.idle": "2022-05-21T01:01:27.388938Z",
          "shell.execute_reply": "2022-05-21T01:01:27.387917Z"
        },
        "id": "8cUOncJ1Tk3F",
        "outputId": "20d8a35a-791d-4c1d-e39e-1cfae2379558",
        "colab": {
          "base_uri": "https://localhost:8080/"
        }
      },
      "outputs": [
        {
          "output_type": "execute_result",
          "data": {
            "text/plain": [
              "(60000, 1568)"
            ]
          },
          "metadata": {},
          "execution_count": 2
        }
      ],
      "source": [
        "train_images_with_noise_channels.shape"
      ]
    },
    {
      "cell_type": "markdown",
      "metadata": {
        "id": "Eh9dzVI3Tk3I"
      },
      "source": [
        "**백색 잡음과 0을 추가한 MNIST 데이터에서 모델 훈련하기**"
      ]
    },
    {
      "cell_type": "code",
      "execution_count": 3,
      "metadata": {
        "execution": {
          "iopub.execute_input": "2022-05-21T01:01:27.392783Z",
          "iopub.status.busy": "2022-05-21T01:01:27.392444Z",
          "iopub.status.idle": "2022-05-21T01:02:25.502977Z",
          "shell.execute_reply": "2022-05-21T01:02:25.502078Z"
        },
        "id": "H8BUR0xETk3J",
        "outputId": "32cb704a-b25a-480d-e56e-43ccdbf55c59",
        "colab": {
          "base_uri": "https://localhost:8080/"
        }
      },
      "outputs": [
        {
          "output_type": "stream",
          "name": "stdout",
          "text": [
            "Epoch 1/10\n",
            "375/375 [==============================] - 4s 6ms/step - loss: 0.6117 - accuracy: 0.8124 - val_loss: 0.2665 - val_accuracy: 0.9211\n",
            "Epoch 2/10\n",
            "375/375 [==============================] - 1s 3ms/step - loss: 0.2568 - accuracy: 0.9210 - val_loss: 0.1876 - val_accuracy: 0.9436\n",
            "Epoch 3/10\n",
            "375/375 [==============================] - 1s 3ms/step - loss: 0.1676 - accuracy: 0.9479 - val_loss: 0.1809 - val_accuracy: 0.9470\n",
            "Epoch 4/10\n",
            "375/375 [==============================] - 1s 3ms/step - loss: 0.1187 - accuracy: 0.9635 - val_loss: 0.1838 - val_accuracy: 0.9469\n",
            "Epoch 5/10\n",
            "375/375 [==============================] - 1s 3ms/step - loss: 0.0880 - accuracy: 0.9724 - val_loss: 0.1128 - val_accuracy: 0.9674\n",
            "Epoch 6/10\n",
            "375/375 [==============================] - 1s 3ms/step - loss: 0.0648 - accuracy: 0.9791 - val_loss: 0.1297 - val_accuracy: 0.9614\n",
            "Epoch 7/10\n",
            "375/375 [==============================] - 1s 3ms/step - loss: 0.0479 - accuracy: 0.9844 - val_loss: 0.1181 - val_accuracy: 0.9682\n",
            "Epoch 8/10\n",
            "375/375 [==============================] - 1s 3ms/step - loss: 0.0343 - accuracy: 0.9891 - val_loss: 0.1326 - val_accuracy: 0.9628\n",
            "Epoch 9/10\n",
            "375/375 [==============================] - 1s 3ms/step - loss: 0.0255 - accuracy: 0.9918 - val_loss: 0.1285 - val_accuracy: 0.9653\n",
            "Epoch 10/10\n",
            "375/375 [==============================] - 2s 5ms/step - loss: 0.0197 - accuracy: 0.9940 - val_loss: 0.1388 - val_accuracy: 0.9675\n",
            "Epoch 1/10\n",
            "375/375 [==============================] - 2s 5ms/step - loss: 0.2997 - accuracy: 0.9129 - val_loss: 0.1496 - val_accuracy: 0.9565\n",
            "Epoch 2/10\n",
            "375/375 [==============================] - 1s 3ms/step - loss: 0.1252 - accuracy: 0.9629 - val_loss: 0.1069 - val_accuracy: 0.9691\n",
            "Epoch 3/10\n",
            "375/375 [==============================] - 2s 4ms/step - loss: 0.0813 - accuracy: 0.9762 - val_loss: 0.0900 - val_accuracy: 0.9745\n",
            "Epoch 4/10\n",
            "375/375 [==============================] - 2s 4ms/step - loss: 0.0595 - accuracy: 0.9825 - val_loss: 0.0799 - val_accuracy: 0.9755\n",
            "Epoch 5/10\n",
            "375/375 [==============================] - 1s 3ms/step - loss: 0.0440 - accuracy: 0.9873 - val_loss: 0.0799 - val_accuracy: 0.9771\n",
            "Epoch 6/10\n",
            "375/375 [==============================] - 1s 4ms/step - loss: 0.0326 - accuracy: 0.9906 - val_loss: 0.0843 - val_accuracy: 0.9765\n",
            "Epoch 7/10\n",
            "375/375 [==============================] - 2s 4ms/step - loss: 0.0255 - accuracy: 0.9927 - val_loss: 0.0840 - val_accuracy: 0.9766\n",
            "Epoch 8/10\n",
            "375/375 [==============================] - 2s 4ms/step - loss: 0.0190 - accuracy: 0.9948 - val_loss: 0.0899 - val_accuracy: 0.9742\n",
            "Epoch 9/10\n",
            "375/375 [==============================] - 1s 4ms/step - loss: 0.0145 - accuracy: 0.9960 - val_loss: 0.0767 - val_accuracy: 0.9797\n",
            "Epoch 10/10\n",
            "375/375 [==============================] - 1s 3ms/step - loss: 0.0105 - accuracy: 0.9975 - val_loss: 0.0744 - val_accuracy: 0.9797\n"
          ]
        }
      ],
      "source": [
        "from tensorflow import keras\n",
        "from tensorflow.keras import layers\n",
        "\n",
        "def get_model():\n",
        "    model = keras.Sequential([\n",
        "        layers.Dense(512, activation=\"relu\"),\n",
        "        layers.Dense(10, activation=\"softmax\")\n",
        "    ])\n",
        "    model.compile(optimizer=\"rmsprop\",\n",
        "                  loss=\"sparse_categorical_crossentropy\",\n",
        "                  metrics=[\"accuracy\"])\n",
        "    return model\n",
        "\n",
        "model = get_model()\n",
        "history_noise = model.fit(\n",
        "    train_images_with_noise_channels, train_labels,\n",
        "    epochs=10,\n",
        "    batch_size=128,\n",
        "    validation_split=0.2)\n",
        "\n",
        "model = get_model()\n",
        "history_zeros = model.fit(\n",
        "    train_images_with_zeros_channels, train_labels,\n",
        "    epochs=10,\n",
        "    batch_size=128,\n",
        "    validation_split=0.2)"
      ]
    },
    {
      "cell_type": "markdown",
      "metadata": {
        "id": "Vx3EJaPaTk3K"
      },
      "source": [
        "**검증 정확도 비교 그래프 그리기**"
      ]
    },
    {
      "cell_type": "code",
      "execution_count": 4,
      "metadata": {
        "execution": {
          "iopub.execute_input": "2022-05-21T01:02:25.507068Z",
          "iopub.status.busy": "2022-05-21T01:02:25.506610Z",
          "iopub.status.idle": "2022-05-21T01:02:26.352048Z",
          "shell.execute_reply": "2022-05-21T01:02:26.351089Z"
        },
        "id": "FZnn2Uw4Tk3L",
        "outputId": "317ab3a7-f8c2-4cf2-8004-69cfcddf4958",
        "colab": {
          "base_uri": "https://localhost:8080/",
          "height": 472
        }
      },
      "outputs": [
        {
          "output_type": "display_data",
          "data": {
            "text/plain": [
              "<Figure size 640x480 with 1 Axes>"
            ],
            "image/png": "[encoded data removed]"
          },
          "metadata": {}
        }
      ],
      "source": [
        "import matplotlib.pyplot as plt\n",
        "val_acc_noise = history_noise.history[\"val_accuracy\"]\n",
        "val_acc_zeros = history_zeros.history[\"val_accuracy\"]\n",
        "epochs = range(1, 11)\n",
        "plt.plot(epochs, val_acc_noise, \"b-\",\n",
        "         label=\"Validation accuracy with noise channels\")\n",
        "plt.plot(epochs, val_acc_zeros, \"b--\",\n",
        "         label=\"Validation accuracy with zeros channels\")\n",
        "plt.title(\"Effect of noise channels on validation accuracy\")\n",
        "plt.xlabel(\"Epochs\")\n",
        "plt.ylabel(\"Accuracy\")\n",
        "plt.legend()\n",
        "plt.show()"
      ]
    },
    {
      "cell_type": "code",
      "source": [
        "from tensorflow import keras\n",
        "from tensorflow.keras import layers\n",
        "\n",
        "def get_model():\n",
        "    model = keras.Sequential([\n",
        "        layers.Dense(512, activation=\"relu\"),\n",
        "        layers.Dense(10, activation=\"softmax\")\n",
        "    ])\n",
        "    model.compile(optimizer=\"rmsprop\",\n",
        "                  loss=\"sparse_categorical_crossentropy\",\n",
        "                  metrics=[\"accuracy\"])\n",
        "    return model\n",
        "\n",
        "model = get_model()\n",
        "history_original = model.fit(\n",
        "    train_images, train_labels,\n",
        "    epochs=10,\n",
        "    batch_size=128,\n",
        "    validation_split=0.2)\n"
      ],
      "metadata": {
        "id": "rEo48590Z9vQ",
        "outputId": "3a1016f0-2b13-480d-f6ee-1d06ec08082c",
        "colab": {
          "base_uri": "https://localhost:8080/"
        }
      },
      "execution_count": 5,
      "outputs": [
        {
          "output_type": "stream",
          "name": "stdout",
          "text": [
            "Epoch 1/10\n",
            "375/375 [==============================] - 2s 4ms/step - loss: 0.2972 - accuracy: 0.9153 - val_loss: 0.1709 - val_accuracy: 0.9508\n",
            "Epoch 2/10\n",
            "375/375 [==============================] - 1s 3ms/step - loss: 0.1232 - accuracy: 0.9646 - val_loss: 0.1048 - val_accuracy: 0.9698\n",
            "Epoch 3/10\n",
            "375/375 [==============================] - 1s 3ms/step - loss: 0.0814 - accuracy: 0.9766 - val_loss: 0.0977 - val_accuracy: 0.9718\n",
            "Epoch 4/10\n",
            "375/375 [==============================] - 1s 4ms/step - loss: 0.0582 - accuracy: 0.9830 - val_loss: 0.0817 - val_accuracy: 0.9754\n",
            "Epoch 5/10\n",
            "375/375 [==============================] - 1s 3ms/step - loss: 0.0438 - accuracy: 0.9872 - val_loss: 0.0914 - val_accuracy: 0.9723\n",
            "Epoch 6/10\n",
            "375/375 [==============================] - 1s 3ms/step - loss: 0.0324 - accuracy: 0.9901 - val_loss: 0.0827 - val_accuracy: 0.9753\n",
            "Epoch 7/10\n",
            "375/375 [==============================] - 2s 4ms/step - loss: 0.0249 - accuracy: 0.9929 - val_loss: 0.0762 - val_accuracy: 0.9797\n",
            "Epoch 8/10\n",
            "375/375 [==============================] - 1s 4ms/step - loss: 0.0191 - accuracy: 0.9947 - val_loss: 0.0782 - val_accuracy: 0.9771\n",
            "Epoch 9/10\n",
            "375/375 [==============================] - 1s 3ms/step - loss: 0.0137 - accuracy: 0.9966 - val_loss: 0.0754 - val_accuracy: 0.9803\n",
            "Epoch 10/10\n",
            "375/375 [==============================] - 1s 4ms/step - loss: 0.0100 - accuracy: 0.9977 - val_loss: 0.0820 - val_accuracy: 0.9795\n"
          ]
        }
      ]
    },
    {
      "cell_type": "code",
      "source": [
        "import matplotlib.pyplot as plt\n",
        "val_acc_noise = history_noise.history[\"val_accuracy\"]\n",
        "val_acc_zeros = history_zeros.history[\"val_accuracy\"]\n",
        "val_acc_original = history_original.history[\"val_accuracy\"]\n",
        "epochs = range(1, 11)\n",
        "plt.plot(epochs, val_acc_noise, \"b-\",\n",
        "         label=\"Validation accuracy with noise channels\")\n",
        "plt.plot(epochs, val_acc_zeros, \"b--\",\n",
        "         label=\"Validation accuracy with zeros channels\")\n",
        "plt.plot(epochs, val_acc_original, \"r-\",\n",
        "         label=\"Validation accuracy with original channels\")\n",
        "plt.title(\"Effect of noise channels on validation accuracy\")\n",
        "plt.xlabel(\"Epochs\")\n",
        "plt.ylabel(\"Accuracy\")\n",
        "plt.legend()\n",
        "plt.show()"
      ],
      "metadata": {
        "id": "KpfFemR_aOzd",
        "outputId": "9d454672-2a04-4d86-e79e-30b6e827d1bc",
        "colab": {
          "base_uri": "https://localhost:8080/",
          "height": 472
        }
      },
      "execution_count": 9,
      "outputs": [
        {
          "output_type": "display_data",
          "data": {
            "text/plain": [
              "<Figure size 640x480 with 1 Axes>"
            ],
            "image/png": "[encoded data removed]"
          },
          "metadata": {}
        }
      ]
    },
    {
      "cell_type": "markdown",
      "metadata": {
        "id": "ve-7nJARTk3N"
      },
      "source": [
        "### 딥러닝에서 일반화의 본질"
      ]
    },
    {
      "cell_type": "markdown",
      "metadata": {
        "id": "mMxFZdiQTk3O"
      },
      "source": [
        "**랜덤하게 섞은 레이블로 MNIST 모델 훈련하기**"
      ]
    },
    {
      "cell_type": "code",
      "execution_count": 10,
      "metadata": {
        "execution": {
          "iopub.execute_input": "2022-05-21T01:02:26.358294Z",
          "iopub.status.busy": "2022-05-21T01:02:26.357787Z",
          "iopub.status.idle": "2022-05-21T01:05:33.171731Z",
          "shell.execute_reply": "2022-05-21T01:05:33.170427Z"
        },
        "id": "8ocMHIMMTk3O",
        "outputId": "86ff7e0e-2eaf-424e-c240-e9308114462d",
        "colab": {
          "base_uri": "https://localhost:8080/"
        }
      },
      "outputs": [
        {
          "output_type": "stream",
          "name": "stdout",
          "text": [
            "Epoch 1/100\n",
            "375/375 [==============================] - 2s 5ms/step - loss: 2.3153 - accuracy: 0.1045 - val_loss: 2.3049 - val_accuracy: 0.1071\n",
            "Epoch 2/100\n",
            "375/375 [==============================] - 1s 3ms/step - loss: 2.2989 - accuracy: 0.1157 - val_loss: 2.3139 - val_accuracy: 0.0985\n",
            "Epoch 3/100\n",
            "375/375 [==============================] - 1s 3ms/step - loss: 2.2895 - accuracy: 0.1279 - val_loss: 2.3186 - val_accuracy: 0.1070\n",
            "Epoch 4/100\n",
            "375/375 [==============================] - 1s 3ms/step - loss: 2.2777 - accuracy: 0.1384 - val_loss: 2.3261 - val_accuracy: 0.1029\n",
            "Epoch 5/100\n",
            "375/375 [==============================] - 2s 4ms/step - loss: 2.2608 - accuracy: 0.1517 - val_loss: 2.3333 - val_accuracy: 0.1048\n",
            "Epoch 6/100\n",
            "375/375 [==============================] - 1s 4ms/step - loss: 2.2407 - accuracy: 0.1672 - val_loss: 2.3455 - val_accuracy: 0.1018\n",
            "Epoch 7/100\n",
            "375/375 [==============================] - 1s 3ms/step - loss: 2.2169 - accuracy: 0.1820 - val_loss: 2.3653 - val_accuracy: 0.0977\n",
            "Epoch 8/100\n",
            "375/375 [==============================] - 1s 3ms/step - loss: 2.1895 - accuracy: 0.1982 - val_loss: 2.3882 - val_accuracy: 0.1028\n",
            "Epoch 9/100\n",
            "375/375 [==============================] - 1s 3ms/step - loss: 2.1586 - accuracy: 0.2146 - val_loss: 2.4025 - val_accuracy: 0.1034\n",
            "Epoch 10/100\n",
            "375/375 [==============================] - 1s 4ms/step - loss: 2.1270 - accuracy: 0.2331 - val_loss: 2.4213 - val_accuracy: 0.1011\n",
            "Epoch 11/100\n",
            "375/375 [==============================] - 1s 4ms/step - loss: 2.0908 - accuracy: 0.2504 - val_loss: 2.4501 - val_accuracy: 0.1031\n",
            "Epoch 12/100\n",
            "375/375 [==============================] - 1s 3ms/step - loss: 2.0542 - accuracy: 0.2680 - val_loss: 2.4764 - val_accuracy: 0.1045\n",
            "Epoch 13/100\n",
            "375/375 [==============================] - 1s 3ms/step - loss: 2.0155 - accuracy: 0.2856 - val_loss: 2.5029 - val_accuracy: 0.1047\n",
            "Epoch 14/100\n",
            "375/375 [==============================] - 1s 3ms/step - loss: 1.9780 - accuracy: 0.2988 - val_loss: 2.5393 - val_accuracy: 0.1037\n",
            "Epoch 15/100\n",
            "375/375 [==============================] - 1s 3ms/step - loss: 1.9365 - accuracy: 0.3175 - val_loss: 2.5878 - val_accuracy: 0.1018\n",
            "Epoch 16/100\n",
            "375/375 [==============================] - 1s 3ms/step - loss: 1.8985 - accuracy: 0.3343 - val_loss: 2.6050 - val_accuracy: 0.1045\n",
            "Epoch 17/100\n",
            "375/375 [==============================] - 1s 3ms/step - loss: 1.8593 - accuracy: 0.3477 - val_loss: 2.6471 - val_accuracy: 0.1077\n",
            "Epoch 18/100\n",
            "375/375 [==============================] - 1s 3ms/step - loss: 1.8205 - accuracy: 0.3643 - val_loss: 2.6839 - val_accuracy: 0.1060\n",
            "Epoch 19/100\n",
            "375/375 [==============================] - 1s 4ms/step - loss: 1.7822 - accuracy: 0.3786 - val_loss: 2.7324 - val_accuracy: 0.0999\n",
            "Epoch 20/100\n",
            "375/375 [==============================] - 2s 4ms/step - loss: 1.7425 - accuracy: 0.3954 - val_loss: 2.7591 - val_accuracy: 0.1067\n",
            "Epoch 21/100\n",
            "375/375 [==============================] - 1s 3ms/step - loss: 1.7059 - accuracy: 0.4101 - val_loss: 2.8050 - val_accuracy: 0.1037\n",
            "Epoch 22/100\n",
            "375/375 [==============================] - 1s 4ms/step - loss: 1.6682 - accuracy: 0.4229 - val_loss: 2.8383 - val_accuracy: 0.1035\n",
            "Epoch 23/100\n",
            "375/375 [==============================] - 1s 3ms/step - loss: 1.6322 - accuracy: 0.4380 - val_loss: 2.8774 - val_accuracy: 0.1032\n",
            "Epoch 24/100\n",
            "375/375 [==============================] - 1s 3ms/step - loss: 1.5977 - accuracy: 0.4510 - val_loss: 2.9447 - val_accuracy: 0.1018\n",
            "Epoch 25/100\n",
            "375/375 [==============================] - 1s 3ms/step - loss: 1.5618 - accuracy: 0.4616 - val_loss: 2.9997 - val_accuracy: 0.1013\n",
            "Epoch 26/100\n",
            "375/375 [==============================] - 1s 3ms/step - loss: 1.5267 - accuracy: 0.4766 - val_loss: 3.0290 - val_accuracy: 0.1014\n",
            "Epoch 27/100\n",
            "375/375 [==============================] - 1s 3ms/step - loss: 1.4935 - accuracy: 0.4890 - val_loss: 3.0815 - val_accuracy: 0.1036\n",
            "Epoch 28/100\n",
            "375/375 [==============================] - 1s 3ms/step - loss: 1.4597 - accuracy: 0.5026 - val_loss: 3.1250 - val_accuracy: 0.0988\n",
            "Epoch 29/100\n",
            "375/375 [==============================] - 2s 4ms/step - loss: 1.4290 - accuracy: 0.5135 - val_loss: 3.1717 - val_accuracy: 0.1010\n",
            "Epoch 30/100\n",
            "375/375 [==============================] - 1s 3ms/step - loss: 1.3995 - accuracy: 0.5251 - val_loss: 3.2393 - val_accuracy: 0.0992\n",
            "Epoch 31/100\n",
            "375/375 [==============================] - 1s 3ms/step - loss: 1.3671 - accuracy: 0.5365 - val_loss: 3.2851 - val_accuracy: 0.1049\n",
            "Epoch 32/100\n",
            "375/375 [==============================] - 1s 3ms/step - loss: 1.3389 - accuracy: 0.5464 - val_loss: 3.3332 - val_accuracy: 0.1000\n",
            "Epoch 33/100\n",
            "375/375 [==============================] - 1s 3ms/step - loss: 1.3101 - accuracy: 0.5558 - val_loss: 3.3811 - val_accuracy: 0.1013\n",
            "Epoch 34/100\n",
            "375/375 [==============================] - 1s 3ms/step - loss: 1.2812 - accuracy: 0.5686 - val_loss: 3.4307 - val_accuracy: 0.1013\n",
            "Epoch 35/100\n",
            "375/375 [==============================] - 1s 3ms/step - loss: 1.2523 - accuracy: 0.5798 - val_loss: 3.4900 - val_accuracy: 0.0993\n",
            "Epoch 36/100\n",
            "375/375 [==============================] - 1s 3ms/step - loss: 1.2265 - accuracy: 0.5861 - val_loss: 3.5267 - val_accuracy: 0.0990\n",
            "Epoch 37/100\n",
            "375/375 [==============================] - 1s 3ms/step - loss: 1.1992 - accuracy: 0.5961 - val_loss: 3.6006 - val_accuracy: 0.1042\n",
            "Epoch 38/100\n",
            "375/375 [==============================] - 2s 4ms/step - loss: 1.1760 - accuracy: 0.6061 - val_loss: 3.6447 - val_accuracy: 0.0985\n",
            "Epoch 39/100\n",
            "375/375 [==============================] - 1s 4ms/step - loss: 1.1497 - accuracy: 0.6160 - val_loss: 3.7119 - val_accuracy: 0.0999\n",
            "Epoch 40/100\n",
            "375/375 [==============================] - 1s 3ms/step - loss: 1.1261 - accuracy: 0.6238 - val_loss: 3.7892 - val_accuracy: 0.1003\n",
            "Epoch 41/100\n",
            "375/375 [==============================] - 2s 4ms/step - loss: 1.1026 - accuracy: 0.6304 - val_loss: 3.8128 - val_accuracy: 0.1030\n",
            "Epoch 42/100\n",
            "375/375 [==============================] - 1s 4ms/step - loss: 1.0769 - accuracy: 0.6406 - val_loss: 3.9085 - val_accuracy: 0.0994\n",
            "Epoch 43/100\n",
            "375/375 [==============================] - 1s 3ms/step - loss: 1.0562 - accuracy: 0.6481 - val_loss: 3.9493 - val_accuracy: 0.1002\n",
            "Epoch 44/100\n",
            "375/375 [==============================] - 1s 3ms/step - loss: 1.0332 - accuracy: 0.6553 - val_loss: 4.0342 - val_accuracy: 0.0988\n",
            "Epoch 45/100\n",
            "375/375 [==============================] - 1s 3ms/step - loss: 1.0093 - accuracy: 0.6638 - val_loss: 4.0805 - val_accuracy: 0.1033\n",
            "Epoch 46/100\n",
            "375/375 [==============================] - 1s 3ms/step - loss: 0.9916 - accuracy: 0.6712 - val_loss: 4.1613 - val_accuracy: 0.1002\n",
            "Epoch 47/100\n",
            "375/375 [==============================] - 2s 4ms/step - loss: 0.9676 - accuracy: 0.6779 - val_loss: 4.2309 - val_accuracy: 0.0996\n",
            "Epoch 48/100\n",
            "375/375 [==============================] - 2s 4ms/step - loss: 0.9461 - accuracy: 0.6879 - val_loss: 4.2754 - val_accuracy: 0.0970\n",
            "Epoch 49/100\n",
            "375/375 [==============================] - 1s 3ms/step - loss: 0.9299 - accuracy: 0.6927 - val_loss: 4.3252 - val_accuracy: 0.1025\n",
            "Epoch 50/100\n",
            "375/375 [==============================] - 1s 3ms/step - loss: 0.9078 - accuracy: 0.7007 - val_loss: 4.4033 - val_accuracy: 0.1029\n",
            "Epoch 51/100\n",
            "375/375 [==============================] - 1s 3ms/step - loss: 0.8917 - accuracy: 0.7060 - val_loss: 4.4754 - val_accuracy: 0.1033\n",
            "Epoch 52/100\n",
            "375/375 [==============================] - 1s 3ms/step - loss: 0.8735 - accuracy: 0.7117 - val_loss: 4.5765 - val_accuracy: 0.0998\n",
            "Epoch 53/100\n",
            "375/375 [==============================] - 1s 3ms/step - loss: 0.8538 - accuracy: 0.7190 - val_loss: 4.6011 - val_accuracy: 0.1008\n",
            "Epoch 54/100\n",
            "375/375 [==============================] - 1s 3ms/step - loss: 0.8356 - accuracy: 0.7248 - val_loss: 4.7019 - val_accuracy: 0.1031\n",
            "Epoch 55/100\n",
            "375/375 [==============================] - 1s 3ms/step - loss: 0.8205 - accuracy: 0.7305 - val_loss: 4.7506 - val_accuracy: 0.1053\n",
            "Epoch 56/100\n",
            "375/375 [==============================] - 1s 4ms/step - loss: 0.8024 - accuracy: 0.7363 - val_loss: 4.8298 - val_accuracy: 0.0981\n",
            "Epoch 57/100\n",
            "375/375 [==============================] - 2s 4ms/step - loss: 0.7842 - accuracy: 0.7441 - val_loss: 4.8819 - val_accuracy: 0.0978\n",
            "Epoch 58/100\n",
            "375/375 [==============================] - 1s 3ms/step - loss: 0.7727 - accuracy: 0.7483 - val_loss: 4.9808 - val_accuracy: 0.1008\n",
            "Epoch 59/100\n",
            "375/375 [==============================] - 1s 3ms/step - loss: 0.7534 - accuracy: 0.7556 - val_loss: 5.0267 - val_accuracy: 0.0990\n",
            "Epoch 60/100\n",
            "375/375 [==============================] - 1s 4ms/step - loss: 0.7410 - accuracy: 0.7595 - val_loss: 5.0609 - val_accuracy: 0.0999\n",
            "Epoch 61/100\n",
            "375/375 [==============================] - 1s 4ms/step - loss: 0.7248 - accuracy: 0.7652 - val_loss: 5.1275 - val_accuracy: 0.0999\n",
            "Epoch 62/100\n",
            "375/375 [==============================] - 1s 3ms/step - loss: 0.7091 - accuracy: 0.7700 - val_loss: 5.2058 - val_accuracy: 0.1007\n",
            "Epoch 63/100\n",
            "375/375 [==============================] - 1s 3ms/step - loss: 0.6948 - accuracy: 0.7726 - val_loss: 5.3339 - val_accuracy: 0.0975\n",
            "Epoch 64/100\n",
            "375/375 [==============================] - 1s 3ms/step - loss: 0.6809 - accuracy: 0.7805 - val_loss: 5.3580 - val_accuracy: 0.1021\n",
            "Epoch 65/100\n",
            "375/375 [==============================] - 1s 3ms/step - loss: 0.6674 - accuracy: 0.7856 - val_loss: 5.4381 - val_accuracy: 0.1032\n",
            "Epoch 66/100\n",
            "375/375 [==============================] - 2s 4ms/step - loss: 0.6547 - accuracy: 0.7879 - val_loss: 5.5107 - val_accuracy: 0.1002\n",
            "Epoch 67/100\n",
            "375/375 [==============================] - 1s 4ms/step - loss: 0.6405 - accuracy: 0.7948 - val_loss: 5.5291 - val_accuracy: 0.0989\n",
            "Epoch 68/100\n",
            "375/375 [==============================] - 1s 3ms/step - loss: 0.6289 - accuracy: 0.7970 - val_loss: 5.6388 - val_accuracy: 0.1023\n",
            "Epoch 69/100\n",
            "375/375 [==============================] - 1s 3ms/step - loss: 0.6172 - accuracy: 0.8000 - val_loss: 5.6943 - val_accuracy: 0.1003\n",
            "Epoch 70/100\n",
            "375/375 [==============================] - 1s 3ms/step - loss: 0.6029 - accuracy: 0.8077 - val_loss: 5.7933 - val_accuracy: 0.1001\n",
            "Epoch 71/100\n",
            "375/375 [==============================] - 1s 3ms/step - loss: 0.5918 - accuracy: 0.8091 - val_loss: 5.8822 - val_accuracy: 0.0978\n",
            "Epoch 72/100\n",
            "375/375 [==============================] - 1s 3ms/step - loss: 0.5796 - accuracy: 0.8140 - val_loss: 5.9523 - val_accuracy: 0.0964\n",
            "Epoch 73/100\n",
            "375/375 [==============================] - 1s 3ms/step - loss: 0.5680 - accuracy: 0.8191 - val_loss: 6.0294 - val_accuracy: 0.0995\n",
            "Epoch 74/100\n",
            "375/375 [==============================] - 1s 3ms/step - loss: 0.5574 - accuracy: 0.8229 - val_loss: 6.1050 - val_accuracy: 0.1015\n",
            "Epoch 75/100\n",
            "375/375 [==============================] - 1s 4ms/step - loss: 0.5481 - accuracy: 0.8261 - val_loss: 6.1536 - val_accuracy: 0.1003\n",
            "Epoch 76/100\n",
            "375/375 [==============================] - 2s 4ms/step - loss: 0.5358 - accuracy: 0.8288 - val_loss: 6.2398 - val_accuracy: 0.1011\n",
            "Epoch 77/100\n",
            "375/375 [==============================] - 1s 3ms/step - loss: 0.5253 - accuracy: 0.8333 - val_loss: 6.2703 - val_accuracy: 0.0988\n",
            "Epoch 78/100\n",
            "375/375 [==============================] - 1s 3ms/step - loss: 0.5177 - accuracy: 0.8343 - val_loss: 6.3530 - val_accuracy: 0.0979\n",
            "Epoch 79/100\n",
            "375/375 [==============================] - 1s 3ms/step - loss: 0.5053 - accuracy: 0.8391 - val_loss: 6.4627 - val_accuracy: 0.0983\n",
            "Epoch 80/100\n",
            "375/375 [==============================] - 1s 3ms/step - loss: 0.4942 - accuracy: 0.8440 - val_loss: 6.5055 - val_accuracy: 0.0999\n",
            "Epoch 81/100\n",
            "375/375 [==============================] - 1s 3ms/step - loss: 0.4839 - accuracy: 0.8470 - val_loss: 6.5991 - val_accuracy: 0.0999\n",
            "Epoch 82/100\n",
            "375/375 [==============================] - 1s 3ms/step - loss: 0.4759 - accuracy: 0.8495 - val_loss: 6.6877 - val_accuracy: 0.0975\n",
            "Epoch 83/100\n",
            "375/375 [==============================] - 1s 3ms/step - loss: 0.4665 - accuracy: 0.8529 - val_loss: 6.7283 - val_accuracy: 0.0994\n",
            "Epoch 84/100\n",
            "375/375 [==============================] - 1s 3ms/step - loss: 0.4569 - accuracy: 0.8556 - val_loss: 6.8258 - val_accuracy: 0.1039\n",
            "Epoch 85/100\n",
            "375/375 [==============================] - 1s 4ms/step - loss: 0.4487 - accuracy: 0.8578 - val_loss: 6.9596 - val_accuracy: 0.0996\n",
            "Epoch 86/100\n",
            "375/375 [==============================] - 1s 4ms/step - loss: 0.4421 - accuracy: 0.8616 - val_loss: 7.0004 - val_accuracy: 0.0988\n",
            "Epoch 87/100\n",
            "375/375 [==============================] - 1s 4ms/step - loss: 0.4340 - accuracy: 0.8644 - val_loss: 7.0469 - val_accuracy: 0.1007\n",
            "Epoch 88/100\n",
            "375/375 [==============================] - 1s 3ms/step - loss: 0.4237 - accuracy: 0.8671 - val_loss: 7.1385 - val_accuracy: 0.1013\n",
            "Epoch 89/100\n",
            "375/375 [==============================] - 1s 3ms/step - loss: 0.4178 - accuracy: 0.8685 - val_loss: 7.1647 - val_accuracy: 0.0998\n",
            "Epoch 90/100\n",
            "375/375 [==============================] - 1s 3ms/step - loss: 0.4069 - accuracy: 0.8743 - val_loss: 7.2432 - val_accuracy: 0.1001\n",
            "Epoch 91/100\n",
            "375/375 [==============================] - 1s 3ms/step - loss: 0.4009 - accuracy: 0.8782 - val_loss: 7.3174 - val_accuracy: 0.1000\n",
            "Epoch 92/100\n",
            "375/375 [==============================] - 1s 3ms/step - loss: 0.3935 - accuracy: 0.8784 - val_loss: 7.3905 - val_accuracy: 0.1010\n",
            "Epoch 93/100\n",
            "375/375 [==============================] - 1s 3ms/step - loss: 0.3867 - accuracy: 0.8786 - val_loss: 7.4531 - val_accuracy: 0.1023\n",
            "Epoch 94/100\n",
            "375/375 [==============================] - 1s 3ms/step - loss: 0.3801 - accuracy: 0.8813 - val_loss: 7.6086 - val_accuracy: 0.1007\n",
            "Epoch 95/100\n",
            "375/375 [==============================] - 2s 5ms/step - loss: 0.3749 - accuracy: 0.8829 - val_loss: 7.6038 - val_accuracy: 0.1054\n",
            "Epoch 96/100\n",
            "375/375 [==============================] - 1s 3ms/step - loss: 0.3660 - accuracy: 0.8864 - val_loss: 7.7143 - val_accuracy: 0.1032\n",
            "Epoch 97/100\n",
            "375/375 [==============================] - 1s 3ms/step - loss: 0.3617 - accuracy: 0.8865 - val_loss: 7.7810 - val_accuracy: 0.0979\n",
            "Epoch 98/100\n",
            "375/375 [==============================] - 1s 3ms/step - loss: 0.3513 - accuracy: 0.8909 - val_loss: 7.8588 - val_accuracy: 0.0997\n",
            "Epoch 99/100\n",
            "375/375 [==============================] - 1s 3ms/step - loss: 0.3473 - accuracy: 0.8931 - val_loss: 7.9789 - val_accuracy: 0.1017\n",
            "Epoch 100/100\n",
            "375/375 [==============================] - 1s 3ms/step - loss: 0.3412 - accuracy: 0.8966 - val_loss: 8.0295 - val_accuracy: 0.1003\n"
          ]
        },
        {
          "output_type": "execute_result",
          "data": {
            "text/plain": [
              "<keras.src.callbacks.History at 0x7d27c4247130>"
            ]
          },
          "metadata": {},
          "execution_count": 10
        }
      ],
      "source": [
        "(train_images, train_labels), _ = mnist.load_data()\n",
        "train_images = train_images.reshape((60000, 28 * 28))\n",
        "train_images = train_images.astype(\"float32\") / 255\n",
        "\n",
        "random_train_labels = train_labels[:]\n",
        "np.random.shuffle(random_train_labels)\n",
        "\n",
        "model = keras.Sequential([\n",
        "    layers.Dense(512, activation=\"relu\"),\n",
        "    layers.Dense(10, activation=\"softmax\")\n",
        "])\n",
        "model.compile(optimizer=\"rmsprop\",\n",
        "              loss=\"sparse_categorical_crossentropy\",\n",
        "              metrics=[\"accuracy\"])\n",
        "model.fit(train_images, random_train_labels,\n",
        "          epochs=100,\n",
        "          batch_size=128,\n",
        "          validation_split=0.2)"
      ]
    },
    {
      "cell_type": "markdown",
      "metadata": {
        "id": "oXAyqCrXTk3P"
      },
      "source": [
        "#### 매니폴드 가설"
      ]
    },
    {
      "cell_type": "markdown",
      "metadata": {
        "id": "L0Uvbr43Tk3P"
      },
      "source": [
        "#### 일반화의 원천인 보간"
      ]
    },
    {
      "cell_type": "markdown",
      "metadata": {
        "id": "pHMR5mNZTk3P"
      },
      "source": [
        "#### 딥러닝이 작동하는 이유"
      ]
    },
    {
      "cell_type": "markdown",
      "metadata": {
        "id": "eb0YYZR4Tk3P"
      },
      "source": [
        "#### 가장 중요한 훈련 데이터"
      ]
    },
    {
      "cell_type": "markdown",
      "metadata": {
        "id": "PunfvZ7uTk3Q"
      },
      "source": [
        "## 머신 러닝 모델 평가"
      ]
    },
    {
      "cell_type": "markdown",
      "metadata": {
        "id": "5P4VJfMFTk3Q"
      },
      "source": [
        "### 훈련, 검증, 테스트 세트"
      ]
    },
    {
      "cell_type": "markdown",
      "metadata": {
        "id": "mrwB851-Tk3Q"
      },
      "source": [
        "#### 단순 홀드아웃 검증"
      ]
    },
    {
      "cell_type": "markdown",
      "metadata": {
        "id": "1sEzzYjjTk3R"
      },
      "source": [
        "#### K-겹 교차 검증"
      ]
    },
    {
      "cell_type": "markdown",
      "metadata": {
        "id": "XYrpFDZQTk3R"
      },
      "source": [
        "#### 셔플링을 사용한 반복 K-겹 교차 검증"
      ]
    },
    {
      "cell_type": "markdown",
      "metadata": {
        "id": "kngFjE0QTk3R"
      },
      "source": [
        "### 상식 수준의 기준점을 넘기"
      ]
    },
    {
      "cell_type": "markdown",
      "metadata": {
        "id": "czziT5WVTk3R"
      },
      "source": [
        "### 모델 평가에 대해 유념해야 할 점"
      ]
    },
    {
      "cell_type": "markdown",
      "metadata": {
        "id": "p6nofQfTTk3R"
      },
      "source": [
        "## 훈련 성능 향상하기"
      ]
    },
    {
      "cell_type": "markdown",
      "metadata": {
        "id": "XtWaoT4BTk3S"
      },
      "source": [
        "### 경사 하강법의 핵심 파라미터 튜닝하기"
      ]
    },
    {
      "cell_type": "markdown",
      "metadata": {
        "id": "pRY-dxWTTk3S"
      },
      "source": [
        "**잘못된 높은 학습률로 MNIST 모델 훈련하기**"
      ]
    },
    {
      "cell_type": "code",
      "execution_count": 11,
      "metadata": {
        "execution": {
          "iopub.execute_input": "2022-05-21T01:05:33.177460Z",
          "iopub.status.busy": "2022-05-21T01:05:33.177117Z",
          "iopub.status.idle": "2022-05-21T01:05:52.585061Z",
          "shell.execute_reply": "2022-05-21T01:05:52.584241Z"
        },
        "id": "ZqvcFMPRTk3T",
        "outputId": "be1d0601-264b-463f-a35e-c210e67ee860",
        "colab": {
          "base_uri": "https://localhost:8080/"
        }
      },
      "outputs": [
        {
          "output_type": "stream",
          "name": "stdout",
          "text": [
            "Epoch 1/10\n",
            "375/375 [==============================] - 2s 4ms/step - loss: 425.2138 - accuracy: 0.3077 - val_loss: 2.2497 - val_accuracy: 0.1953\n",
            "Epoch 2/10\n",
            "375/375 [==============================] - 1s 3ms/step - loss: 2.8135 - accuracy: 0.1999 - val_loss: 2.3342 - val_accuracy: 0.1848\n",
            "Epoch 3/10\n",
            "375/375 [==============================] - 1s 3ms/step - loss: 2.9491 - accuracy: 0.1780 - val_loss: 2.1762 - val_accuracy: 0.1897\n",
            "Epoch 4/10\n",
            "375/375 [==============================] - 1s 3ms/step - loss: 2.5137 - accuracy: 0.1942 - val_loss: 2.1187 - val_accuracy: 0.2136\n",
            "Epoch 5/10\n",
            "375/375 [==============================] - 1s 3ms/step - loss: 2.6652 - accuracy: 0.1854 - val_loss: 2.1175 - val_accuracy: 0.2077\n",
            "Epoch 6/10\n",
            "375/375 [==============================] - 1s 3ms/step - loss: 2.5160 - accuracy: 0.1696 - val_loss: 2.3288 - val_accuracy: 0.1275\n",
            "Epoch 7/10\n",
            "375/375 [==============================] - 1s 3ms/step - loss: 2.4367 - accuracy: 0.1750 - val_loss: 2.1648 - val_accuracy: 0.1918\n",
            "Epoch 8/10\n",
            "375/375 [==============================] - 1s 3ms/step - loss: 2.5238 - accuracy: 0.1723 - val_loss: 2.2197 - val_accuracy: 0.1833\n",
            "Epoch 9/10\n",
            "375/375 [==============================] - 1s 4ms/step - loss: 2.4930 - accuracy: 0.1797 - val_loss: 2.2058 - val_accuracy: 0.1936\n",
            "Epoch 10/10\n",
            "375/375 [==============================] - 1s 4ms/step - loss: 2.4015 - accuracy: 0.1890 - val_loss: 2.2910 - val_accuracy: 0.1827\n"
          ]
        },
        {
          "output_type": "execute_result",
          "data": {
            "text/plain": [
              "<keras.src.callbacks.History at 0x7d2848fff5e0>"
            ]
          },
          "metadata": {},
          "execution_count": 11
        }
      ],
      "source": [
        "(train_images, train_labels), _ = mnist.load_data()\n",
        "train_images = train_images.reshape((60000, 28 * 28))\n",
        "train_images = train_images.astype(\"float32\") / 255\n",
        "\n",
        "model = keras.Sequential([\n",
        "    layers.Dense(512, activation=\"relu\"),\n",
        "    layers.Dense(10, activation=\"softmax\")\n",
        "])\n",
        "model.compile(optimizer=keras.optimizers.RMSprop(1.),\n",
        "              loss=\"sparse_categorical_crossentropy\",\n",
        "              metrics=[\"accuracy\"])\n",
        "model.fit(train_images, train_labels,\n",
        "          epochs=10,\n",
        "          batch_size=128,\n",
        "          validation_split=0.2)"
      ]
    },
    {
      "cell_type": "markdown",
      "metadata": {
        "id": "77iXsoAYTk3U"
      },
      "source": [
        "**같은 모델을 적절한 학습률로 훈련하기**"
      ]
    },
    {
      "cell_type": "code",
      "execution_count": 12,
      "metadata": {
        "execution": {
          "iopub.execute_input": "2022-05-21T01:05:52.588549Z",
          "iopub.status.busy": "2022-05-21T01:05:52.588260Z",
          "iopub.status.idle": "2022-05-21T01:06:11.526008Z",
          "shell.execute_reply": "2022-05-21T01:06:11.525112Z"
        },
        "id": "TQAqlYm0Tk3U",
        "outputId": "2511abd4-8bd0-471e-9dd9-b80f1ca90b1f",
        "colab": {
          "base_uri": "https://localhost:8080/"
        }
      },
      "outputs": [
        {
          "output_type": "stream",
          "name": "stdout",
          "text": [
            "Epoch 1/10\n",
            "375/375 [==============================] - 2s 4ms/step - loss: 0.3477 - accuracy: 0.9103 - val_loss: 0.1343 - val_accuracy: 0.9599\n",
            "Epoch 2/10\n",
            "375/375 [==============================] - 1s 3ms/step - loss: 0.1234 - accuracy: 0.9643 - val_loss: 0.1563 - val_accuracy: 0.9617\n",
            "Epoch 3/10\n",
            "375/375 [==============================] - 1s 3ms/step - loss: 0.0965 - accuracy: 0.9743 - val_loss: 0.1491 - val_accuracy: 0.9655\n",
            "Epoch 4/10\n",
            "375/375 [==============================] - 1s 3ms/step - loss: 0.0830 - accuracy: 0.9783 - val_loss: 0.1369 - val_accuracy: 0.9728\n",
            "Epoch 5/10\n",
            "375/375 [==============================] - 1s 4ms/step - loss: 0.0681 - accuracy: 0.9827 - val_loss: 0.1591 - val_accuracy: 0.9725\n",
            "Epoch 6/10\n",
            "375/375 [==============================] - 1s 4ms/step - loss: 0.0621 - accuracy: 0.9853 - val_loss: 0.1786 - val_accuracy: 0.9703\n",
            "Epoch 7/10\n",
            "375/375 [==============================] - 1s 3ms/step - loss: 0.0536 - accuracy: 0.9867 - val_loss: 0.1916 - val_accuracy: 0.9717\n",
            "Epoch 8/10\n",
            "375/375 [==============================] - 1s 4ms/step - loss: 0.0505 - accuracy: 0.9882 - val_loss: 0.2125 - val_accuracy: 0.9715\n",
            "Epoch 9/10\n",
            "375/375 [==============================] - 1s 3ms/step - loss: 0.0444 - accuracy: 0.9900 - val_loss: 0.2109 - val_accuracy: 0.9742\n",
            "Epoch 10/10\n",
            "375/375 [==============================] - 1s 3ms/step - loss: 0.0399 - accuracy: 0.9910 - val_loss: 0.2076 - val_accuracy: 0.9706\n"
          ]
        },
        {
          "output_type": "execute_result",
          "data": {
            "text/plain": [
              "<keras.src.callbacks.History at 0x7d28490487c0>"
            ]
          },
          "metadata": {},
          "execution_count": 12
        }
      ],
      "source": [
        "model = keras.Sequential([\n",
        "    layers.Dense(512, activation=\"relu\"),\n",
        "    layers.Dense(10, activation=\"softmax\")\n",
        "])\n",
        "model.compile(optimizer=keras.optimizers.RMSprop(1e-2),\n",
        "              loss=\"sparse_categorical_crossentropy\",\n",
        "              metrics=[\"accuracy\"])\n",
        "model.fit(train_images, train_labels,\n",
        "          epochs=10,\n",
        "          batch_size=128,\n",
        "          validation_split=0.2)"
      ]
    },
    {
      "cell_type": "markdown",
      "metadata": {
        "id": "9IVJeVeOTk3V"
      },
      "source": [
        "### 구조에 대해 더 나은 가정하기"
      ]
    },
    {
      "cell_type": "markdown",
      "metadata": {
        "id": "Br1F2jcwTk3V"
      },
      "source": [
        "### 모델 용량 늘리기"
      ]
    },
    {
      "cell_type": "markdown",
      "metadata": {
        "id": "Ubvdcv_-Tk3V"
      },
      "source": [
        "**MNIST 데이터를 사용한 간단한 로지스틱 회귀 모델**"
      ]
    },
    {
      "cell_type": "code",
      "execution_count": 13,
      "metadata": {
        "execution": {
          "iopub.execute_input": "2022-05-21T01:06:11.530131Z",
          "iopub.status.busy": "2022-05-21T01:06:11.529560Z",
          "iopub.status.idle": "2022-05-21T01:06:25.955536Z",
          "shell.execute_reply": "2022-05-21T01:06:25.954654Z"
        },
        "id": "xl5ejzSRTk3W",
        "outputId": "7747cc6a-f1e0-448b-dd3a-48da1bbb1ae1",
        "colab": {
          "base_uri": "https://localhost:8080/"
        }
      },
      "outputs": [
        {
          "output_type": "stream",
          "name": "stdout",
          "text": [
            "Epoch 1/20\n",
            "375/375 [==============================] - 2s 4ms/step - loss: 0.6652 - accuracy: 0.8350 - val_loss: 0.3600 - val_accuracy: 0.9044\n",
            "Epoch 2/20\n",
            "375/375 [==============================] - 1s 4ms/step - loss: 0.3529 - accuracy: 0.9026 - val_loss: 0.3093 - val_accuracy: 0.9146\n",
            "Epoch 3/20\n",
            "375/375 [==============================] - 1s 4ms/step - loss: 0.3176 - accuracy: 0.9115 - val_loss: 0.2913 - val_accuracy: 0.9198\n",
            "Epoch 4/20\n",
            "375/375 [==============================] - 1s 3ms/step - loss: 0.3015 - accuracy: 0.9156 - val_loss: 0.2830 - val_accuracy: 0.9221\n",
            "Epoch 5/20\n",
            "375/375 [==============================] - 1s 3ms/step - loss: 0.2919 - accuracy: 0.9183 - val_loss: 0.2791 - val_accuracy: 0.9220\n",
            "Epoch 6/20\n",
            "375/375 [==============================] - 1s 3ms/step - loss: 0.2856 - accuracy: 0.9205 - val_loss: 0.2746 - val_accuracy: 0.9242\n",
            "Epoch 7/20\n",
            "375/375 [==============================] - 1s 3ms/step - loss: 0.2805 - accuracy: 0.9214 - val_loss: 0.2716 - val_accuracy: 0.9272\n",
            "Epoch 8/20\n",
            "375/375 [==============================] - 1s 3ms/step - loss: 0.2766 - accuracy: 0.9227 - val_loss: 0.2709 - val_accuracy: 0.9264\n",
            "Epoch 9/20\n",
            "375/375 [==============================] - 1s 3ms/step - loss: 0.2733 - accuracy: 0.9241 - val_loss: 0.2669 - val_accuracy: 0.9285\n",
            "Epoch 10/20\n",
            "375/375 [==============================] - 1s 3ms/step - loss: 0.2709 - accuracy: 0.9250 - val_loss: 0.2663 - val_accuracy: 0.9282\n",
            "Epoch 11/20\n",
            "375/375 [==============================] - 1s 3ms/step - loss: 0.2686 - accuracy: 0.9254 - val_loss: 0.2667 - val_accuracy: 0.9275\n",
            "Epoch 12/20\n",
            "375/375 [==============================] - 1s 4ms/step - loss: 0.2666 - accuracy: 0.9261 - val_loss: 0.2648 - val_accuracy: 0.9285\n",
            "Epoch 13/20\n",
            "375/375 [==============================] - 1s 4ms/step - loss: 0.2645 - accuracy: 0.9272 - val_loss: 0.2640 - val_accuracy: 0.9278\n",
            "Epoch 14/20\n",
            "375/375 [==============================] - 1s 3ms/step - loss: 0.2633 - accuracy: 0.9278 - val_loss: 0.2635 - val_accuracy: 0.9293\n",
            "Epoch 15/20\n",
            "375/375 [==============================] - 1s 3ms/step - loss: 0.2616 - accuracy: 0.9286 - val_loss: 0.2636 - val_accuracy: 0.9303\n",
            "Epoch 16/20\n",
            "375/375 [==============================] - 2s 5ms/step - loss: 0.2604 - accuracy: 0.9286 - val_loss: 0.2616 - val_accuracy: 0.9300\n",
            "Epoch 17/20\n",
            "375/375 [==============================] - 2s 5ms/step - loss: 0.2594 - accuracy: 0.9285 - val_loss: 0.2637 - val_accuracy: 0.9292\n",
            "Epoch 18/20\n",
            "375/375 [==============================] - 2s 4ms/step - loss: 0.2582 - accuracy: 0.9290 - val_loss: 0.2628 - val_accuracy: 0.9298\n",
            "Epoch 19/20\n",
            "375/375 [==============================] - 1s 3ms/step - loss: 0.2573 - accuracy: 0.9293 - val_loss: 0.2631 - val_accuracy: 0.9300\n",
            "Epoch 20/20\n",
            "375/375 [==============================] - 1s 3ms/step - loss: 0.2563 - accuracy: 0.9298 - val_loss: 0.2624 - val_accuracy: 0.9304\n"
          ]
        }
      ],
      "source": [
        "model = keras.Sequential([layers.Dense(10, activation=\"softmax\")])\n",
        "model.compile(optimizer=\"rmsprop\",\n",
        "              loss=\"sparse_categorical_crossentropy\",\n",
        "              metrics=[\"accuracy\"])\n",
        "history_small_model = model.fit(\n",
        "    train_images, train_labels,\n",
        "    epochs=20,\n",
        "    batch_size=128,\n",
        "    validation_split=0.2)"
      ]
    },
    {
      "cell_type": "code",
      "execution_count": 14,
      "metadata": {
        "execution": {
          "iopub.execute_input": "2022-05-21T01:06:25.959685Z",
          "iopub.status.busy": "2022-05-21T01:06:25.959399Z",
          "iopub.status.idle": "2022-05-21T01:06:26.277516Z",
          "shell.execute_reply": "2022-05-21T01:06:26.276506Z"
        },
        "id": "-yiFhvT4Tk3W",
        "outputId": "32ee0be9-5dda-4c18-bf2d-7178d66f52c3",
        "colab": {
          "base_uri": "https://localhost:8080/",
          "height": 472
        }
      },
      "outputs": [
        {
          "output_type": "display_data",
          "data": {
            "text/plain": [
              "<Figure size 640x480 with 1 Axes>"
            ],
            "image/png": "[encoded data removed]"
          },
          "metadata": {}
        }
      ],
      "source": [
        "import matplotlib.pyplot as plt\n",
        "val_loss = history_small_model.history[\"val_loss\"]\n",
        "epochs = range(1, 21)\n",
        "plt.plot(epochs, val_loss, \"b--\",\n",
        "         label=\"Validation loss\")\n",
        "plt.title(\"Effect of insufficient model capacity on validation loss\")\n",
        "plt.xlabel(\"Epochs\")\n",
        "plt.ylabel(\"Loss\")\n",
        "plt.legend()\n",
        "plt.show()"
      ]
    },
    {
      "cell_type": "code",
      "execution_count": 15,
      "metadata": {
        "execution": {
          "iopub.execute_input": "2022-05-21T01:06:26.281161Z",
          "iopub.status.busy": "2022-05-21T01:06:26.280863Z",
          "iopub.status.idle": "2022-05-21T01:06:48.235589Z",
          "shell.execute_reply": "2022-05-21T01:06:48.234644Z"
        },
        "id": "TYz3NAseTk3X",
        "outputId": "91b88cc1-b86b-4ad4-80bc-22b39a97b135",
        "colab": {
          "base_uri": "https://localhost:8080/"
        }
      },
      "outputs": [
        {
          "output_type": "stream",
          "name": "stdout",
          "text": [
            "Epoch 1/20\n",
            "375/375 [==============================] - 2s 4ms/step - loss: 0.3685 - accuracy: 0.8944 - val_loss: 0.1803 - val_accuracy: 0.9483\n",
            "Epoch 2/20\n",
            "375/375 [==============================] - 1s 3ms/step - loss: 0.1629 - accuracy: 0.9519 - val_loss: 0.1429 - val_accuracy: 0.9564\n",
            "Epoch 3/20\n",
            "375/375 [==============================] - 1s 3ms/step - loss: 0.1146 - accuracy: 0.9655 - val_loss: 0.1192 - val_accuracy: 0.9657\n",
            "Epoch 4/20\n",
            "375/375 [==============================] - 1s 4ms/step - loss: 0.0872 - accuracy: 0.9742 - val_loss: 0.0993 - val_accuracy: 0.9718\n",
            "Epoch 5/20\n",
            "375/375 [==============================] - 2s 5ms/step - loss: 0.0696 - accuracy: 0.9790 - val_loss: 0.0937 - val_accuracy: 0.9716\n",
            "Epoch 6/20\n",
            "375/375 [==============================] - 2s 5ms/step - loss: 0.0587 - accuracy: 0.9820 - val_loss: 0.0889 - val_accuracy: 0.9741\n",
            "Epoch 7/20\n",
            "375/375 [==============================] - 2s 6ms/step - loss: 0.0479 - accuracy: 0.9850 - val_loss: 0.0879 - val_accuracy: 0.9747\n",
            "Epoch 8/20\n",
            "375/375 [==============================] - 2s 5ms/step - loss: 0.0404 - accuracy: 0.9877 - val_loss: 0.0903 - val_accuracy: 0.9745\n",
            "Epoch 9/20\n",
            "375/375 [==============================] - 2s 5ms/step - loss: 0.0338 - accuracy: 0.9895 - val_loss: 0.0993 - val_accuracy: 0.9748\n",
            "Epoch 10/20\n",
            "375/375 [==============================] - 1s 4ms/step - loss: 0.0295 - accuracy: 0.9907 - val_loss: 0.0978 - val_accuracy: 0.9741\n",
            "Epoch 11/20\n",
            "375/375 [==============================] - 1s 3ms/step - loss: 0.0247 - accuracy: 0.9922 - val_loss: 0.0987 - val_accuracy: 0.9737\n",
            "Epoch 12/20\n",
            "375/375 [==============================] - 1s 3ms/step - loss: 0.0201 - accuracy: 0.9939 - val_loss: 0.0977 - val_accuracy: 0.9760\n",
            "Epoch 13/20\n",
            "375/375 [==============================] - 1s 3ms/step - loss: 0.0170 - accuracy: 0.9950 - val_loss: 0.1060 - val_accuracy: 0.9764\n",
            "Epoch 14/20\n",
            "375/375 [==============================] - 1s 3ms/step - loss: 0.0154 - accuracy: 0.9953 - val_loss: 0.1074 - val_accuracy: 0.9756\n",
            "Epoch 15/20\n",
            "375/375 [==============================] - 2s 5ms/step - loss: 0.0116 - accuracy: 0.9964 - val_loss: 0.1132 - val_accuracy: 0.9750\n",
            "Epoch 16/20\n",
            "375/375 [==============================] - 1s 4ms/step - loss: 0.0107 - accuracy: 0.9968 - val_loss: 0.1224 - val_accuracy: 0.9732\n",
            "Epoch 17/20\n",
            "375/375 [==============================] - 1s 3ms/step - loss: 0.0093 - accuracy: 0.9971 - val_loss: 0.1376 - val_accuracy: 0.9731\n",
            "Epoch 18/20\n",
            "375/375 [==============================] - 1s 4ms/step - loss: 0.0085 - accuracy: 0.9975 - val_loss: 0.1166 - val_accuracy: 0.9768\n",
            "Epoch 19/20\n",
            "375/375 [==============================] - 1s 3ms/step - loss: 0.0066 - accuracy: 0.9981 - val_loss: 0.1391 - val_accuracy: 0.9747\n",
            "Epoch 20/20\n",
            "375/375 [==============================] - 2s 5ms/step - loss: 0.0064 - accuracy: 0.9981 - val_loss: 0.1641 - val_accuracy: 0.9712\n"
          ]
        }
      ],
      "source": [
        "model = keras.Sequential([\n",
        "    layers.Dense(96, activation=\"relu\"),\n",
        "    layers.Dense(96, activation=\"relu\"),\n",
        "    layers.Dense(10, activation=\"softmax\"),\n",
        "])\n",
        "model.compile(optimizer=\"rmsprop\",\n",
        "              loss=\"sparse_categorical_crossentropy\",\n",
        "              metrics=[\"accuracy\"])\n",
        "history_large_model = model.fit(\n",
        "    train_images, train_labels,\n",
        "    epochs=20,\n",
        "    batch_size=128,\n",
        "    validation_split=0.2)"
      ]
    },
    {
      "cell_type": "markdown",
      "metadata": {
        "id": "xsjm0jXuTk3Y"
      },
      "source": [
        "## 일반화 성능 향상하기"
      ]
    },
    {
      "cell_type": "markdown",
      "metadata": {
        "id": "SCOzA1LKTk3Y"
      },
      "source": [
        "### 데이터셋 큐레이션"
      ]
    },
    {
      "cell_type": "markdown",
      "metadata": {
        "id": "cDNJQp2yTk3Y"
      },
      "source": [
        "### 특성 공학"
      ]
    },
    {
      "cell_type": "markdown",
      "metadata": {
        "id": "BA30Ys7CTk3Y"
      },
      "source": [
        "### 조기 종료 사용하기"
      ]
    },
    {
      "cell_type": "markdown",
      "metadata": {
        "id": "FS0RwwIpTk3Z"
      },
      "source": [
        "### 모델 규제하기"
      ]
    },
    {
      "cell_type": "markdown",
      "metadata": {
        "id": "g1lVn3NcTk3Z"
      },
      "source": [
        "#### 네트워크 크기 축소"
      ]
    },
    {
      "cell_type": "markdown",
      "metadata": {
        "id": "j3r8_V04Tk3Z"
      },
      "source": [
        "**원본 모델**"
      ]
    },
    {
      "cell_type": "code",
      "execution_count": 27,
      "metadata": {
        "execution": {
          "iopub.execute_input": "2022-05-21T01:06:48.240327Z",
          "iopub.status.busy": "2022-05-21T01:06:48.239635Z",
          "iopub.status.idle": "2022-05-21T01:07:01.599335Z",
          "shell.execute_reply": "2022-05-21T01:07:01.598428Z"
        },
        "id": "yZ__XxRqTk3Z",
        "outputId": "bba21e87-468a-4323-8ce8-11b7fb896851",
        "colab": {
          "base_uri": "https://localhost:8080/"
        }
      },
      "outputs": [
        {
          "output_type": "stream",
          "name": "stdout",
          "text": [
            "Epoch 1/20\n",
            "30/30 [==============================] - 3s 66ms/step - loss: 0.5644 - accuracy: 0.7584 - val_loss: 0.4433 - val_accuracy: 0.8629\n",
            "Epoch 2/20\n",
            "30/30 [==============================] - 1s 24ms/step - loss: 0.3670 - accuracy: 0.8865 - val_loss: 0.3375 - val_accuracy: 0.8836\n",
            "Epoch 3/20\n",
            "30/30 [==============================] - 1s 39ms/step - loss: 0.2750 - accuracy: 0.9108 - val_loss: 0.2946 - val_accuracy: 0.8904\n",
            "Epoch 4/20\n",
            "30/30 [==============================] - 1s 30ms/step - loss: 0.2212 - accuracy: 0.9284 - val_loss: 0.2967 - val_accuracy: 0.8782\n",
            "Epoch 5/20\n",
            "30/30 [==============================] - 1s 24ms/step - loss: 0.1830 - accuracy: 0.9417 - val_loss: 0.2815 - val_accuracy: 0.8867\n",
            "Epoch 6/20\n",
            "30/30 [==============================] - 1s 22ms/step - loss: 0.1567 - accuracy: 0.9487 - val_loss: 0.2809 - val_accuracy: 0.8885\n",
            "Epoch 7/20\n",
            "30/30 [==============================] - 1s 22ms/step - loss: 0.1314 - accuracy: 0.9603 - val_loss: 0.3002 - val_accuracy: 0.8847\n",
            "Epoch 8/20\n",
            "30/30 [==============================] - 1s 22ms/step - loss: 0.1182 - accuracy: 0.9648 - val_loss: 0.2969 - val_accuracy: 0.8871\n",
            "Epoch 9/20\n",
            "30/30 [==============================] - 1s 22ms/step - loss: 0.0999 - accuracy: 0.9701 - val_loss: 0.3110 - val_accuracy: 0.8857\n",
            "Epoch 10/20\n",
            "30/30 [==============================] - 1s 21ms/step - loss: 0.0870 - accuracy: 0.9757 - val_loss: 0.3259 - val_accuracy: 0.8817\n",
            "Epoch 11/20\n",
            "30/30 [==============================] - 1s 22ms/step - loss: 0.0751 - accuracy: 0.9805 - val_loss: 0.3482 - val_accuracy: 0.8811\n",
            "Epoch 12/20\n",
            "30/30 [==============================] - 1s 25ms/step - loss: 0.0663 - accuracy: 0.9831 - val_loss: 0.3646 - val_accuracy: 0.8771\n",
            "Epoch 13/20\n",
            "30/30 [==============================] - 1s 22ms/step - loss: 0.0546 - accuracy: 0.9879 - val_loss: 0.4026 - val_accuracy: 0.8767\n",
            "Epoch 14/20\n",
            "30/30 [==============================] - 1s 22ms/step - loss: 0.0488 - accuracy: 0.9900 - val_loss: 0.4805 - val_accuracy: 0.8577\n",
            "Epoch 15/20\n",
            "30/30 [==============================] - 1s 23ms/step - loss: 0.0413 - accuracy: 0.9921 - val_loss: 0.4194 - val_accuracy: 0.8753\n",
            "Epoch 16/20\n",
            "30/30 [==============================] - 1s 22ms/step - loss: 0.0362 - accuracy: 0.9930 - val_loss: 0.4442 - val_accuracy: 0.8743\n",
            "Epoch 17/20\n",
            "30/30 [==============================] - 1s 22ms/step - loss: 0.0302 - accuracy: 0.9955 - val_loss: 0.4621 - val_accuracy: 0.8771\n",
            "Epoch 18/20\n",
            "30/30 [==============================] - 1s 22ms/step - loss: 0.0270 - accuracy: 0.9956 - val_loss: 0.4977 - val_accuracy: 0.8751\n",
            "Epoch 19/20\n",
            "30/30 [==============================] - 1s 24ms/step - loss: 0.0234 - accuracy: 0.9966 - val_loss: 0.4988 - val_accuracy: 0.8725\n",
            "Epoch 20/20\n",
            "30/30 [==============================] - 1s 27ms/step - loss: 0.0201 - accuracy: 0.9966 - val_loss: 0.5180 - val_accuracy: 0.8730\n"
          ]
        }
      ],
      "source": [
        "from tensorflow.keras.datasets import imdb\n",
        "(train_data, train_labels), _ = imdb.load_data(num_words=10000)\n",
        "\n",
        "def vectorize_sequences(sequences, dimension=10000):\n",
        "    results = np.zeros((len(sequences), dimension))\n",
        "    for i, sequence in enumerate(sequences):\n",
        "        results[i, sequence] = 1.\n",
        "    return results\n",
        "train_data = vectorize_sequences(train_data)\n",
        "\n",
        "model = keras.Sequential([\n",
        "    layers.Dense(16, activation=\"relu\"),\n",
        "    layers.Dense(16, activation=\"relu\"),\n",
        "    layers.Dense(1, activation=\"sigmoid\")\n",
        "])\n",
        "model.compile(optimizer=\"rmsprop\",\n",
        "              loss=\"binary_crossentropy\",\n",
        "              metrics=[\"accuracy\"])\n",
        "history_original = model.fit(train_data, train_labels,\n",
        "                             epochs=20, batch_size=512, validation_split=0.4)"
      ]
    },
    {
      "cell_type": "markdown",
      "metadata": {
        "id": "Ur2zKeT6Tk3a"
      },
      "source": [
        "**작은 용량의 모델**"
      ]
    },
    {
      "cell_type": "code",
      "execution_count": 28,
      "metadata": {
        "execution": {
          "iopub.execute_input": "2022-05-21T01:07:01.603485Z",
          "iopub.status.busy": "2022-05-21T01:07:01.603168Z",
          "iopub.status.idle": "2022-05-21T01:07:09.910749Z",
          "shell.execute_reply": "2022-05-21T01:07:09.909893Z"
        },
        "id": "J07S8kRUTk3a",
        "outputId": "60ab7c35-c45e-42f8-9c63-ca9d65edf3d4",
        "colab": {
          "base_uri": "https://localhost:8080/"
        }
      },
      "outputs": [
        {
          "output_type": "stream",
          "name": "stdout",
          "text": [
            "Epoch 1/20\n",
            "30/30 [==============================] - 3s 65ms/step - loss: 0.6066 - accuracy: 0.6942 - val_loss: 0.5476 - val_accuracy: 0.7916\n",
            "Epoch 2/20\n",
            "30/30 [==============================] - 1s 24ms/step - loss: 0.5142 - accuracy: 0.8132 - val_loss: 0.5049 - val_accuracy: 0.8339\n",
            "Epoch 3/20\n",
            "30/30 [==============================] - 1s 24ms/step - loss: 0.4680 - accuracy: 0.8657 - val_loss: 0.4810 - val_accuracy: 0.8469\n",
            "Epoch 4/20\n",
            "30/30 [==============================] - 1s 23ms/step - loss: 0.4372 - accuracy: 0.8949 - val_loss: 0.4767 - val_accuracy: 0.8314\n",
            "Epoch 5/20\n",
            "30/30 [==============================] - 1s 22ms/step - loss: 0.4128 - accuracy: 0.9155 - val_loss: 0.4639 - val_accuracy: 0.8524\n",
            "Epoch 6/20\n",
            "30/30 [==============================] - 1s 22ms/step - loss: 0.3922 - accuracy: 0.9294 - val_loss: 0.4620 - val_accuracy: 0.8534\n",
            "Epoch 7/20\n",
            "30/30 [==============================] - 1s 25ms/step - loss: 0.3750 - accuracy: 0.9405 - val_loss: 0.4690 - val_accuracy: 0.8505\n",
            "Epoch 8/20\n",
            "30/30 [==============================] - 1s 22ms/step - loss: 0.3598 - accuracy: 0.9499 - val_loss: 0.4462 - val_accuracy: 0.8745\n",
            "Epoch 9/20\n",
            "30/30 [==============================] - 1s 21ms/step - loss: 0.3452 - accuracy: 0.9570 - val_loss: 0.4696 - val_accuracy: 0.8577\n",
            "Epoch 10/20\n",
            "30/30 [==============================] - 1s 25ms/step - loss: 0.3329 - accuracy: 0.9630 - val_loss: 0.4420 - val_accuracy: 0.8786\n",
            "Epoch 11/20\n",
            "30/30 [==============================] - 1s 27ms/step - loss: 0.3213 - accuracy: 0.9678 - val_loss: 0.4679 - val_accuracy: 0.8642\n",
            "Epoch 12/20\n",
            "30/30 [==============================] - 1s 33ms/step - loss: 0.3102 - accuracy: 0.9724 - val_loss: 0.4867 - val_accuracy: 0.8570\n",
            "Epoch 13/20\n",
            "30/30 [==============================] - 1s 31ms/step - loss: 0.3001 - accuracy: 0.9740 - val_loss: 0.4896 - val_accuracy: 0.8579\n",
            "Epoch 14/20\n",
            "30/30 [==============================] - 1s 21ms/step - loss: 0.2908 - accuracy: 0.9769 - val_loss: 0.4878 - val_accuracy: 0.8636\n",
            "Epoch 15/20\n",
            "30/30 [==============================] - 1s 21ms/step - loss: 0.2812 - accuracy: 0.9791 - val_loss: 0.5127 - val_accuracy: 0.8570\n",
            "Epoch 16/20\n",
            "30/30 [==============================] - 1s 22ms/step - loss: 0.2731 - accuracy: 0.9803 - val_loss: 0.4925 - val_accuracy: 0.8656\n",
            "Epoch 17/20\n",
            "30/30 [==============================] - 1s 25ms/step - loss: 0.2644 - accuracy: 0.9837 - val_loss: 0.5283 - val_accuracy: 0.8572\n",
            "Epoch 18/20\n",
            "30/30 [==============================] - 1s 22ms/step - loss: 0.2567 - accuracy: 0.9847 - val_loss: 0.5493 - val_accuracy: 0.8543\n",
            "Epoch 19/20\n",
            "30/30 [==============================] - 1s 25ms/step - loss: 0.2494 - accuracy: 0.9857 - val_loss: 0.5162 - val_accuracy: 0.8652\n",
            "Epoch 20/20\n",
            "30/30 [==============================] - 1s 20ms/step - loss: 0.2426 - accuracy: 0.9859 - val_loss: 0.5386 - val_accuracy: 0.8623\n"
          ]
        }
      ],
      "source": [
        "model = keras.Sequential([\n",
        "    layers.Dense(4, activation=\"relu\"),\n",
        "    layers.Dense(4, activation=\"relu\"),\n",
        "    layers.Dense(1, activation=\"sigmoid\")\n",
        "])\n",
        "model.compile(optimizer=\"rmsprop\",\n",
        "              loss=\"binary_crossentropy\",\n",
        "              metrics=[\"accuracy\"])\n",
        "history_smaller_model = model.fit(\n",
        "    train_data, train_labels,\n",
        "    epochs=20, batch_size=512, validation_split=0.4)"
      ]
    },
    {
      "cell_type": "markdown",
      "metadata": {
        "id": "k6040fZeTk3a"
      },
      "source": [
        "**큰 용량의 모델**"
      ]
    },
    {
      "cell_type": "code",
      "execution_count": 29,
      "metadata": {
        "execution": {
          "iopub.execute_input": "2022-05-21T01:07:09.914619Z",
          "iopub.status.busy": "2022-05-21T01:07:09.914070Z",
          "iopub.status.idle": "2022-05-21T01:07:55.440909Z",
          "shell.execute_reply": "2022-05-21T01:07:55.439855Z"
        },
        "id": "gRyaH_CkTk3b",
        "outputId": "6aafd21f-6365-4268-addc-776b329e7f3d",
        "colab": {
          "base_uri": "https://localhost:8080/"
        }
      },
      "outputs": [
        {
          "output_type": "stream",
          "name": "stdout",
          "text": [
            "Epoch 1/20\n",
            "30/30 [==============================] - 3s 68ms/step - loss: 0.5844 - accuracy: 0.7138 - val_loss: 0.3564 - val_accuracy: 0.8633\n",
            "Epoch 2/20\n",
            "30/30 [==============================] - 1s 28ms/step - loss: 0.3198 - accuracy: 0.8708 - val_loss: 0.2933 - val_accuracy: 0.8797\n",
            "Epoch 3/20\n",
            "30/30 [==============================] - 1s 26ms/step - loss: 0.2330 - accuracy: 0.9087 - val_loss: 0.3772 - val_accuracy: 0.8485\n",
            "Epoch 4/20\n",
            "30/30 [==============================] - 1s 27ms/step - loss: 0.1958 - accuracy: 0.9243 - val_loss: 0.3146 - val_accuracy: 0.8780\n",
            "Epoch 5/20\n",
            "30/30 [==============================] - 1s 26ms/step - loss: 0.1535 - accuracy: 0.9409 - val_loss: 0.2886 - val_accuracy: 0.8880\n",
            "Epoch 6/20\n",
            "30/30 [==============================] - 1s 25ms/step - loss: 0.1055 - accuracy: 0.9610 - val_loss: 0.2999 - val_accuracy: 0.8798\n",
            "Epoch 7/20\n",
            "30/30 [==============================] - 1s 26ms/step - loss: 0.0813 - accuracy: 0.9736 - val_loss: 0.3392 - val_accuracy: 0.8849\n",
            "Epoch 8/20\n",
            "30/30 [==============================] - 1s 26ms/step - loss: 0.0712 - accuracy: 0.9788 - val_loss: 0.3523 - val_accuracy: 0.8843\n",
            "Epoch 9/20\n",
            "30/30 [==============================] - 1s 28ms/step - loss: 0.0676 - accuracy: 0.9793 - val_loss: 0.3398 - val_accuracy: 0.8771\n",
            "Epoch 10/20\n",
            "30/30 [==============================] - 1s 26ms/step - loss: 0.0146 - accuracy: 0.9986 - val_loss: 0.4499 - val_accuracy: 0.8811\n",
            "Epoch 11/20\n",
            "30/30 [==============================] - 1s 28ms/step - loss: 0.0773 - accuracy: 0.9823 - val_loss: 0.3831 - val_accuracy: 0.8832\n",
            "Epoch 12/20\n",
            "30/30 [==============================] - 1s 31ms/step - loss: 0.0056 - accuracy: 0.9997 - val_loss: 0.4914 - val_accuracy: 0.8827\n",
            "Epoch 13/20\n",
            "30/30 [==============================] - 1s 42ms/step - loss: 0.0025 - accuracy: 0.9999 - val_loss: 0.5487 - val_accuracy: 0.8831\n",
            "Epoch 14/20\n",
            "30/30 [==============================] - 1s 27ms/step - loss: 0.1035 - accuracy: 0.9792 - val_loss: 0.4472 - val_accuracy: 0.8855\n",
            "Epoch 15/20\n",
            "30/30 [==============================] - 1s 26ms/step - loss: 0.0026 - accuracy: 1.0000 - val_loss: 0.5176 - val_accuracy: 0.8836\n",
            "Epoch 16/20\n",
            "30/30 [==============================] - 1s 28ms/step - loss: 0.0012 - accuracy: 1.0000 - val_loss: 0.5908 - val_accuracy: 0.8833\n",
            "Epoch 17/20\n",
            "30/30 [==============================] - 1s 26ms/step - loss: 7.0852e-04 - accuracy: 1.0000 - val_loss: 0.6352 - val_accuracy: 0.8832\n",
            "Epoch 18/20\n",
            "30/30 [==============================] - 1s 26ms/step - loss: 4.6040e-04 - accuracy: 1.0000 - val_loss: 0.6699 - val_accuracy: 0.8825\n",
            "Epoch 19/20\n",
            "30/30 [==============================] - 1s 26ms/step - loss: 3.1748e-04 - accuracy: 1.0000 - val_loss: 0.6942 - val_accuracy: 0.8833\n",
            "Epoch 20/20\n",
            "30/30 [==============================] - 1s 28ms/step - loss: 2.4323e-04 - accuracy: 1.0000 - val_loss: 0.7171 - val_accuracy: 0.8835\n"
          ]
        }
      ],
      "source": [
        "model = keras.Sequential([\n",
        "    layers.Dense(512, activation=\"relu\"),\n",
        "    layers.Dense(512, activation=\"relu\"),\n",
        "    layers.Dense(1, activation=\"sigmoid\")\n",
        "])\n",
        "model.compile(optimizer=\"rmsprop\",\n",
        "              loss=\"binary_crossentropy\",\n",
        "              metrics=[\"accuracy\"])\n",
        "history_larger_model = model.fit(\n",
        "    train_data, train_labels,\n",
        "    epochs=20, batch_size=512, validation_split=0.4)"
      ]
    },
    {
      "cell_type": "code",
      "source": [
        "import matplotlib.pyplot as plt\n",
        "val_acc_large = history_larger_model.history[\"loss\"]\n",
        "val_acc_small = history_smaller_model.history[\"loss\"]\n",
        "val_acc_original = history_original.history[\"loss\"]\n",
        "epochs = range(1,21)\n",
        "plt.plot(epochs, val_acc_large, \"b-\",\n",
        "         label=\"Validation accuracy with large channels\")\n",
        "plt.plot(epochs, val_acc_small, \"b--\",\n",
        "         label=\"Validation accuracy with small channels\")\n",
        "plt.plot(epochs, val_acc_original, \"r-\",\n",
        "         label=\"Validation accuracy with original channels\")\n",
        "plt.title(\"Effect of noise channels on validation accuracy\")\n",
        "plt.xlabel(\"Epochs\")\n",
        "plt.ylabel(\"Accuracy\")\n",
        "plt.legend()\n",
        "plt.show()"
      ],
      "metadata": {
        "id": "XY5c_B9gnno7",
        "outputId": "7de5f979-c2f0-44d8-b1b0-172b53cad33b",
        "colab": {
          "base_uri": "https://localhost:8080/",
          "height": 472
        }
      },
      "execution_count": 35,
      "outputs": [
        {
          "output_type": "display_data",
          "data": {
            "text/plain": [
              "<Figure size 640x480 with 1 Axes>"
            ],
            "image/png": "[encoded data removed]"
          },
          "metadata": {}
        }
      ]
    },
    {
      "cell_type": "markdown",
      "metadata": {
        "id": "HkMwsNWiTk3b"
      },
      "source": [
        "#### 가중치 규제 추가하기"
      ]
    },
    {
      "cell_type": "markdown",
      "metadata": {
        "id": "slmc7NwkTk3b"
      },
      "source": [
        "**모델에 L2 가중치 추가하기**"
      ]
    },
    {
      "cell_type": "code",
      "execution_count": 36,
      "metadata": {
        "execution": {
          "iopub.execute_input": "2022-05-21T01:07:55.445676Z",
          "iopub.status.busy": "2022-05-21T01:07:55.444826Z",
          "iopub.status.idle": "2022-05-21T01:08:04.225182Z",
          "shell.execute_reply": "2022-05-21T01:08:04.224432Z"
        },
        "id": "BbKqHmXtTk3b",
        "outputId": "7cec3db8-de2d-4b6d-8281-94e6f0cf053a",
        "colab": {
          "base_uri": "https://localhost:8080/"
        }
      },
      "outputs": [
        {
          "output_type": "stream",
          "name": "stdout",
          "text": [
            "Epoch 1/20\n",
            "30/30 [==============================] - 3s 84ms/step - loss: 0.6143 - accuracy: 0.7760 - val_loss: 0.4924 - val_accuracy: 0.8522\n",
            "Epoch 2/20\n",
            "30/30 [==============================] - 1s 22ms/step - loss: 0.4197 - accuracy: 0.8897 - val_loss: 0.4029 - val_accuracy: 0.8829\n",
            "Epoch 3/20\n",
            "30/30 [==============================] - 1s 22ms/step - loss: 0.3459 - accuracy: 0.9100 - val_loss: 0.3678 - val_accuracy: 0.8889\n",
            "Epoch 4/20\n",
            "30/30 [==============================] - 1s 22ms/step - loss: 0.3088 - accuracy: 0.9202 - val_loss: 0.3576 - val_accuracy: 0.8890\n",
            "Epoch 5/20\n",
            "30/30 [==============================] - 1s 24ms/step - loss: 0.2845 - accuracy: 0.9285 - val_loss: 0.3552 - val_accuracy: 0.8880\n",
            "Epoch 6/20\n",
            "30/30 [==============================] - 1s 24ms/step - loss: 0.2688 - accuracy: 0.9341 - val_loss: 0.3878 - val_accuracy: 0.8706\n",
            "Epoch 7/20\n",
            "30/30 [==============================] - 1s 24ms/step - loss: 0.2544 - accuracy: 0.9415 - val_loss: 0.3577 - val_accuracy: 0.8877\n",
            "Epoch 8/20\n",
            "30/30 [==============================] - 1s 23ms/step - loss: 0.2479 - accuracy: 0.9408 - val_loss: 0.4119 - val_accuracy: 0.8609\n",
            "Epoch 9/20\n",
            "30/30 [==============================] - 1s 25ms/step - loss: 0.2411 - accuracy: 0.9467 - val_loss: 0.3703 - val_accuracy: 0.8826\n",
            "Epoch 10/20\n",
            "30/30 [==============================] - 1s 24ms/step - loss: 0.2318 - accuracy: 0.9483 - val_loss: 0.3704 - val_accuracy: 0.8828\n",
            "Epoch 11/20\n",
            "30/30 [==============================] - 1s 25ms/step - loss: 0.2286 - accuracy: 0.9517 - val_loss: 0.3732 - val_accuracy: 0.8817\n",
            "Epoch 12/20\n",
            "30/30 [==============================] - 1s 25ms/step - loss: 0.2269 - accuracy: 0.9507 - val_loss: 0.4123 - val_accuracy: 0.8714\n",
            "Epoch 13/20\n",
            "30/30 [==============================] - 1s 23ms/step - loss: 0.2205 - accuracy: 0.9545 - val_loss: 0.3832 - val_accuracy: 0.8788\n",
            "Epoch 14/20\n",
            "30/30 [==============================] - 1s 22ms/step - loss: 0.2189 - accuracy: 0.9540 - val_loss: 0.3851 - val_accuracy: 0.8796\n",
            "Epoch 15/20\n",
            "30/30 [==============================] - 1s 28ms/step - loss: 0.2136 - accuracy: 0.9570 - val_loss: 0.4096 - val_accuracy: 0.8750\n",
            "Epoch 16/20\n",
            "30/30 [==============================] - 1s 29ms/step - loss: 0.2101 - accuracy: 0.9585 - val_loss: 0.4366 - val_accuracy: 0.8635\n",
            "Epoch 17/20\n",
            "30/30 [==============================] - 1s 30ms/step - loss: 0.2100 - accuracy: 0.9577 - val_loss: 0.4081 - val_accuracy: 0.8772\n",
            "Epoch 18/20\n",
            "30/30 [==============================] - 1s 25ms/step - loss: 0.2058 - accuracy: 0.9597 - val_loss: 0.4008 - val_accuracy: 0.8772\n",
            "Epoch 19/20\n",
            "30/30 [==============================] - 1s 23ms/step - loss: 0.2038 - accuracy: 0.9612 - val_loss: 0.4514 - val_accuracy: 0.8640\n",
            "Epoch 20/20\n",
            "30/30 [==============================] - 1s 21ms/step - loss: 0.2081 - accuracy: 0.9552 - val_loss: 0.4054 - val_accuracy: 0.8774\n"
          ]
        }
      ],
      "source": [
        "from tensorflow.keras import regularizers\n",
        "model = keras.Sequential([\n",
        "    layers.Dense(16,\n",
        "                 kernel_regularizer=regularizers.l2(0.002),\n",
        "                 activation=\"relu\"),\n",
        "    layers.Dense(16,\n",
        "                 kernel_regularizer=regularizers.l2(0.002),\n",
        "                 activation=\"relu\"),\n",
        "    layers.Dense(1, activation=\"sigmoid\")\n",
        "])\n",
        "model.compile(optimizer=\"rmsprop\",\n",
        "              loss=\"binary_crossentropy\",\n",
        "              metrics=[\"accuracy\"])\n",
        "history_l2_reg = model.fit(\n",
        "    train_data, train_labels,\n",
        "    epochs=20, batch_size=512, validation_split=0.4)"
      ]
    },
    {
      "cell_type": "markdown",
      "metadata": {
        "id": "766AbsD9Tk3c"
      },
      "source": [
        "**케라스에서 사용할 수 있는 가중치 규제**"
      ]
    },
    {
      "cell_type": "code",
      "execution_count": 37,
      "metadata": {
        "execution": {
          "iopub.execute_input": "2022-05-21T01:08:04.229728Z",
          "iopub.status.busy": "2022-05-21T01:08:04.228866Z",
          "iopub.status.idle": "2022-05-21T01:08:04.237099Z",
          "shell.execute_reply": "2022-05-21T01:08:04.235990Z"
        },
        "id": "tT6wJynITk3c",
        "outputId": "8819fe8c-dd08-4fe6-bba1-7045cd43106a",
        "colab": {
          "base_uri": "https://localhost:8080/"
        }
      },
      "outputs": [
        {
          "output_type": "execute_result",
          "data": {
            "text/plain": [
              "<keras.src.regularizers.L1L2 at 0x7d284a5ca2c0>"
            ]
          },
          "metadata": {},
          "execution_count": 37
        }
      ],
      "source": [
        "from tensorflow.keras import regularizers\n",
        "regularizers.l1(0.001)\n",
        "regularizers.l1_l2(l1=0.001, l2=0.001)"
      ]
    },
    {
      "cell_type": "markdown",
      "metadata": {
        "id": "ultTwtPKTk3c"
      },
      "source": [
        "#### 드롭아웃 추가"
      ]
    },
    {
      "cell_type": "markdown",
      "metadata": {
        "id": "MWW1i75kTk3c"
      },
      "source": [
        "**IMDB 모델에 드롭아웃 추가하기**"
      ]
    },
    {
      "cell_type": "code",
      "execution_count": 38,
      "metadata": {
        "execution": {
          "iopub.execute_input": "2022-05-21T01:08:04.241161Z",
          "iopub.status.busy": "2022-05-21T01:08:04.240762Z",
          "iopub.status.idle": "2022-05-21T01:08:13.113623Z",
          "shell.execute_reply": "2022-05-21T01:08:13.112554Z"
        },
        "id": "K6C938cRTk3d",
        "outputId": "bd65a2bf-4939-40bc-9987-e07c8ba2883c",
        "colab": {
          "base_uri": "https://localhost:8080/"
        }
      },
      "outputs": [
        {
          "output_type": "stream",
          "name": "stdout",
          "text": [
            "Epoch 1/20\n",
            "30/30 [==============================] - 4s 66ms/step - loss: 0.6305 - accuracy: 0.6303 - val_loss: 0.5032 - val_accuracy: 0.8253\n",
            "Epoch 2/20\n",
            "30/30 [==============================] - 1s 24ms/step - loss: 0.5049 - accuracy: 0.7609 - val_loss: 0.3905 - val_accuracy: 0.8717\n",
            "Epoch 3/20\n",
            "30/30 [==============================] - 1s 23ms/step - loss: 0.4163 - accuracy: 0.8201 - val_loss: 0.3236 - val_accuracy: 0.8828\n",
            "Epoch 4/20\n",
            "30/30 [==============================] - 1s 26ms/step - loss: 0.3537 - accuracy: 0.8626 - val_loss: 0.3136 - val_accuracy: 0.8736\n",
            "Epoch 5/20\n",
            "30/30 [==============================] - 1s 24ms/step - loss: 0.3025 - accuracy: 0.8899 - val_loss: 0.2792 - val_accuracy: 0.8867\n",
            "Epoch 6/20\n",
            "30/30 [==============================] - 1s 23ms/step - loss: 0.2685 - accuracy: 0.9067 - val_loss: 0.2737 - val_accuracy: 0.8878\n",
            "Epoch 7/20\n",
            "30/30 [==============================] - 1s 28ms/step - loss: 0.2365 - accuracy: 0.9205 - val_loss: 0.2814 - val_accuracy: 0.8852\n",
            "Epoch 8/20\n",
            "30/30 [==============================] - 1s 34ms/step - loss: 0.2148 - accuracy: 0.9266 - val_loss: 0.2899 - val_accuracy: 0.8898\n",
            "Epoch 9/20\n",
            "30/30 [==============================] - 1s 30ms/step - loss: 0.1880 - accuracy: 0.9397 - val_loss: 0.3101 - val_accuracy: 0.8862\n",
            "Epoch 10/20\n",
            "30/30 [==============================] - 1s 27ms/step - loss: 0.1732 - accuracy: 0.9454 - val_loss: 0.3176 - val_accuracy: 0.8894\n",
            "Epoch 11/20\n",
            "30/30 [==============================] - 1s 23ms/step - loss: 0.1526 - accuracy: 0.9508 - val_loss: 0.3330 - val_accuracy: 0.8854\n",
            "Epoch 12/20\n",
            "30/30 [==============================] - 1s 25ms/step - loss: 0.1394 - accuracy: 0.9573 - val_loss: 0.3620 - val_accuracy: 0.8868\n",
            "Epoch 13/20\n",
            "30/30 [==============================] - 1s 21ms/step - loss: 0.1254 - accuracy: 0.9611 - val_loss: 0.3789 - val_accuracy: 0.8858\n",
            "Epoch 14/20\n",
            "30/30 [==============================] - 1s 23ms/step - loss: 0.1165 - accuracy: 0.9634 - val_loss: 0.4055 - val_accuracy: 0.8841\n",
            "Epoch 15/20\n",
            "30/30 [==============================] - 1s 24ms/step - loss: 0.1034 - accuracy: 0.9667 - val_loss: 0.4127 - val_accuracy: 0.8854\n",
            "Epoch 16/20\n",
            "30/30 [==============================] - 1s 23ms/step - loss: 0.0970 - accuracy: 0.9699 - val_loss: 0.4426 - val_accuracy: 0.8823\n",
            "Epoch 17/20\n",
            "30/30 [==============================] - 1s 22ms/step - loss: 0.0942 - accuracy: 0.9703 - val_loss: 0.4644 - val_accuracy: 0.8841\n",
            "Epoch 18/20\n",
            "30/30 [==============================] - 1s 25ms/step - loss: 0.0849 - accuracy: 0.9738 - val_loss: 0.5039 - val_accuracy: 0.8844\n",
            "Epoch 19/20\n",
            "30/30 [==============================] - 1s 23ms/step - loss: 0.0798 - accuracy: 0.9757 - val_loss: 0.5354 - val_accuracy: 0.8818\n",
            "Epoch 20/20\n",
            "30/30 [==============================] - 1s 21ms/step - loss: 0.0753 - accuracy: 0.9743 - val_loss: 0.5413 - val_accuracy: 0.8804\n"
          ]
        }
      ],
      "source": [
        "model = keras.Sequential([\n",
        "    layers.Dense(16, activation=\"relu\"),\n",
        "    layers.Dropout(0.5),\n",
        "    layers.Dense(16, activation=\"relu\"),\n",
        "    layers.Dropout(0.5),\n",
        "    layers.Dense(1, activation=\"sigmoid\")\n",
        "])\n",
        "model.compile(optimizer=\"rmsprop\",\n",
        "              loss=\"binary_crossentropy\",\n",
        "              metrics=[\"accuracy\"])\n",
        "history_dropout = model.fit(\n",
        "    train_data, train_labels,\n",
        "    epochs=20, batch_size=512, validation_split=0.4)"
      ]
    },
    {
      "cell_type": "markdown",
      "metadata": {
        "id": "JuocOmx8Tk3d"
      },
      "source": [
        "## 요약"
      ]
    }
  ],
  "metadata": {
    "colab": {
      "name": "chapter05_fundamentals-of-ml.i",
      "provenance": [],
      "gpuType": "T4"
    },
    "kernelspec": {
      "display_name": "default:Python",
      "language": "python",
      "name": "conda-env-default-py"
    },
    "language_info": {
      "codemirror_mode": {
        "name": "ipython",
        "version": 3
      },
      "file_extension": ".py",
      "mimetype": "text/x-python",
      "name": "python",
      "nbconvert_exporter": "python",
      "pygments_lexer": "ipython3",
      "version": "3.9.10"
    },
    "accelerator": "GPU"
  },
  "nbformat": 4,
  "nbformat_minor": 0
}