{
  "cells": [
    {
      "cell_type": "markdown",
      "metadata": {
        "id": "TD2VFLNa1qIr"
      },
      "source": [
        "이 노트북은 [케라스 창시자에게 배우는 딥러닝 2판](https://tensorflow.blog/kerasdl2/)의 예제 코드를 담고 있습니다.\n",
        "\n",
        "<table align=\"left\"><tr><td>\n",
        "<a href=\"https://colab.research.google.com/github/rickiepark/deep-learning-with-python-2nd/blob/master/chapter02_mathematical-building-blocks.ipynb\" target=\"_parent\"><img src=\"https://colab.research.google.com/assets/colab-badge.svg\" alt=\"Open In Colab\"/></a>\n",
        "</td></tr></table>"
      ]
    },
    {
      "cell_type": "markdown",
      "metadata": {
        "id": "mokNYTez1qIt"
      },
      "source": [
        "# 신경망의 수학적 구성 요소"
      ]
    },
    {
      "cell_type": "markdown",
      "metadata": {
        "id": "TEnmFpmg1qIu"
      },
      "source": [
        "## 신경망과의 첫 만남"
      ]
    },
    {
      "cell_type": "markdown",
      "metadata": {
        "id": "nlRV5eGp1qIu"
      },
      "source": [
        "**케라스에서 MNIST 데이터셋 적재하기**"
      ]
    },
    {
      "cell_type": "code",
      "execution_count": 1,
      "metadata": {
        "execution": {
          "iopub.execute_input": "2022-05-21T00:57:05.419691Z",
          "iopub.status.busy": "2022-05-21T00:57:05.419221Z",
          "iopub.status.idle": "2022-05-21T00:57:07.931588Z",
          "shell.execute_reply": "2022-05-21T00:57:07.930532Z"
        },
        "id": "Kbsv3tf21qIu",
        "outputId": "993dff7b-611b-413a-cee2-40143bad6210",
        "colab": {
          "base_uri": "https://localhost:8080/"
        }
      },
      "outputs": [
        {
          "output_type": "stream",
          "name": "stdout",
          "text": [
            "Downloading data from https://storage.googleapis.com/tensorflow/tf-keras-datasets/mnist.npz\n",
            "11490434/11490434 [==============================] - 0s 0us/step\n"
          ]
        }
      ],
      "source": [
        "from tensorflow.keras.datasets import mnist\n",
        "(train_images, train_labels), (test_images, test_labels) = mnist.load_data()"
      ]
    },
    {
      "cell_type": "code",
      "execution_count": 2,
      "metadata": {
        "execution": {
          "iopub.execute_input": "2022-05-21T00:57:07.936250Z",
          "iopub.status.busy": "2022-05-21T00:57:07.935565Z",
          "iopub.status.idle": "2022-05-21T00:57:07.945910Z",
          "shell.execute_reply": "2022-05-21T00:57:07.945184Z"
        },
        "id": "GjsNOiRZ1qIw",
        "outputId": "0749071c-0ee6-46ae-cab9-d479fe42cf42",
        "colab": {
          "base_uri": "https://localhost:8080/"
        }
      },
      "outputs": [
        {
          "output_type": "execute_result",
          "data": {
            "text/plain": [
              "(60000, 28, 28)"
            ]
          },
          "metadata": {},
          "execution_count": 2
        }
      ],
      "source": [
        "train_images.shape"
      ]
    },
    {
      "cell_type": "code",
      "execution_count": 3,
      "metadata": {
        "execution": {
          "iopub.execute_input": "2022-05-21T00:57:07.949595Z",
          "iopub.status.busy": "2022-05-21T00:57:07.948880Z",
          "iopub.status.idle": "2022-05-21T00:57:07.953413Z",
          "shell.execute_reply": "2022-05-21T00:57:07.952780Z"
        },
        "id": "BMvJUobh1qIw",
        "outputId": "9f9d5ea0-649b-4563-ba83-28a1b0dc3679",
        "colab": {
          "base_uri": "https://localhost:8080/"
        }
      },
      "outputs": [
        {
          "output_type": "execute_result",
          "data": {
            "text/plain": [
              "60000"
            ]
          },
          "metadata": {},
          "execution_count": 3
        }
      ],
      "source": [
        "len(train_labels)"
      ]
    },
    {
      "cell_type": "code",
      "execution_count": 4,
      "metadata": {
        "execution": {
          "iopub.execute_input": "2022-05-21T00:57:07.956620Z",
          "iopub.status.busy": "2022-05-21T00:57:07.956158Z",
          "iopub.status.idle": "2022-05-21T00:57:07.961433Z",
          "shell.execute_reply": "2022-05-21T00:57:07.960670Z"
        },
        "id": "VhW9RYKv1qIw",
        "outputId": "7c963ee5-b95d-4206-e935-3ed67b7e93d8",
        "colab": {
          "base_uri": "https://localhost:8080/"
        }
      },
      "outputs": [
        {
          "output_type": "execute_result",
          "data": {
            "text/plain": [
              "array([5, 0, 4, ..., 5, 6, 8], dtype=uint8)"
            ]
          },
          "metadata": {},
          "execution_count": 4
        }
      ],
      "source": [
        "train_labels"
      ]
    },
    {
      "cell_type": "code",
      "execution_count": 5,
      "metadata": {
        "execution": {
          "iopub.execute_input": "2022-05-21T00:57:07.964700Z",
          "iopub.status.busy": "2022-05-21T00:57:07.964447Z",
          "iopub.status.idle": "2022-05-21T00:57:07.969443Z",
          "shell.execute_reply": "2022-05-21T00:57:07.968645Z"
        },
        "id": "s-H4DSiI1qIx",
        "outputId": "c71fe276-6057-4e92-ae78-ff3a912ef518",
        "colab": {
          "base_uri": "https://localhost:8080/"
        }
      },
      "outputs": [
        {
          "output_type": "execute_result",
          "data": {
            "text/plain": [
              "(10000, 28, 28)"
            ]
          },
          "metadata": {},
          "execution_count": 5
        }
      ],
      "source": [
        "test_images.shape"
      ]
    },
    {
      "cell_type": "code",
      "execution_count": 6,
      "metadata": {
        "execution": {
          "iopub.execute_input": "2022-05-21T00:57:07.973895Z",
          "iopub.status.busy": "2022-05-21T00:57:07.973604Z",
          "iopub.status.idle": "2022-05-21T00:57:07.978539Z",
          "shell.execute_reply": "2022-05-21T00:57:07.977669Z"
        },
        "id": "arJVF8HY1qIx",
        "outputId": "b3db22bd-4903-49e6-97c2-432fdb5225a1",
        "colab": {
          "base_uri": "https://localhost:8080/"
        }
      },
      "outputs": [
        {
          "output_type": "execute_result",
          "data": {
            "text/plain": [
              "10000"
            ]
          },
          "metadata": {},
          "execution_count": 6
        }
      ],
      "source": [
        "len(test_labels)"
      ]
    },
    {
      "cell_type": "code",
      "execution_count": 7,
      "metadata": {
        "execution": {
          "iopub.execute_input": "2022-05-21T00:57:07.982841Z",
          "iopub.status.busy": "2022-05-21T00:57:07.982277Z",
          "iopub.status.idle": "2022-05-21T00:57:07.987700Z",
          "shell.execute_reply": "2022-05-21T00:57:07.986719Z"
        },
        "id": "9mGmW7a81qIy",
        "outputId": "c382d4cb-eacf-48c7-c505-93a9369e0e41",
        "colab": {
          "base_uri": "https://localhost:8080/"
        }
      },
      "outputs": [
        {
          "output_type": "execute_result",
          "data": {
            "text/plain": [
              "array([7, 2, 1, ..., 4, 5, 6], dtype=uint8)"
            ]
          },
          "metadata": {},
          "execution_count": 7
        }
      ],
      "source": [
        "test_labels"
      ]
    },
    {
      "cell_type": "markdown",
      "metadata": {
        "id": "lkR5Kdxs1qIy"
      },
      "source": [
        "**신경망 구조**"
      ]
    },
    {
      "cell_type": "code",
      "execution_count": 8,
      "metadata": {
        "execution": {
          "iopub.execute_input": "2022-05-21T00:57:07.991164Z",
          "iopub.status.busy": "2022-05-21T00:57:07.990885Z",
          "iopub.status.idle": "2022-05-21T00:57:08.025097Z",
          "shell.execute_reply": "2022-05-21T00:57:08.023960Z"
        },
        "id": "nGjggIFO1qIy"
      },
      "outputs": [],
      "source": [
        "from tensorflow import keras\n",
        "from tensorflow.keras import layers\n",
        "model = keras.Sequential([\n",
        "    layers.Dense(512, activation=\"relu\"),\n",
        "    layers.Dense(10, activation=\"softmax\")\n",
        "])"
      ]
    },
    {
      "cell_type": "markdown",
      "metadata": {
        "id": "ztkKhME61qIy"
      },
      "source": [
        "**컴파일 단계**"
      ]
    },
    {
      "cell_type": "code",
      "execution_count": 9,
      "metadata": {
        "execution": {
          "iopub.execute_input": "2022-05-21T00:57:08.029264Z",
          "iopub.status.busy": "2022-05-21T00:57:08.028955Z",
          "iopub.status.idle": "2022-05-21T00:57:08.043873Z",
          "shell.execute_reply": "2022-05-21T00:57:08.042917Z"
        },
        "id": "XAll1_qf1qIz"
      },
      "outputs": [],
      "source": [
        "model.compile(optimizer=\"rmsprop\",\n",
        "              loss=\"sparse_categorical_crossentropy\",\n",
        "              metrics=[\"accuracy\"])"
      ]
    },
    {
      "cell_type": "markdown",
      "metadata": {
        "id": "IfXepSHu1qIz"
      },
      "source": [
        "**이미지 데이터 준비하기**"
      ]
    },
    {
      "cell_type": "code",
      "execution_count": 10,
      "metadata": {
        "execution": {
          "iopub.execute_input": "2022-05-21T00:57:08.047878Z",
          "iopub.status.busy": "2022-05-21T00:57:08.047587Z",
          "iopub.status.idle": "2022-05-21T00:57:08.461821Z",
          "shell.execute_reply": "2022-05-21T00:57:08.460699Z"
        },
        "id": "0VedXTKL1qIz"
      },
      "outputs": [],
      "source": [
        "train_images = train_images.reshape((60000, 28 * 28))\n",
        "train_images = train_images.astype(\"float32\") / 255\n",
        "test_images = test_images.reshape((10000, 28 * 28))\n",
        "test_images = test_images.astype(\"float32\") / 255"
      ]
    },
    {
      "cell_type": "markdown",
      "metadata": {
        "id": "r9cuYTKi1qIz"
      },
      "source": [
        "**모델 훈련**"
      ]
    },
    {
      "cell_type": "code",
      "execution_count": 11,
      "metadata": {
        "execution": {
          "iopub.execute_input": "2022-05-21T00:57:08.466297Z",
          "iopub.status.busy": "2022-05-21T00:57:08.465542Z",
          "iopub.status.idle": "2022-05-21T00:57:19.300649Z",
          "shell.execute_reply": "2022-05-21T00:57:19.299825Z"
        },
        "id": "LstMGeYK1qIz",
        "outputId": "79f6702f-7353-403b-e793-0f3071f1c65c",
        "colab": {
          "base_uri": "https://localhost:8080/"
        }
      },
      "outputs": [
        {
          "output_type": "stream",
          "name": "stdout",
          "text": [
            "Epoch 1/5\n",
            "469/469 [==============================] - 8s 8ms/step - loss: 0.2650 - accuracy: 0.9230\n",
            "Epoch 2/5\n",
            "469/469 [==============================] - 3s 5ms/step - loss: 0.1088 - accuracy: 0.9679\n",
            "Epoch 3/5\n",
            "469/469 [==============================] - 3s 7ms/step - loss: 0.0712 - accuracy: 0.9790\n",
            "Epoch 4/5\n",
            "469/469 [==============================] - 3s 6ms/step - loss: 0.0518 - accuracy: 0.9848\n",
            "Epoch 5/5\n",
            "469/469 [==============================] - 3s 7ms/step - loss: 0.0394 - accuracy: 0.9884\n"
          ]
        },
        {
          "output_type": "execute_result",
          "data": {
            "text/plain": [
              "<keras.src.callbacks.History at 0x7b2e43a83850>"
            ]
          },
          "metadata": {},
          "execution_count": 11
        }
      ],
      "source": [
        "model.fit(train_images, train_labels, epochs=5, batch_size=128)"
      ]
    },
    {
      "cell_type": "markdown",
      "metadata": {
        "id": "iQgihs241qI0"
      },
      "source": [
        "**모델을 사용해 예측 만들기**"
      ]
    },
    {
      "cell_type": "code",
      "execution_count": 12,
      "metadata": {
        "execution": {
          "iopub.execute_input": "2022-05-21T00:57:19.304176Z",
          "iopub.status.busy": "2022-05-21T00:57:19.303848Z",
          "iopub.status.idle": "2022-05-21T00:57:19.406311Z",
          "shell.execute_reply": "2022-05-21T00:57:19.405251Z"
        },
        "id": "qV8_w05L1qI0",
        "outputId": "5db46556-7221-4a1a-8c99-2cf1644f2d81",
        "colab": {
          "base_uri": "https://localhost:8080/"
        }
      },
      "outputs": [
        {
          "output_type": "stream",
          "name": "stdout",
          "text": [
            "1/1 [==============================] - 0s 120ms/step\n"
          ]
        },
        {
          "output_type": "execute_result",
          "data": {
            "text/plain": [
              "array([5.9001081e-08, 8.3192910e-09, 5.4586908e-06, 8.1959086e-05,\n",
              "       1.6671199e-10, 2.4758219e-07, 7.0786298e-12, 9.9991024e-01,\n",
              "       2.1748394e-07, 1.7808248e-06], dtype=float32)"
            ]
          },
          "metadata": {},
          "execution_count": 12
        }
      ],
      "source": [
        "test_digits = test_images[0:10]\n",
        "predictions = model.predict(test_digits)\n",
        "predictions[0]"
      ]
    },
    {
      "cell_type": "code",
      "execution_count": 13,
      "metadata": {
        "execution": {
          "iopub.execute_input": "2022-05-21T00:57:19.410311Z",
          "iopub.status.busy": "2022-05-21T00:57:19.409575Z",
          "iopub.status.idle": "2022-05-21T00:57:19.414980Z",
          "shell.execute_reply": "2022-05-21T00:57:19.414116Z"
        },
        "id": "zc_2oAmH1qI0",
        "outputId": "bbbbac3a-62e1-46b1-caac-bfdcf5125606",
        "colab": {
          "base_uri": "https://localhost:8080/"
        }
      },
      "outputs": [
        {
          "output_type": "execute_result",
          "data": {
            "text/plain": [
              "7"
            ]
          },
          "metadata": {},
          "execution_count": 13
        }
      ],
      "source": [
        "predictions[0].argmax()"
      ]
    },
    {
      "cell_type": "code",
      "execution_count": 14,
      "metadata": {
        "execution": {
          "iopub.execute_input": "2022-05-21T00:57:19.418674Z",
          "iopub.status.busy": "2022-05-21T00:57:19.418395Z",
          "iopub.status.idle": "2022-05-21T00:57:19.424303Z",
          "shell.execute_reply": "2022-05-21T00:57:19.423160Z"
        },
        "id": "G96ao1pL1qI0",
        "outputId": "8a93f195-b69a-454c-f516-60ab4d0e82ff",
        "colab": {
          "base_uri": "https://localhost:8080/"
        }
      },
      "outputs": [
        {
          "output_type": "execute_result",
          "data": {
            "text/plain": [
              "0.99991024"
            ]
          },
          "metadata": {},
          "execution_count": 14
        }
      ],
      "source": [
        "predictions[0][7]"
      ]
    },
    {
      "cell_type": "code",
      "execution_count": 15,
      "metadata": {
        "execution": {
          "iopub.execute_input": "2022-05-21T00:57:19.428684Z",
          "iopub.status.busy": "2022-05-21T00:57:19.428277Z",
          "iopub.status.idle": "2022-05-21T00:57:19.433154Z",
          "shell.execute_reply": "2022-05-21T00:57:19.432273Z"
        },
        "id": "CmsTCGMe1qI0",
        "outputId": "de580f8f-7363-4865-a924-4da3d91ca95c",
        "colab": {
          "base_uri": "https://localhost:8080/"
        }
      },
      "outputs": [
        {
          "output_type": "execute_result",
          "data": {
            "text/plain": [
              "7"
            ]
          },
          "metadata": {},
          "execution_count": 15
        }
      ],
      "source": [
        "test_labels[0]"
      ]
    },
    {
      "cell_type": "markdown",
      "metadata": {
        "id": "xz0O7yfW1qI1"
      },
      "source": [
        "**새로운 데이터에서 모델 평가하기**"
      ]
    },
    {
      "cell_type": "code",
      "execution_count": 16,
      "metadata": {
        "execution": {
          "iopub.execute_input": "2022-05-21T00:57:19.437738Z",
          "iopub.status.busy": "2022-05-21T00:57:19.437092Z",
          "iopub.status.idle": "2022-05-21T00:57:20.109805Z",
          "shell.execute_reply": "2022-05-21T00:57:20.109057Z"
        },
        "id": "5n06x08R1qI1",
        "outputId": "9c8bd01a-c5d9-4cae-9c72-cf4ed6a69c69",
        "colab": {
          "base_uri": "https://localhost:8080/"
        }
      },
      "outputs": [
        {
          "output_type": "stream",
          "name": "stdout",
          "text": [
            "313/313 [==============================] - 1s 4ms/step - loss: 0.0610 - accuracy: 0.9804\n",
            "테스트 정확도: 0.980400025844574\n"
          ]
        }
      ],
      "source": [
        "test_loss, test_acc = model.evaluate(test_images, test_labels)\n",
        "print(f\"테스트 정확도: {test_acc}\")"
      ]
    },
    {
      "cell_type": "markdown",
      "metadata": {
        "id": "_sf8F4Lt1qI1"
      },
      "source": [
        "## 신경망을 위한 데이터 표현"
      ]
    },
    {
      "cell_type": "markdown",
      "metadata": {
        "id": "0rIygsuR1qI1"
      },
      "source": [
        "### 스칼라 (랭크-0 텐서)"
      ]
    },
    {
      "cell_type": "code",
      "execution_count": 17,
      "metadata": {
        "execution": {
          "iopub.execute_input": "2022-05-21T00:57:20.113826Z",
          "iopub.status.busy": "2022-05-21T00:57:20.113141Z",
          "iopub.status.idle": "2022-05-21T00:57:20.119204Z",
          "shell.execute_reply": "2022-05-21T00:57:20.118308Z"
        },
        "id": "zaKeHFt51qI1",
        "outputId": "b747941d-97fe-4935-fc5b-8ba52978d986",
        "colab": {
          "base_uri": "https://localhost:8080/"
        }
      },
      "outputs": [
        {
          "output_type": "execute_result",
          "data": {
            "text/plain": [
              "array(12)"
            ]
          },
          "metadata": {},
          "execution_count": 17
        }
      ],
      "source": [
        "import numpy as np\n",
        "x = np.array(12)\n",
        "x"
      ]
    },
    {
      "cell_type": "code",
      "execution_count": 18,
      "metadata": {
        "execution": {
          "iopub.execute_input": "2022-05-21T00:57:20.122738Z",
          "iopub.status.busy": "2022-05-21T00:57:20.122472Z",
          "iopub.status.idle": "2022-05-21T00:57:20.127154Z",
          "shell.execute_reply": "2022-05-21T00:57:20.126388Z"
        },
        "id": "L7qdT7rT1qI1",
        "outputId": "9ae8de08-5ea8-4745-ef1c-9494958202e7",
        "colab": {
          "base_uri": "https://localhost:8080/"
        }
      },
      "outputs": [
        {
          "output_type": "execute_result",
          "data": {
            "text/plain": [
              "0"
            ]
          },
          "metadata": {},
          "execution_count": 18
        }
      ],
      "source": [
        "x.ndim"
      ]
    },
    {
      "cell_type": "markdown",
      "metadata": {
        "id": "UBwl26_c1qI2"
      },
      "source": [
        "### 벡터 (랭크-1 텐서)"
      ]
    },
    {
      "cell_type": "code",
      "execution_count": 19,
      "metadata": {
        "execution": {
          "iopub.execute_input": "2022-05-21T00:57:20.131021Z",
          "iopub.status.busy": "2022-05-21T00:57:20.130223Z",
          "iopub.status.idle": "2022-05-21T00:57:20.135705Z",
          "shell.execute_reply": "2022-05-21T00:57:20.135002Z"
        },
        "id": "_FZ_X24k1qI2",
        "outputId": "a084f8ff-5e2d-4f65-8d8d-bc57c944c6da",
        "colab": {
          "base_uri": "https://localhost:8080/"
        }
      },
      "outputs": [
        {
          "output_type": "execute_result",
          "data": {
            "text/plain": [
              "array([12,  3,  6, 14,  7])"
            ]
          },
          "metadata": {},
          "execution_count": 19
        }
      ],
      "source": [
        "x = np.array([12, 3, 6, 14, 7])\n",
        "x"
      ]
    },
    {
      "cell_type": "code",
      "execution_count": 20,
      "metadata": {
        "execution": {
          "iopub.execute_input": "2022-05-21T00:57:20.139180Z",
          "iopub.status.busy": "2022-05-21T00:57:20.138695Z",
          "iopub.status.idle": "2022-05-21T00:57:20.143498Z",
          "shell.execute_reply": "2022-05-21T00:57:20.142627Z"
        },
        "id": "bGycblhT1qI2",
        "outputId": "752a9893-ee28-42f9-bdd4-30a02190c8c1",
        "colab": {
          "base_uri": "https://localhost:8080/"
        }
      },
      "outputs": [
        {
          "output_type": "execute_result",
          "data": {
            "text/plain": [
              "1"
            ]
          },
          "metadata": {},
          "execution_count": 20
        }
      ],
      "source": [
        "x.ndim"
      ]
    },
    {
      "cell_type": "markdown",
      "metadata": {
        "id": "aEgHXF7o1qI2"
      },
      "source": [
        "### 행렬 (랭크-2 텐서)"
      ]
    },
    {
      "cell_type": "code",
      "execution_count": 21,
      "metadata": {
        "execution": {
          "iopub.execute_input": "2022-05-21T00:57:20.146816Z",
          "iopub.status.busy": "2022-05-21T00:57:20.146544Z",
          "iopub.status.idle": "2022-05-21T00:57:20.153035Z",
          "shell.execute_reply": "2022-05-21T00:57:20.152330Z"
        },
        "id": "w4Pfesli1qI2",
        "outputId": "e795f0bc-5534-4f93-eef6-2bb9db8f3537",
        "colab": {
          "base_uri": "https://localhost:8080/"
        }
      },
      "outputs": [
        {
          "output_type": "execute_result",
          "data": {
            "text/plain": [
              "2"
            ]
          },
          "metadata": {},
          "execution_count": 21
        }
      ],
      "source": [
        "x = np.array([[5, 78, 2, 34, 0],\n",
        "              [6, 79, 3, 35, 1],\n",
        "              [7, 80, 4, 36, 2]])\n",
        "x.ndim"
      ]
    },
    {
      "cell_type": "markdown",
      "metadata": {
        "id": "WY7v3OYg1qI2"
      },
      "source": [
        "### 랭크-3 텐서와 더 높은 랭크의 텐서"
      ]
    },
    {
      "cell_type": "code",
      "execution_count": 22,
      "metadata": {
        "execution": {
          "iopub.execute_input": "2022-05-21T00:57:20.156415Z",
          "iopub.status.busy": "2022-05-21T00:57:20.156159Z",
          "iopub.status.idle": "2022-05-21T00:57:20.163001Z",
          "shell.execute_reply": "2022-05-21T00:57:20.162138Z"
        },
        "id": "EJw4bMhQ1qI3",
        "outputId": "ae394f19-3151-46b6-b2c3-c93216438a0b",
        "colab": {
          "base_uri": "https://localhost:8080/"
        }
      },
      "outputs": [
        {
          "output_type": "execute_result",
          "data": {
            "text/plain": [
              "3"
            ]
          },
          "metadata": {},
          "execution_count": 22
        }
      ],
      "source": [
        "x = np.array([[[5, 78, 2, 34, 0],\n",
        "               [6, 79, 3, 35, 1],\n",
        "               [7, 80, 4, 36, 2]],\n",
        "              [[5, 78, 2, 34, 0],\n",
        "               [6, 79, 3, 35, 1],\n",
        "               [7, 80, 4, 36, 2]],\n",
        "              [[5, 78, 2, 34, 0],\n",
        "               [6, 79, 3, 35, 1],\n",
        "               [7, 80, 4, 36, 2]]])\n",
        "x.ndim"
      ]
    },
    {
      "cell_type": "markdown",
      "metadata": {
        "id": "wKerwOYq1qI3"
      },
      "source": [
        "### 핵심 속성"
      ]
    },
    {
      "cell_type": "code",
      "execution_count": 23,
      "metadata": {
        "execution": {
          "iopub.execute_input": "2022-05-21T00:57:20.166433Z",
          "iopub.status.busy": "2022-05-21T00:57:20.166160Z",
          "iopub.status.idle": "2022-05-21T00:57:20.596456Z",
          "shell.execute_reply": "2022-05-21T00:57:20.595567Z"
        },
        "id": "TTHc4oX71qI3"
      },
      "outputs": [],
      "source": [
        "from tensorflow.keras.datasets import mnist\n",
        "(train_images, train_labels), (test_images, test_labels) = mnist.load_data()"
      ]
    },
    {
      "cell_type": "code",
      "execution_count": 24,
      "metadata": {
        "execution": {
          "iopub.execute_input": "2022-05-21T00:57:20.600816Z",
          "iopub.status.busy": "2022-05-21T00:57:20.600517Z",
          "iopub.status.idle": "2022-05-21T00:57:20.605652Z",
          "shell.execute_reply": "2022-05-21T00:57:20.604662Z"
        },
        "id": "o5fj8Tyc1qI3",
        "outputId": "2493f437-ab11-48c8-d59d-888edfbee7bd",
        "colab": {
          "base_uri": "https://localhost:8080/"
        }
      },
      "outputs": [
        {
          "output_type": "execute_result",
          "data": {
            "text/plain": [
              "3"
            ]
          },
          "metadata": {},
          "execution_count": 24
        }
      ],
      "source": [
        "train_images.ndim"
      ]
    },
    {
      "cell_type": "code",
      "execution_count": 25,
      "metadata": {
        "execution": {
          "iopub.execute_input": "2022-05-21T00:57:20.608889Z",
          "iopub.status.busy": "2022-05-21T00:57:20.608612Z",
          "iopub.status.idle": "2022-05-21T00:57:20.614638Z",
          "shell.execute_reply": "2022-05-21T00:57:20.613826Z"
        },
        "id": "SWgMFCzV1qI3",
        "outputId": "bee53393-460a-4b1a-8c0d-8e7c66a80d2c",
        "colab": {
          "base_uri": "https://localhost:8080/"
        }
      },
      "outputs": [
        {
          "output_type": "execute_result",
          "data": {
            "text/plain": [
              "(60000, 28, 28)"
            ]
          },
          "metadata": {},
          "execution_count": 25
        }
      ],
      "source": [
        "train_images.shape"
      ]
    },
    {
      "cell_type": "code",
      "execution_count": 26,
      "metadata": {
        "execution": {
          "iopub.execute_input": "2022-05-21T00:57:20.618889Z",
          "iopub.status.busy": "2022-05-21T00:57:20.618226Z",
          "iopub.status.idle": "2022-05-21T00:57:20.625094Z",
          "shell.execute_reply": "2022-05-21T00:57:20.624338Z"
        },
        "id": "FbDovWF61qI3",
        "outputId": "8338f226-0538-4fdc-d2e4-141192f5c716",
        "colab": {
          "base_uri": "https://localhost:8080/"
        }
      },
      "outputs": [
        {
          "output_type": "execute_result",
          "data": {
            "text/plain": [
              "dtype('uint8')"
            ]
          },
          "metadata": {},
          "execution_count": 26
        }
      ],
      "source": [
        "train_images.dtype"
      ]
    },
    {
      "cell_type": "markdown",
      "metadata": {
        "id": "JRoaVKPv1qI3"
      },
      "source": [
        "**다섯 번째 이미지 출력하기**"
      ]
    },
    {
      "cell_type": "code",
      "execution_count": 27,
      "metadata": {
        "execution": {
          "iopub.execute_input": "2022-05-21T00:57:20.628820Z",
          "iopub.status.busy": "2022-05-21T00:57:20.628306Z",
          "iopub.status.idle": "2022-05-21T00:57:21.431208Z",
          "shell.execute_reply": "2022-05-21T00:57:21.430286Z"
        },
        "id": "IIZkhp0i1qI4",
        "outputId": "3a7a503f-45b0-4668-b927-4a4a8a000301",
        "colab": {
          "base_uri": "https://localhost:8080/",
          "height": 430
        }
      },
      "outputs": [
        {
          "output_type": "display_data",
          "data": {
            "text/plain": [
              "<Figure size 640x480 with 1 Axes>"
            ],
            "image/png": "[encoded data removed]"
          },
          "metadata": {}
        }
      ],
      "source": [
        "import matplotlib.pyplot as plt\n",
        "digit = train_images[4]\n",
        "plt.imshow(digit, cmap=plt.cm.binary)\n",
        "plt.show()"
      ]
    },
    {
      "cell_type": "code",
      "execution_count": 28,
      "metadata": {
        "execution": {
          "iopub.execute_input": "2022-05-21T00:57:21.435121Z",
          "iopub.status.busy": "2022-05-21T00:57:21.434503Z",
          "iopub.status.idle": "2022-05-21T00:57:21.439445Z",
          "shell.execute_reply": "2022-05-21T00:57:21.438851Z"
        },
        "id": "SIQgEABY1qI4",
        "outputId": "bf40d971-8685-4ebf-b647-50419b59242f",
        "colab": {
          "base_uri": "https://localhost:8080/"
        }
      },
      "outputs": [
        {
          "output_type": "execute_result",
          "data": {
            "text/plain": [
              "9"
            ]
          },
          "metadata": {},
          "execution_count": 28
        }
      ],
      "source": [
        "train_labels[4]"
      ]
    },
    {
      "cell_type": "markdown",
      "metadata": {
        "id": "wBkiHJlR1qI4"
      },
      "source": [
        "### 넘파이로 텐서 조작하기"
      ]
    },
    {
      "cell_type": "code",
      "execution_count": 29,
      "metadata": {
        "execution": {
          "iopub.execute_input": "2022-05-21T00:57:21.443500Z",
          "iopub.status.busy": "2022-05-21T00:57:21.443068Z",
          "iopub.status.idle": "2022-05-21T00:57:21.447465Z",
          "shell.execute_reply": "2022-05-21T00:57:21.446885Z"
        },
        "id": "c2A6S7-s1qI4",
        "outputId": "11896be0-e207-4bdf-ae2e-e0f7fd601788",
        "colab": {
          "base_uri": "https://localhost:8080/"
        }
      },
      "outputs": [
        {
          "output_type": "execute_result",
          "data": {
            "text/plain": [
              "(90, 28, 28)"
            ]
          },
          "metadata": {},
          "execution_count": 29
        }
      ],
      "source": [
        "my_slice = train_images[10:100]\n",
        "my_slice.shape"
      ]
    },
    {
      "cell_type": "code",
      "execution_count": 30,
      "metadata": {
        "execution": {
          "iopub.execute_input": "2022-05-21T00:57:21.450776Z",
          "iopub.status.busy": "2022-05-21T00:57:21.450356Z",
          "iopub.status.idle": "2022-05-21T00:57:21.454814Z",
          "shell.execute_reply": "2022-05-21T00:57:21.454187Z"
        },
        "id": "yTGVsW8W1qI4",
        "outputId": "c6cf0af1-866f-42fd-ff57-168f9629bc83",
        "colab": {
          "base_uri": "https://localhost:8080/"
        }
      },
      "outputs": [
        {
          "output_type": "execute_result",
          "data": {
            "text/plain": [
              "(90, 28, 28)"
            ]
          },
          "metadata": {},
          "execution_count": 30
        }
      ],
      "source": [
        "my_slice = train_images[10:100, :, :]\n",
        "my_slice.shape"
      ]
    },
    {
      "cell_type": "code",
      "execution_count": 31,
      "metadata": {
        "execution": {
          "iopub.execute_input": "2022-05-21T00:57:21.458290Z",
          "iopub.status.busy": "2022-05-21T00:57:21.457804Z",
          "iopub.status.idle": "2022-05-21T00:57:21.462673Z",
          "shell.execute_reply": "2022-05-21T00:57:21.461775Z"
        },
        "id": "hQ-iwuuM1qI4",
        "outputId": "f5719139-559d-4feb-b717-c311477741ba",
        "colab": {
          "base_uri": "https://localhost:8080/"
        }
      },
      "outputs": [
        {
          "output_type": "execute_result",
          "data": {
            "text/plain": [
              "(90, 28, 28)"
            ]
          },
          "metadata": {},
          "execution_count": 31
        }
      ],
      "source": [
        "my_slice = train_images[10:100, 0:28, 0:28]\n",
        "my_slice.shape"
      ]
    },
    {
      "cell_type": "code",
      "execution_count": 32,
      "metadata": {
        "execution": {
          "iopub.execute_input": "2022-05-21T00:57:21.465976Z",
          "iopub.status.busy": "2022-05-21T00:57:21.465505Z",
          "iopub.status.idle": "2022-05-21T00:57:21.469168Z",
          "shell.execute_reply": "2022-05-21T00:57:21.468362Z"
        },
        "id": "na1tzxx21qI4"
      },
      "outputs": [],
      "source": [
        "my_slice = train_images[:, 14:, 14:]"
      ]
    },
    {
      "cell_type": "code",
      "execution_count": 33,
      "metadata": {
        "execution": {
          "iopub.execute_input": "2022-05-21T00:57:21.472711Z",
          "iopub.status.busy": "2022-05-21T00:57:21.472282Z",
          "iopub.status.idle": "2022-05-21T00:57:21.476345Z",
          "shell.execute_reply": "2022-05-21T00:57:21.475454Z"
        },
        "id": "jTHEZSaa1qI5"
      },
      "outputs": [],
      "source": [
        "my_slice = train_images[:, 7:-7, 7:-7]"
      ]
    },
    {
      "cell_type": "markdown",
      "metadata": {
        "id": "VHuR99nN1qI5"
      },
      "source": [
        "### 배치 데이터"
      ]
    },
    {
      "cell_type": "code",
      "execution_count": 34,
      "metadata": {
        "execution": {
          "iopub.execute_input": "2022-05-21T00:57:21.479963Z",
          "iopub.status.busy": "2022-05-21T00:57:21.479396Z",
          "iopub.status.idle": "2022-05-21T00:57:21.482994Z",
          "shell.execute_reply": "2022-05-21T00:57:21.482245Z"
        },
        "id": "Ewj8YTjl1qI5"
      },
      "outputs": [],
      "source": [
        "batch = train_images[:128]"
      ]
    },
    {
      "cell_type": "code",
      "execution_count": 35,
      "metadata": {
        "execution": {
          "iopub.execute_input": "2022-05-21T00:57:21.486283Z",
          "iopub.status.busy": "2022-05-21T00:57:21.485817Z",
          "iopub.status.idle": "2022-05-21T00:57:21.489326Z",
          "shell.execute_reply": "2022-05-21T00:57:21.488653Z"
        },
        "id": "CKvQh_Dc1qI5"
      },
      "outputs": [],
      "source": [
        "batch = train_images[128:256]"
      ]
    },
    {
      "cell_type": "code",
      "execution_count": 36,
      "metadata": {
        "execution": {
          "iopub.execute_input": "2022-05-21T00:57:21.492485Z",
          "iopub.status.busy": "2022-05-21T00:57:21.491982Z",
          "iopub.status.idle": "2022-05-21T00:57:21.495891Z",
          "shell.execute_reply": "2022-05-21T00:57:21.495127Z"
        },
        "id": "FXxjaILB1qI5"
      },
      "outputs": [],
      "source": [
        "n = 3\n",
        "batch = train_images[128 * n:128 * (n + 1)]"
      ]
    },
    {
      "cell_type": "markdown",
      "metadata": {
        "id": "zCoiKdln1qI5"
      },
      "source": [
        "### 텐서의 실제 사례"
      ]
    },
    {
      "cell_type": "markdown",
      "metadata": {
        "id": "IdfIlLai1qI5"
      },
      "source": [
        "### 벡터 데이터"
      ]
    },
    {
      "cell_type": "markdown",
      "metadata": {
        "id": "mraA72yU1qI5"
      },
      "source": [
        "### 시계열 데이터 또는 시퀀스 데이터"
      ]
    },
    {
      "cell_type": "markdown",
      "metadata": {
        "id": "sN_C-CyC1qI5"
      },
      "source": [
        "### 이미지 데이터"
      ]
    },
    {
      "cell_type": "markdown",
      "metadata": {
        "id": "V_1Nl_5a1qI6"
      },
      "source": [
        "### 비디오 데이터"
      ]
    },
    {
      "cell_type": "markdown",
      "metadata": {
        "id": "Up42nxHL1qI6"
      },
      "source": [
        "## 신경망의 톱니바퀴: 텐서 연산"
      ]
    },
    {
      "cell_type": "markdown",
      "metadata": {
        "id": "nkl--fF91qI6"
      },
      "source": [
        "### 원소별 연산"
      ]
    },
    {
      "cell_type": "code",
      "execution_count": 37,
      "metadata": {
        "execution": {
          "iopub.execute_input": "2022-05-21T00:57:21.499755Z",
          "iopub.status.busy": "2022-05-21T00:57:21.499215Z",
          "iopub.status.idle": "2022-05-21T00:57:21.503803Z",
          "shell.execute_reply": "2022-05-21T00:57:21.502971Z"
        },
        "id": "t6Z3vq3l1qI6"
      },
      "outputs": [],
      "source": [
        "def naive_relu(x):\n",
        "    assert len(x.shape) == 2\n",
        "    x = x.copy()\n",
        "    for i in range(x.shape[0]):\n",
        "        for j in range(x.shape[1]):\n",
        "            x[i, j] = max(x[i, j], 0)\n",
        "    return x"
      ]
    },
    {
      "cell_type": "code",
      "execution_count": 38,
      "metadata": {
        "execution": {
          "iopub.execute_input": "2022-05-21T00:57:21.507340Z",
          "iopub.status.busy": "2022-05-21T00:57:21.506666Z",
          "iopub.status.idle": "2022-05-21T00:57:21.511473Z",
          "shell.execute_reply": "2022-05-21T00:57:21.510630Z"
        },
        "id": "uaoPSZmK1qI6"
      },
      "outputs": [],
      "source": [
        "def naive_add(x, y):\n",
        "    assert len(x.shape) == 2\n",
        "    assert x.shape == y.shape\n",
        "    x = x.copy()\n",
        "    for i in range(x.shape[0]):\n",
        "        for j in range(x.shape[1]):\n",
        "            x[i, j] += y[i, j]\n",
        "    return x"
      ]
    },
    {
      "cell_type": "code",
      "execution_count": 39,
      "metadata": {
        "execution": {
          "iopub.execute_input": "2022-05-21T00:57:21.514953Z",
          "iopub.status.busy": "2022-05-21T00:57:21.514566Z",
          "iopub.status.idle": "2022-05-21T00:57:21.524287Z",
          "shell.execute_reply": "2022-05-21T00:57:21.523672Z"
        },
        "id": "yahpjVBQ1qI6",
        "outputId": "8900339d-cc63-48f3-b509-f853b1f0b81a",
        "colab": {
          "base_uri": "https://localhost:8080/"
        }
      },
      "outputs": [
        {
          "output_type": "stream",
          "name": "stdout",
          "text": [
            "걸린 시간: 0.01 s\n"
          ]
        }
      ],
      "source": [
        "import time\n",
        "\n",
        "x = np.random.random((20, 100))\n",
        "y = np.random.random((20, 100))\n",
        "\n",
        "t0 = time.time()\n",
        "for _ in range(1000):\n",
        "    z = x + y\n",
        "    z = np.maximum(z, 0.)\n",
        "print(\"걸린 시간: {0:.2f} s\".format(time.time() - t0))"
      ]
    },
    {
      "cell_type": "code",
      "execution_count": 40,
      "metadata": {
        "execution": {
          "iopub.execute_input": "2022-05-21T00:57:21.527704Z",
          "iopub.status.busy": "2022-05-21T00:57:21.527269Z",
          "iopub.status.idle": "2022-05-21T00:57:23.525600Z",
          "shell.execute_reply": "2022-05-21T00:57:23.524629Z"
        },
        "id": "qA4UxC_g1qI6",
        "outputId": "2c11aaee-bf40-428e-aeb2-85012da20f86",
        "colab": {
          "base_uri": "https://localhost:8080/"
        }
      },
      "outputs": [
        {
          "output_type": "stream",
          "name": "stdout",
          "text": [
            "걸린 시간: 1.72 s\n"
          ]
        }
      ],
      "source": [
        "t0 = time.time()\n",
        "for _ in range(1000):\n",
        "    z = naive_add(x, y)\n",
        "    z = naive_relu(z)\n",
        "print(\"걸린 시간: {0:.2f} s\".format(time.time() - t0))"
      ]
    },
    {
      "cell_type": "markdown",
      "metadata": {
        "id": "9ZkDW9ie1qI7"
      },
      "source": [
        "### 브로드캐스팅"
      ]
    },
    {
      "cell_type": "code",
      "execution_count": 41,
      "metadata": {
        "execution": {
          "iopub.execute_input": "2022-05-21T00:57:23.529492Z",
          "iopub.status.busy": "2022-05-21T00:57:23.529207Z",
          "iopub.status.idle": "2022-05-21T00:57:23.533586Z",
          "shell.execute_reply": "2022-05-21T00:57:23.532638Z"
        },
        "id": "Rpk8MkPx1qI7"
      },
      "outputs": [],
      "source": [
        "import numpy as np\n",
        "X = np.random.random((32, 10))\n",
        "y = np.random.random((10,))"
      ]
    },
    {
      "cell_type": "code",
      "execution_count": 42,
      "metadata": {
        "execution": {
          "iopub.execute_input": "2022-05-21T00:57:23.536953Z",
          "iopub.status.busy": "2022-05-21T00:57:23.536681Z",
          "iopub.status.idle": "2022-05-21T00:57:23.541762Z",
          "shell.execute_reply": "2022-05-21T00:57:23.540974Z"
        },
        "id": "dBPKHsHi1qI7"
      },
      "outputs": [],
      "source": [
        "y = np.expand_dims(y, axis=0)"
      ]
    },
    {
      "cell_type": "code",
      "execution_count": 43,
      "metadata": {
        "execution": {
          "iopub.execute_input": "2022-05-21T00:57:23.545374Z",
          "iopub.status.busy": "2022-05-21T00:57:23.545120Z",
          "iopub.status.idle": "2022-05-21T00:57:23.549140Z",
          "shell.execute_reply": "2022-05-21T00:57:23.548341Z"
        },
        "id": "3fuvM3rd1qI7"
      },
      "outputs": [],
      "source": [
        "Y = np.concatenate([y] * 32, axis=0)"
      ]
    },
    {
      "cell_type": "code",
      "execution_count": 44,
      "metadata": {
        "execution": {
          "iopub.execute_input": "2022-05-21T00:57:23.552981Z",
          "iopub.status.busy": "2022-05-21T00:57:23.552734Z",
          "iopub.status.idle": "2022-05-21T00:57:23.557779Z",
          "shell.execute_reply": "2022-05-21T00:57:23.557013Z"
        },
        "id": "DM59177S1qI7"
      },
      "outputs": [],
      "source": [
        "def naive_add_matrix_and_vector(x, y):\n",
        "    assert len(x.shape) == 2\n",
        "    assert len(y.shape) == 1\n",
        "    assert x.shape[1] == y.shape[0]\n",
        "    x = x.copy()\n",
        "    for i in range(x.shape[0]):\n",
        "        for j in range(x.shape[1]):\n",
        "            x[i, j] += y[j]\n",
        "    return x"
      ]
    },
    {
      "cell_type": "code",
      "execution_count": 45,
      "metadata": {
        "execution": {
          "iopub.execute_input": "2022-05-21T00:57:23.561664Z",
          "iopub.status.busy": "2022-05-21T00:57:23.561412Z",
          "iopub.status.idle": "2022-05-21T00:57:23.566195Z",
          "shell.execute_reply": "2022-05-21T00:57:23.565424Z"
        },
        "id": "48yuFoqQ1qI7"
      },
      "outputs": [],
      "source": [
        "import numpy as np\n",
        "x = np.random.random((64, 3, 32, 10))\n",
        "y = np.random.random((32, 10))\n",
        "z = np.maximum(x, y)"
      ]
    },
    {
      "cell_type": "markdown",
      "metadata": {
        "id": "gtaTHBhr1qI7"
      },
      "source": [
        "### 텐서 곱셈"
      ]
    },
    {
      "cell_type": "code",
      "execution_count": 46,
      "metadata": {
        "execution": {
          "iopub.execute_input": "2022-05-21T00:57:23.570018Z",
          "iopub.status.busy": "2022-05-21T00:57:23.569765Z",
          "iopub.status.idle": "2022-05-21T00:57:23.574104Z",
          "shell.execute_reply": "2022-05-21T00:57:23.573257Z"
        },
        "id": "Bfm1DPx91qI7"
      },
      "outputs": [],
      "source": [
        "x = np.random.random((32,))\n",
        "y = np.random.random((32,))\n",
        "z = np.dot(x, y)"
      ]
    },
    {
      "cell_type": "code",
      "execution_count": 47,
      "metadata": {
        "execution": {
          "iopub.execute_input": "2022-05-21T00:57:23.578149Z",
          "iopub.status.busy": "2022-05-21T00:57:23.577898Z",
          "iopub.status.idle": "2022-05-21T00:57:23.582594Z",
          "shell.execute_reply": "2022-05-21T00:57:23.581768Z"
        },
        "id": "0NHLG02B1qI7"
      },
      "outputs": [],
      "source": [
        "def naive_vector_dot(x, y):\n",
        "    assert len(x.shape) == 1\n",
        "    assert len(y.shape) == 1\n",
        "    assert x.shape[0] == y.shape[0]\n",
        "    z = 0.\n",
        "    for i in range(x.shape[0]):\n",
        "        z += x[i] * y[i]\n",
        "    return z"
      ]
    },
    {
      "cell_type": "code",
      "execution_count": 48,
      "metadata": {
        "execution": {
          "iopub.execute_input": "2022-05-21T00:57:23.586856Z",
          "iopub.status.busy": "2022-05-21T00:57:23.586576Z",
          "iopub.status.idle": "2022-05-21T00:57:23.592373Z",
          "shell.execute_reply": "2022-05-21T00:57:23.591083Z"
        },
        "id": "vv6ks6x61qI8"
      },
      "outputs": [],
      "source": [
        "def naive_matrix_vector_dot(x, y):\n",
        "    assert len(x.shape) == 2\n",
        "    assert len(y.shape) == 1\n",
        "    assert x.shape[1] == y.shape[0]\n",
        "    z = np.zeros(x.shape[0])\n",
        "    for i in range(x.shape[0]):\n",
        "        for j in range(x.shape[1]):\n",
        "            z[i] += x[i, j] * y[j]\n",
        "    return z"
      ]
    },
    {
      "cell_type": "code",
      "execution_count": 49,
      "metadata": {
        "execution": {
          "iopub.execute_input": "2022-05-21T00:57:23.595861Z",
          "iopub.status.busy": "2022-05-21T00:57:23.595594Z",
          "iopub.status.idle": "2022-05-21T00:57:23.599907Z",
          "shell.execute_reply": "2022-05-21T00:57:23.599230Z"
        },
        "id": "Y_AwR-rh1qI8"
      },
      "outputs": [],
      "source": [
        "def naive_matrix_vector_dot(x, y):\n",
        "    z = np.zeros(x.shape[0])\n",
        "    for i in range(x.shape[0]):\n",
        "        z[i] = naive_vector_dot(x[i, :], y)\n",
        "    return z"
      ]
    },
    {
      "cell_type": "code",
      "execution_count": 50,
      "metadata": {
        "execution": {
          "iopub.execute_input": "2022-05-21T00:57:23.604217Z",
          "iopub.status.busy": "2022-05-21T00:57:23.603640Z",
          "iopub.status.idle": "2022-05-21T00:57:23.609035Z",
          "shell.execute_reply": "2022-05-21T00:57:23.608386Z"
        },
        "id": "_IJjhQB31qI8"
      },
      "outputs": [],
      "source": [
        "def naive_matrix_dot(x, y):\n",
        "    assert len(x.shape) == 2\n",
        "    assert len(y.shape) == 2\n",
        "    assert x.shape[1] == y.shape[0]\n",
        "    z = np.zeros((x.shape[0], y.shape[1]))\n",
        "    for i in range(x.shape[0]):\n",
        "        for j in range(y.shape[1]):\n",
        "            row_x = x[i, :]\n",
        "            column_y = y[:, j]\n",
        "            z[i, j] = naive_vector_dot(row_x, column_y)\n",
        "    return z"
      ]
    },
    {
      "cell_type": "markdown",
      "metadata": {
        "id": "kaVH1u8X1qI8"
      },
      "source": [
        "### 텐서 크기 변환"
      ]
    },
    {
      "cell_type": "code",
      "execution_count": 51,
      "metadata": {
        "execution": {
          "iopub.execute_input": "2022-05-21T00:57:23.612816Z",
          "iopub.status.busy": "2022-05-21T00:57:23.612353Z",
          "iopub.status.idle": "2022-05-21T00:57:23.615796Z",
          "shell.execute_reply": "2022-05-21T00:57:23.615179Z"
        },
        "id": "Yc92w48C1qI8"
      },
      "outputs": [],
      "source": [
        "train_images = train_images.reshape((60000, 28 * 28))"
      ]
    },
    {
      "cell_type": "code",
      "execution_count": 52,
      "metadata": {
        "execution": {
          "iopub.execute_input": "2022-05-21T00:57:23.620077Z",
          "iopub.status.busy": "2022-05-21T00:57:23.619555Z",
          "iopub.status.idle": "2022-05-21T00:57:23.625554Z",
          "shell.execute_reply": "2022-05-21T00:57:23.624598Z"
        },
        "id": "0hKBrXod1qI8",
        "outputId": "d52a81f2-0cd4-486f-d737-843b092aa638",
        "colab": {
          "base_uri": "https://localhost:8080/"
        }
      },
      "outputs": [
        {
          "output_type": "execute_result",
          "data": {
            "text/plain": [
              "(3, 2)"
            ]
          },
          "metadata": {},
          "execution_count": 52
        }
      ],
      "source": [
        "x = np.array([[0., 1.],\n",
        "             [2., 3.],\n",
        "             [4., 5.]])\n",
        "x.shape"
      ]
    },
    {
      "cell_type": "code",
      "execution_count": 53,
      "metadata": {
        "execution": {
          "iopub.execute_input": "2022-05-21T00:57:23.629139Z",
          "iopub.status.busy": "2022-05-21T00:57:23.628859Z",
          "iopub.status.idle": "2022-05-21T00:57:23.634545Z",
          "shell.execute_reply": "2022-05-21T00:57:23.633514Z"
        },
        "id": "86-wf5je1qI8",
        "outputId": "c280232e-845a-49a3-8797-832a48be0f9a",
        "colab": {
          "base_uri": "https://localhost:8080/"
        }
      },
      "outputs": [
        {
          "output_type": "execute_result",
          "data": {
            "text/plain": [
              "array([[0.],\n",
              "       [1.],\n",
              "       [2.],\n",
              "       [3.],\n",
              "       [4.],\n",
              "       [5.]])"
            ]
          },
          "metadata": {},
          "execution_count": 53
        }
      ],
      "source": [
        "x = x.reshape((6, 1))\n",
        "x"
      ]
    },
    {
      "cell_type": "code",
      "source": [
        "x = x.reshape((2, 3))\n",
        "x"
      ],
      "metadata": {
        "id": "gtw2H4682AOF",
        "outputId": "e41b51fb-5942-458b-c691-7bfc990fd7d8",
        "colab": {
          "base_uri": "https://localhost:8080/"
        }
      },
      "execution_count": 54,
      "outputs": [
        {
          "output_type": "execute_result",
          "data": {
            "text/plain": [
              "array([[0., 1., 2.],\n",
              "       [3., 4., 5.]])"
            ]
          },
          "metadata": {},
          "execution_count": 54
        }
      ]
    },
    {
      "cell_type": "code",
      "execution_count": 55,
      "metadata": {
        "execution": {
          "iopub.execute_input": "2022-05-21T00:57:23.639766Z",
          "iopub.status.busy": "2022-05-21T00:57:23.639078Z",
          "iopub.status.idle": "2022-05-21T00:57:23.644899Z",
          "shell.execute_reply": "2022-05-21T00:57:23.644035Z"
        },
        "id": "Dl9-o-GI1qI8",
        "outputId": "7a3ff01e-311e-4057-b321-2f927d5bdeb6",
        "colab": {
          "base_uri": "https://localhost:8080/"
        }
      },
      "outputs": [
        {
          "output_type": "execute_result",
          "data": {
            "text/plain": [
              "(20, 300)"
            ]
          },
          "metadata": {},
          "execution_count": 55
        }
      ],
      "source": [
        "x = np.zeros((300, 20))\n",
        "x = np.transpose(x)\n",
        "x.shape"
      ]
    },
    {
      "cell_type": "markdown",
      "metadata": {
        "id": "MniATBRC1qI9"
      },
      "source": [
        "### 텐서 연산의 기하학적 해석"
      ]
    },
    {
      "cell_type": "markdown",
      "metadata": {
        "id": "Vkfc22a01qI9"
      },
      "source": [
        "### 딥러닝의 기하학적 해석"
      ]
    },
    {
      "cell_type": "markdown",
      "metadata": {
        "id": "sAFQT9yo1qI9"
      },
      "source": [
        "## 신경망의 엔진: 그레이디언트 기반 최적화"
      ]
    },
    {
      "cell_type": "markdown",
      "metadata": {
        "id": "Sa7y4mc-1qI9"
      },
      "source": [
        "### 도함수란?"
      ]
    },
    {
      "cell_type": "markdown",
      "metadata": {
        "id": "DmdsFrvu1qI9"
      },
      "source": [
        "### 텐서 연산의 도함수: 그레이디언트"
      ]
    },
    {
      "cell_type": "markdown",
      "metadata": {
        "id": "HGJX4BYw1qI9"
      },
      "source": [
        "### 확률적 경사 하강법"
      ]
    },
    {
      "cell_type": "markdown",
      "metadata": {
        "id": "vuwyaSaB1qI9"
      },
      "source": [
        "### 도함수 연결: 역전파 알고리즘"
      ]
    },
    {
      "cell_type": "markdown",
      "metadata": {
        "id": "dLFHRaA_1qI9"
      },
      "source": [
        "#### 연쇄 법칙"
      ]
    },
    {
      "cell_type": "markdown",
      "metadata": {
        "id": "uFf4jwDb1qI9"
      },
      "source": [
        "#### 계산 그래프를 활용한 자동 미분"
      ]
    },
    {
      "cell_type": "markdown",
      "metadata": {
        "id": "1FH_nw__1qI9"
      },
      "source": [
        "#### 텐서플로의 그레이디언트 테이프"
      ]
    },
    {
      "cell_type": "code",
      "execution_count": 56,
      "metadata": {
        "execution": {
          "iopub.execute_input": "2022-05-21T00:57:23.649769Z",
          "iopub.status.busy": "2022-05-21T00:57:23.649237Z",
          "iopub.status.idle": "2022-05-21T00:57:23.656183Z",
          "shell.execute_reply": "2022-05-21T00:57:23.655436Z"
        },
        "id": "gTu3wWTB1qI9"
      },
      "outputs": [],
      "source": [
        "import tensorflow as tf\n",
        "x = tf.Variable(0.)\n",
        "with tf.GradientTape() as tape:\n",
        "    y = 2 * x + 3\n",
        "grad_of_y_wrt_x = tape.gradient(y, x)"
      ]
    },
    {
      "cell_type": "code",
      "execution_count": 57,
      "metadata": {
        "execution": {
          "iopub.execute_input": "2022-05-21T00:57:23.659954Z",
          "iopub.status.busy": "2022-05-21T00:57:23.659320Z",
          "iopub.status.idle": "2022-05-21T00:57:23.665978Z",
          "shell.execute_reply": "2022-05-21T00:57:23.665192Z"
        },
        "id": "wQyEYbZo1qI-"
      },
      "outputs": [],
      "source": [
        "x = tf.Variable(tf.zeros((2, 2)))\n",
        "with tf.GradientTape() as tape:\n",
        "    y = 2 * x + 3\n",
        "grad_of_y_wrt_x = tape.gradient(y, x)"
      ]
    },
    {
      "cell_type": "code",
      "execution_count": 58,
      "metadata": {
        "execution": {
          "iopub.execute_input": "2022-05-21T00:57:23.669642Z",
          "iopub.status.busy": "2022-05-21T00:57:23.669139Z",
          "iopub.status.idle": "2022-05-21T00:57:23.677360Z",
          "shell.execute_reply": "2022-05-21T00:57:23.676599Z"
        },
        "id": "zbst9LJC1qI-"
      },
      "outputs": [],
      "source": [
        "W = tf.Variable(tf.random.uniform((2, 2)))\n",
        "b = tf.Variable(tf.zeros((2,)))\n",
        "x = tf.random.uniform((2, 2))\n",
        "with tf.GradientTape() as tape:\n",
        "    y = tf.matmul(x, W) + b\n",
        "grad_of_y_wrt_W_and_b = tape.gradient(y, [W, b])"
      ]
    },
    {
      "cell_type": "markdown",
      "metadata": {
        "id": "ma33AlGI1qI-"
      },
      "source": [
        "## 첫 번째 예제 다시 살펴보기"
      ]
    },
    {
      "cell_type": "code",
      "execution_count": 59,
      "metadata": {
        "execution": {
          "iopub.execute_input": "2022-05-21T00:57:23.681093Z",
          "iopub.status.busy": "2022-05-21T00:57:23.680602Z",
          "iopub.status.idle": "2022-05-21T00:57:24.079600Z",
          "shell.execute_reply": "2022-05-21T00:57:24.078307Z"
        },
        "id": "QwI0nrkj1qI-"
      },
      "outputs": [],
      "source": [
        "(train_images, train_labels), (test_images, test_labels) = mnist.load_data()\n",
        "train_images = train_images.reshape((60000, 28 * 28))\n",
        "train_images = train_images.astype(\"float32\") / 255\n",
        "test_images = test_images.reshape((10000, 28 * 28))\n",
        "test_images = test_images.astype(\"float32\") / 255"
      ]
    },
    {
      "cell_type": "code",
      "execution_count": 60,
      "metadata": {
        "execution": {
          "iopub.execute_input": "2022-05-21T00:57:24.084071Z",
          "iopub.status.busy": "2022-05-21T00:57:24.083440Z",
          "iopub.status.idle": "2022-05-21T00:57:24.092511Z",
          "shell.execute_reply": "2022-05-21T00:57:24.091627Z"
        },
        "id": "lmY9b4qU1qI-"
      },
      "outputs": [],
      "source": [
        "model = keras.Sequential([\n",
        "    layers.Dense(512, activation=\"relu\"),\n",
        "    layers.Dense(10, activation=\"softmax\")\n",
        "])"
      ]
    },
    {
      "cell_type": "code",
      "execution_count": 61,
      "metadata": {
        "execution": {
          "iopub.execute_input": "2022-05-21T00:57:24.096195Z",
          "iopub.status.busy": "2022-05-21T00:57:24.095736Z",
          "iopub.status.idle": "2022-05-21T00:57:24.104256Z",
          "shell.execute_reply": "2022-05-21T00:57:24.103588Z"
        },
        "id": "hfeRt6LZ1qI-"
      },
      "outputs": [],
      "source": [
        "model.compile(optimizer=\"rmsprop\",\n",
        "              loss=\"sparse_categorical_crossentropy\",\n",
        "              metrics=[\"accuracy\"])"
      ]
    },
    {
      "cell_type": "code",
      "execution_count": 62,
      "metadata": {
        "execution": {
          "iopub.execute_input": "2022-05-21T00:57:24.107793Z",
          "iopub.status.busy": "2022-05-21T00:57:24.107143Z",
          "iopub.status.idle": "2022-05-21T00:57:34.534710Z",
          "shell.execute_reply": "2022-05-21T00:57:34.533527Z"
        },
        "id": "K903L3_y1qI-",
        "outputId": "36557d64-2d8a-426e-92b6-d2872bf880e5",
        "colab": {
          "base_uri": "https://localhost:8080/"
        }
      },
      "outputs": [
        {
          "output_type": "stream",
          "name": "stdout",
          "text": [
            "Epoch 1/5\n",
            "469/469 [==============================] - 3s 5ms/step - loss: 0.2621 - accuracy: 0.9253\n",
            "Epoch 2/5\n",
            "469/469 [==============================] - 3s 6ms/step - loss: 0.1064 - accuracy: 0.9685\n",
            "Epoch 3/5\n",
            "469/469 [==============================] - 3s 5ms/step - loss: 0.0703 - accuracy: 0.9791\n",
            "Epoch 4/5\n",
            "469/469 [==============================] - 2s 5ms/step - loss: 0.0507 - accuracy: 0.9847\n",
            "Epoch 5/5\n",
            "469/469 [==============================] - 2s 5ms/step - loss: 0.0380 - accuracy: 0.9885\n"
          ]
        },
        {
          "output_type": "execute_result",
          "data": {
            "text/plain": [
              "<keras.src.callbacks.History at 0x7b2e4cca7580>"
            ]
          },
          "metadata": {},
          "execution_count": 62
        }
      ],
      "source": [
        "model.fit(train_images, train_labels, epochs=5, batch_size=128)"
      ]
    },
    {
      "cell_type": "markdown",
      "metadata": {
        "id": "XAmtOQyq1qI-"
      },
      "source": [
        "### 텐서플로를 사용해 첫 번째 예제를 밑바닥부터 다시 구현하기"
      ]
    },
    {
      "cell_type": "markdown",
      "metadata": {
        "id": "RsBD9EST1qI_"
      },
      "source": [
        "#### 단순한 Dense 클래스"
      ]
    },
    {
      "cell_type": "code",
      "execution_count": 63,
      "metadata": {
        "execution": {
          "iopub.execute_input": "2022-05-21T00:57:34.539073Z",
          "iopub.status.busy": "2022-05-21T00:57:34.538100Z",
          "iopub.status.idle": "2022-05-21T00:57:34.544603Z",
          "shell.execute_reply": "2022-05-21T00:57:34.543941Z"
        },
        "id": "2T0kW_M81qI_"
      },
      "outputs": [],
      "source": [
        "import tensorflow as tf\n",
        "\n",
        "class NaiveDense:\n",
        "    def __init__(self, input_size, output_size, activation):\n",
        "        self.activation = activation\n",
        "\n",
        "        w_shape = (input_size, output_size)\n",
        "        w_initial_value = tf.random.uniform(w_shape, minval=0, maxval=1e-1)\n",
        "        self.W = tf.Variable(w_initial_value)\n",
        "\n",
        "        b_shape = (output_size,)\n",
        "        b_initial_value = tf.zeros(b_shape)\n",
        "        self.b = tf.Variable(b_initial_value)\n",
        "\n",
        "    def __call__(self, inputs):\n",
        "        return self.activation(tf.matmul(inputs, self.W) + self.b)\n",
        "\n",
        "    @property\n",
        "    def weights(self):\n",
        "        return [self.W, self.b]"
      ]
    },
    {
      "cell_type": "markdown",
      "metadata": {
        "id": "qVHHdEOF1qI_"
      },
      "source": [
        "#### 단순한 Sequential 클래스"
      ]
    },
    {
      "cell_type": "code",
      "execution_count": 64,
      "metadata": {
        "execution": {
          "iopub.execute_input": "2022-05-21T00:57:34.549011Z",
          "iopub.status.busy": "2022-05-21T00:57:34.548061Z",
          "iopub.status.idle": "2022-05-21T00:57:34.553613Z",
          "shell.execute_reply": "2022-05-21T00:57:34.552900Z"
        },
        "id": "lQ8O3Mti1qI_"
      },
      "outputs": [],
      "source": [
        "class NaiveSequential:\n",
        "    def __init__(self, layers):\n",
        "        self.layers = layers\n",
        "\n",
        "    def __call__(self, inputs):\n",
        "        x = inputs\n",
        "        for layer in self.layers:\n",
        "           x = layer(x)\n",
        "        return x\n",
        "\n",
        "    @property\n",
        "    def weights(self):\n",
        "       weights = []\n",
        "       for layer in self.layers:\n",
        "           weights += layer.weights\n",
        "       return weights"
      ]
    },
    {
      "cell_type": "code",
      "execution_count": 65,
      "metadata": {
        "execution": {
          "iopub.execute_input": "2022-05-21T00:57:34.557429Z",
          "iopub.status.busy": "2022-05-21T00:57:34.556712Z",
          "iopub.status.idle": "2022-05-21T00:57:34.565352Z",
          "shell.execute_reply": "2022-05-21T00:57:34.564638Z"
        },
        "id": "L40rhe-A1qI_"
      },
      "outputs": [],
      "source": [
        "model = NaiveSequential([\n",
        "    NaiveDense(input_size=28 * 28, output_size=512, activation=tf.nn.relu),\n",
        "    NaiveDense(input_size=512, output_size=10, activation=tf.nn.softmax)\n",
        "])\n",
        "assert len(model.weights) == 4"
      ]
    },
    {
      "cell_type": "code",
      "source": [
        "model.weights"
      ],
      "metadata": {
        "id": "8UPJYiuoZp59",
        "outputId": "93cf4cd2-e7bf-4853-9d3d-344d466549e8",
        "colab": {
          "base_uri": "https://localhost:8080/"
        }
      },
      "execution_count": 67,
      "outputs": [
        {
          "output_type": "execute_result",
          "data": {
            "text/plain": [
              "[<tf.Variable 'Variable:0' shape=(784, 512) dtype=float32, numpy=\n",
              " array([[0.03823153, 0.07383486, 0.09847923, ..., 0.08806449, 0.05318806,\n",
              "         0.00920322],\n",
              "        [0.03407853, 0.09083543, 0.0696157 , ..., 0.09205878, 0.08167564,\n",
              "         0.05919241],\n",
              "        [0.09306272, 0.03817726, 0.03300302, ..., 0.0231663 , 0.02390964,\n",
              "         0.04147282],\n",
              "        ...,\n",
              "        [0.00244557, 0.0013117 , 0.03268284, ..., 0.09599975, 0.01094153,\n",
              "         0.06618821],\n",
              "        [0.07290758, 0.0697161 , 0.02897743, ..., 0.04363405, 0.03420625,\n",
              "         0.09425505],\n",
              "        [0.00462086, 0.00692235, 0.08645999, ..., 0.02978709, 0.055324  ,\n",
              "         0.000433  ]], dtype=float32)>,\n",
              " <tf.Variable 'Variable:0' shape=(512,) dtype=float32, numpy=\n",
              " array([0., 0., 0., 0., 0., 0., 0., 0., 0., 0., 0., 0., 0., 0., 0., 0., 0.,\n",
              "        0., 0., 0., 0., 0., 0., 0., 0., 0., 0., 0., 0., 0., 0., 0., 0., 0.,\n",
              "        0., 0., 0., 0., 0., 0., 0., 0., 0., 0., 0., 0., 0., 0., 0., 0., 0.,\n",
              "        0., 0., 0., 0., 0., 0., 0., 0., 0., 0., 0., 0., 0., 0., 0., 0., 0.,\n",
              "        0., 0., 0., 0., 0., 0., 0., 0., 0., 0., 0., 0., 0., 0., 0., 0., 0.,\n",
              "        0., 0., 0., 0., 0., 0., 0., 0., 0., 0., 0., 0., 0., 0., 0., 0., 0.,\n",
              "        0., 0., 0., 0., 0., 0., 0., 0., 0., 0., 0., 0., 0., 0., 0., 0., 0.,\n",
              "        0., 0., 0., 0., 0., 0., 0., 0., 0., 0., 0., 0., 0., 0., 0., 0., 0.,\n",
              "        0., 0., 0., 0., 0., 0., 0., 0., 0., 0., 0., 0., 0., 0., 0., 0., 0.,\n",
              "        0., 0., 0., 0., 0., 0., 0., 0., 0., 0., 0., 0., 0., 0., 0., 0., 0.,\n",
              "        0., 0., 0., 0., 0., 0., 0., 0., 0., 0., 0., 0., 0., 0., 0., 0., 0.,\n",
              "        0., 0., 0., 0., 0., 0., 0., 0., 0., 0., 0., 0., 0., 0., 0., 0., 0.,\n",
              "        0., 0., 0., 0., 0., 0., 0., 0., 0., 0., 0., 0., 0., 0., 0., 0., 0.,\n",
              "        0., 0., 0., 0., 0., 0., 0., 0., 0., 0., 0., 0., 0., 0., 0., 0., 0.,\n",
              "        0., 0., 0., 0., 0., 0., 0., 0., 0., 0., 0., 0., 0., 0., 0., 0., 0.,\n",
              "        0., 0., 0., 0., 0., 0., 0., 0., 0., 0., 0., 0., 0., 0., 0., 0., 0.,\n",
              "        0., 0., 0., 0., 0., 0., 0., 0., 0., 0., 0., 0., 0., 0., 0., 0., 0.,\n",
              "        0., 0., 0., 0., 0., 0., 0., 0., 0., 0., 0., 0., 0., 0., 0., 0., 0.,\n",
              "        0., 0., 0., 0., 0., 0., 0., 0., 0., 0., 0., 0., 0., 0., 0., 0., 0.,\n",
              "        0., 0., 0., 0., 0., 0., 0., 0., 0., 0., 0., 0., 0., 0., 0., 0., 0.,\n",
              "        0., 0., 0., 0., 0., 0., 0., 0., 0., 0., 0., 0., 0., 0., 0., 0., 0.,\n",
              "        0., 0., 0., 0., 0., 0., 0., 0., 0., 0., 0., 0., 0., 0., 0., 0., 0.,\n",
              "        0., 0., 0., 0., 0., 0., 0., 0., 0., 0., 0., 0., 0., 0., 0., 0., 0.,\n",
              "        0., 0., 0., 0., 0., 0., 0., 0., 0., 0., 0., 0., 0., 0., 0., 0., 0.,\n",
              "        0., 0., 0., 0., 0., 0., 0., 0., 0., 0., 0., 0., 0., 0., 0., 0., 0.,\n",
              "        0., 0., 0., 0., 0., 0., 0., 0., 0., 0., 0., 0., 0., 0., 0., 0., 0.,\n",
              "        0., 0., 0., 0., 0., 0., 0., 0., 0., 0., 0., 0., 0., 0., 0., 0., 0.,\n",
              "        0., 0., 0., 0., 0., 0., 0., 0., 0., 0., 0., 0., 0., 0., 0., 0., 0.,\n",
              "        0., 0., 0., 0., 0., 0., 0., 0., 0., 0., 0., 0., 0., 0., 0., 0., 0.,\n",
              "        0., 0., 0., 0., 0., 0., 0., 0., 0., 0., 0., 0., 0., 0., 0., 0., 0.,\n",
              "        0., 0.], dtype=float32)>,\n",
              " <tf.Variable 'Variable:0' shape=(512, 10) dtype=float32, numpy=\n",
              " array([[0.09230848, 0.04628906, 0.03003066, ..., 0.03819793, 0.06857558,\n",
              "         0.0606009 ],\n",
              "        [0.06679163, 0.0990461 , 0.07166608, ..., 0.03947728, 0.04320837,\n",
              "         0.01526411],\n",
              "        [0.00625857, 0.01179203, 0.06455272, ..., 0.05070282, 0.09775788,\n",
              "         0.02830281],\n",
              "        ...,\n",
              "        [0.0395317 , 0.04477307, 0.01107105, ..., 0.0765755 , 0.00640391,\n",
              "         0.03822818],\n",
              "        [0.04829859, 0.04072713, 0.02221835, ..., 0.05473702, 0.09793051,\n",
              "         0.05869884],\n",
              "        [0.0805036 , 0.08018669, 0.06528001, ..., 0.05806961, 0.05989903,\n",
              "         0.07747195]], dtype=float32)>,\n",
              " <tf.Variable 'Variable:0' shape=(10,) dtype=float32, numpy=array([0., 0., 0., 0., 0., 0., 0., 0., 0., 0.], dtype=float32)>]"
            ]
          },
          "metadata": {},
          "execution_count": 67
        }
      ]
    },
    {
      "cell_type": "markdown",
      "metadata": {
        "id": "gYioh4jn1qI_"
      },
      "source": [
        "#### 배치 제너레이터"
      ]
    },
    {
      "cell_type": "code",
      "execution_count": 68,
      "metadata": {
        "execution": {
          "iopub.execute_input": "2022-05-21T00:57:34.569718Z",
          "iopub.status.busy": "2022-05-21T00:57:34.568911Z",
          "iopub.status.idle": "2022-05-21T00:57:34.575841Z",
          "shell.execute_reply": "2022-05-21T00:57:34.575023Z"
        },
        "id": "bRwX8xXS1qI_"
      },
      "outputs": [],
      "source": [
        "import math\n",
        "\n",
        "class BatchGenerator:\n",
        "    def __init__(self, images, labels, batch_size=128):\n",
        "        assert len(images) == len(labels)\n",
        "        self.index = 0\n",
        "        self.images = images\n",
        "        self.labels = labels\n",
        "        self.batch_size = batch_size\n",
        "        self.num_batches = math.ceil(len(images) / batch_size)\n",
        "\n",
        "    def next(self):\n",
        "        images = self.images[self.index : self.index + self.batch_size]\n",
        "        labels = self.labels[self.index : self.index + self.batch_size]\n",
        "        self.index += self.batch_size\n",
        "        return images, labels"
      ]
    },
    {
      "cell_type": "markdown",
      "metadata": {
        "id": "UZ89mMQQ1qI_"
      },
      "source": [
        "### 훈련 스텝 실행하기"
      ]
    },
    {
      "cell_type": "code",
      "execution_count": 69,
      "metadata": {
        "execution": {
          "iopub.execute_input": "2022-05-21T00:57:34.579548Z",
          "iopub.status.busy": "2022-05-21T00:57:34.579204Z",
          "iopub.status.idle": "2022-05-21T00:57:34.584549Z",
          "shell.execute_reply": "2022-05-21T00:57:34.583770Z"
        },
        "id": "ts_uBtwz1qJA"
      },
      "outputs": [],
      "source": [
        "def one_training_step(model, images_batch, labels_batch):\n",
        "    with tf.GradientTape() as tape:\n",
        "        predictions = model(images_batch)\n",
        "        per_sample_losses = tf.keras.losses.sparse_categorical_crossentropy(\n",
        "            labels_batch, predictions)\n",
        "        average_loss = tf.reduce_mean(per_sample_losses)\n",
        "    gradients = tape.gradient(average_loss, model.weights)\n",
        "    update_weights(gradients, model.weights)\n",
        "    return average_loss"
      ]
    },
    {
      "cell_type": "code",
      "execution_count": 70,
      "metadata": {
        "execution": {
          "iopub.execute_input": "2022-05-21T00:57:34.587934Z",
          "iopub.status.busy": "2022-05-21T00:57:34.587645Z",
          "iopub.status.idle": "2022-05-21T00:57:34.591908Z",
          "shell.execute_reply": "2022-05-21T00:57:34.591071Z"
        },
        "id": "jaZr2QHV1qJA"
      },
      "outputs": [],
      "source": [
        "learning_rate = 1e-3\n",
        "\n",
        "def update_weights(gradients, weights):\n",
        "    for g, w in zip(gradients, weights):\n",
        "        w.assign_sub(g * learning_rate)"
      ]
    },
    {
      "cell_type": "code",
      "execution_count": null,
      "metadata": {
        "execution": {
          "iopub.execute_input": "2022-05-21T00:57:34.595476Z",
          "iopub.status.busy": "2022-05-21T00:57:34.595223Z",
          "iopub.status.idle": "2022-05-21T00:57:34.600016Z",
          "shell.execute_reply": "2022-05-21T00:57:34.599071Z"
        },
        "id": "Nn_jpOBZ1qJA"
      },
      "outputs": [],
      "source": [
        "from tensorflow.keras import optimizers\n",
        "\n",
        "optimizer = optimizers.SGD(learning_rate=1e-3)\n",
        "\n",
        "def update_weights(gradients, weights):\n",
        "    optimizer.apply_gradients(zip(gradients, weights))"
      ]
    },
    {
      "cell_type": "markdown",
      "metadata": {
        "id": "yQFTzrXG1qJA"
      },
      "source": [
        "### 전체 훈련 루프"
      ]
    },
    {
      "cell_type": "code",
      "execution_count": 71,
      "metadata": {
        "execution": {
          "iopub.execute_input": "2022-05-21T00:57:34.603512Z",
          "iopub.status.busy": "2022-05-21T00:57:34.603225Z",
          "iopub.status.idle": "2022-05-21T00:57:34.608868Z",
          "shell.execute_reply": "2022-05-21T00:57:34.607981Z"
        },
        "id": "LeD5r6c51qJA"
      },
      "outputs": [],
      "source": [
        "def fit(model, images, labels, epochs, batch_size=128):\n",
        "    for epoch_counter in range(epochs):\n",
        "        print(f\"에포크 {epoch_counter}\")\n",
        "        batch_generator = BatchGenerator(images, labels)\n",
        "        for batch_counter in range(batch_generator.num_batches):\n",
        "            images_batch, labels_batch = batch_generator.next()\n",
        "            loss = one_training_step(model, images_batch, labels_batch)\n",
        "            if batch_counter % 100 == 0:\n",
        "                print(f\"{batch_counter}번째 배치 손실: {loss:.2f}\")"
      ]
    },
    {
      "cell_type": "code",
      "execution_count": 72,
      "metadata": {
        "execution": {
          "iopub.execute_input": "2022-05-21T00:57:34.612683Z",
          "iopub.status.busy": "2022-05-21T00:57:34.612226Z",
          "iopub.status.idle": "2022-05-21T00:58:10.090355Z",
          "shell.execute_reply": "2022-05-21T00:58:10.089432Z"
        },
        "id": "fLGhrHuT1qJA",
        "outputId": "fb384912-4c75-4597-84cb-40cb1ad45589",
        "colab": {
          "base_uri": "https://localhost:8080/"
        }
      },
      "outputs": [
        {
          "output_type": "stream",
          "name": "stdout",
          "text": [
            "에포크 0\n",
            "0번째 배치 손실: 3.58\n",
            "100번째 배치 손실: 2.23\n",
            "200번째 배치 손실: 2.20\n",
            "300번째 배치 손실: 2.11\n",
            "400번째 배치 손실: 2.26\n",
            "에포크 1\n",
            "0번째 배치 손실: 1.90\n",
            "100번째 배치 손실: 1.88\n",
            "200번째 배치 손실: 1.83\n",
            "300번째 배치 손실: 1.73\n",
            "400번째 배치 손실: 1.86\n",
            "에포크 2\n",
            "0번째 배치 손실: 1.57\n",
            "100번째 배치 손실: 1.58\n",
            "200번째 배치 손실: 1.50\n",
            "300번째 배치 손실: 1.44\n",
            "400번째 배치 손실: 1.53\n",
            "에포크 3\n",
            "0번째 배치 손실: 1.31\n",
            "100번째 배치 손실: 1.34\n",
            "200번째 배치 손실: 1.24\n",
            "300번째 배치 손실: 1.22\n",
            "400번째 배치 손실: 1.29\n",
            "에포크 4\n",
            "0번째 배치 손실: 1.11\n",
            "100번째 배치 손실: 1.16\n",
            "200번째 배치 손실: 1.04\n",
            "300번째 배치 손실: 1.06\n",
            "400번째 배치 손실: 1.12\n",
            "에포크 5\n",
            "0번째 배치 손실: 0.97\n",
            "100번째 배치 손실: 1.02\n",
            "200번째 배치 손실: 0.91\n",
            "300번째 배치 손실: 0.94\n",
            "400번째 배치 손실: 1.00\n",
            "에포크 6\n",
            "0번째 배치 손실: 0.86\n",
            "100번째 배치 손실: 0.91\n",
            "200번째 배치 손실: 0.80\n",
            "300번째 배치 손실: 0.85\n",
            "400번째 배치 손실: 0.91\n",
            "에포크 7\n",
            "0번째 배치 손실: 0.78\n",
            "100번째 배치 손실: 0.83\n",
            "200번째 배치 손실: 0.73\n",
            "300번째 배치 손실: 0.78\n",
            "400번째 배치 손실: 0.84\n",
            "에포크 8\n",
            "0번째 배치 손실: 0.71\n",
            "100번째 배치 손실: 0.76\n",
            "200번째 배치 손실: 0.67\n",
            "300번째 배치 손실: 0.72\n",
            "400번째 배치 손실: 0.79\n",
            "에포크 9\n",
            "0번째 배치 손실: 0.66\n",
            "100번째 배치 손실: 0.71\n",
            "200번째 배치 손실: 0.62\n",
            "300번째 배치 손실: 0.67\n",
            "400번째 배치 손실: 0.75\n"
          ]
        }
      ],
      "source": [
        "from tensorflow.keras.datasets import mnist\n",
        "(train_images, train_labels), (test_images, test_labels) = mnist.load_data()\n",
        "\n",
        "train_images = train_images.reshape((60000, 28 * 28))\n",
        "train_images = train_images.astype(\"float32\") / 255\n",
        "test_images = test_images.reshape((10000, 28 * 28))\n",
        "test_images = test_images.astype(\"float32\") / 255\n",
        "\n",
        "fit(model, train_images, train_labels, epochs=10, batch_size=128)"
      ]
    },
    {
      "cell_type": "markdown",
      "metadata": {
        "id": "h5TNNZ_E1qJA"
      },
      "source": [
        "### 모델 평가하기"
      ]
    },
    {
      "cell_type": "code",
      "execution_count": 73,
      "metadata": {
        "execution": {
          "iopub.execute_input": "2022-05-21T00:58:10.094649Z",
          "iopub.status.busy": "2022-05-21T00:58:10.094318Z",
          "iopub.status.idle": "2022-05-21T00:58:10.165292Z",
          "shell.execute_reply": "2022-05-21T00:58:10.164371Z"
        },
        "id": "S4XG6fSU1qJA",
        "outputId": "f979bdec-ee33-4a0f-fa8c-bed3aada555c",
        "colab": {
          "base_uri": "https://localhost:8080/"
        }
      },
      "outputs": [
        {
          "output_type": "stream",
          "name": "stdout",
          "text": [
            "정확도: 0.82\n"
          ]
        }
      ],
      "source": [
        "predictions = model(test_images)\n",
        "predictions = predictions.numpy()\n",
        "predicted_labels = np.argmax(predictions, axis=1)\n",
        "matches = predicted_labels == test_labels\n",
        "print(f\"정확도: {matches.mean():.2f}\")"
      ]
    },
    {
      "cell_type": "markdown",
      "metadata": {
        "id": "DSlIQZ5f1qJB"
      },
      "source": [
        "## 요약"
      ]
    }
  ],
  "metadata": {
    "colab": {
      "name": "chapter02_mathematical-building-blocks.i",
      "provenance": []
    },
    "kernelspec": {
      "display_name": "default:Python",
      "language": "python",
      "name": "conda-env-default-py"
    },
    "language_info": {
      "codemirror_mode": {
        "name": "ipython",
        "version": 3
      },
      "file_extension": ".py",
      "mimetype": "text/x-python",
      "name": "python",
      "nbconvert_exporter": "python",
      "pygments_lexer": "ipython3",
      "version": "3.9.10"
    },
    "accelerator": "GPU",
    "gpuClass": "standard"
  },
  "nbformat": 4,
  "nbformat_minor": 0
}