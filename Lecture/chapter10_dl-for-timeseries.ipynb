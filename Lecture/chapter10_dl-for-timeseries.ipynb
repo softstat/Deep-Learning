{
  "cells": [
    {
      "cell_type": "markdown",
      "metadata": {
        "id": "rLyx0NKfjbcR"
      },
      "source": [
        "이 노트북은 [케라스 창시자에게 배우는 딥러닝 2판](https://tensorflow.blog/kerasdl2/)의 예제 코드를 담고 있습니다.\n",
        "\n",
        "<table align=\"left\">\n",
        "    <tr>\n",
        "        <td>\n",
        "            <a href=\"https://colab.research.google.com/github/rickiepark/deep-learning-with-python-2nd/blob/main/chapter10_dl-for-timeseries.ipynb\" target=\"_parent\"><img src=\"https://colab.research.google.com/assets/colab-badge.svg\" alt=\"Open In Colab\"/></a>\n",
        "        </td>\n",
        "    </tr>\n",
        "</table>"
      ]
    },
    {
      "cell_type": "markdown",
      "metadata": {
        "id": "-jmgSYTnjbcU"
      },
      "source": [
        "# 시계열을 위한 딥러닝"
      ]
    },
    {
      "cell_type": "markdown",
      "metadata": {
        "id": "yqfO6TQzjbcV"
      },
      "source": [
        "## 다양한 종류의 시계열 작업"
      ]
    },
    {
      "cell_type": "markdown",
      "metadata": {
        "id": "rMlIvey2jbcV"
      },
      "source": [
        "## 기온 예측 문제"
      ]
    },
    {
      "cell_type": "code",
      "execution_count": 1,
      "metadata": {
        "execution": {
          "iopub.execute_input": "2022-05-20T13:26:55.453195Z",
          "iopub.status.busy": "2022-05-20T13:26:55.452690Z",
          "iopub.status.idle": "2022-05-20T13:26:58.879200Z",
          "shell.execute_reply": "2022-05-20T13:26:58.877667Z"
        },
        "id": "aUCXJRQgjbcV",
        "outputId": "f137e41e-d6d2-4c2f-9146-04644eb31233",
        "colab": {
          "base_uri": "https://localhost:8080/"
        }
      },
      "outputs": [
        {
          "output_type": "stream",
          "name": "stdout",
          "text": [
            "--2024-05-07 01:07:35--  https://s3.amazonaws.com/keras-datasets/jena_climate_2009_2016.csv.zip\n",
            "Resolving s3.amazonaws.com (s3.amazonaws.com)... 16.182.41.248, 52.216.57.160, 52.217.70.38, ...\n",
            "Connecting to s3.amazonaws.com (s3.amazonaws.com)|16.182.41.248|:443... connected.\n",
            "HTTP request sent, awaiting response... 200 OK\n",
            "Length: 13565642 (13M) [application/zip]\n",
            "Saving to: ‘jena_climate_2009_2016.csv.zip’\n",
            "\n",
            "jena_climate_2009_2 100%[===================>]  12.94M  38.7MB/s    in 0.3s    \n",
            "\n",
            "2024-05-07 01:07:35 (38.7 MB/s) - ‘jena_climate_2009_2016.csv.zip’ saved [13565642/13565642]\n",
            "\n",
            "Archive:  jena_climate_2009_2016.csv.zip\n",
            "  inflating: jena_climate_2009_2016.csv  \n",
            "  inflating: __MACOSX/._jena_climate_2009_2016.csv  \n"
          ]
        }
      ],
      "source": [
        "!wget https://s3.amazonaws.com/keras-datasets/jena_climate_2009_2016.csv.zip\n",
        "!unzip jena_climate_2009_2016.csv.zip"
      ]
    },
    {
      "cell_type": "markdown",
      "metadata": {
        "id": "C93ZoFD3jbcX"
      },
      "source": [
        "**예나 날씨 데이터셋 조사하기**"
      ]
    },
    {
      "cell_type": "code",
      "source": [
        "!head jena_climate_2009_2016.csv"
      ],
      "metadata": {
        "id": "0ZBW2_7LmRgh",
        "outputId": "df9bf236-2ab3-4e63-bea5-1f822799dacf",
        "colab": {
          "base_uri": "https://localhost:8080/"
        }
      },
      "execution_count": 3,
      "outputs": [
        {
          "output_type": "stream",
          "name": "stdout",
          "text": [
            "\"Date Time\",\"p (mbar)\",\"T (degC)\",\"Tpot (K)\",\"Tdew (degC)\",\"rh (%)\",\"VPmax (mbar)\",\"VPact (mbar)\",\"VPdef (mbar)\",\"sh (g/kg)\",\"H2OC (mmol/mol)\",\"rho (g/m**3)\",\"wv (m/s)\",\"max. wv (m/s)\",\"wd (deg)\"\n",
            "01.01.2009 00:10:00,996.52,-8.02,265.40,-8.90,93.30,3.33,3.11,0.22,1.94,3.12,1307.75,1.03,1.75,152.30\n",
            "01.01.2009 00:20:00,996.57,-8.41,265.01,-9.28,93.40,3.23,3.02,0.21,1.89,3.03,1309.80,0.72,1.50,136.10\n",
            "01.01.2009 00:30:00,996.53,-8.51,264.91,-9.31,93.90,3.21,3.01,0.20,1.88,3.02,1310.24,0.19,0.63,171.60\n",
            "01.01.2009 00:40:00,996.51,-8.31,265.12,-9.07,94.20,3.26,3.07,0.19,1.92,3.08,1309.19,0.34,0.50,198.00\n",
            "01.01.2009 00:50:00,996.51,-8.27,265.15,-9.04,94.10,3.27,3.08,0.19,1.92,3.09,1309.00,0.32,0.63,214.30\n",
            "01.01.2009 01:00:00,996.50,-8.05,265.38,-8.78,94.40,3.33,3.14,0.19,1.96,3.15,1307.86,0.21,0.63,192.70\n",
            "01.01.2009 01:10:00,996.50,-7.62,265.81,-8.30,94.80,3.44,3.26,0.18,2.04,3.27,1305.68,0.18,0.63,166.50\n",
            "01.01.2009 01:20:00,996.50,-7.62,265.81,-8.36,94.40,3.44,3.25,0.19,2.03,3.26,1305.69,0.19,0.50,118.60\n",
            "01.01.2009 01:30:00,996.50,-7.91,265.52,-8.73,93.80,3.36,3.15,0.21,1.97,3.16,1307.17,0.28,0.75,188.50\n"
          ]
        }
      ]
    },
    {
      "cell_type": "code",
      "execution_count": 2,
      "metadata": {
        "execution": {
          "iopub.execute_input": "2022-05-20T13:26:58.883391Z",
          "iopub.status.busy": "2022-05-20T13:26:58.883062Z",
          "iopub.status.idle": "2022-05-20T13:26:59.026206Z",
          "shell.execute_reply": "2022-05-20T13:26:59.025347Z"
        },
        "id": "Z-0eD31YjbcX",
        "outputId": "18802dbb-66c6-4ff8-ee09-197e883a4b9f",
        "colab": {
          "base_uri": "https://localhost:8080/"
        }
      },
      "outputs": [
        {
          "output_type": "stream",
          "name": "stdout",
          "text": [
            "['\"Date Time\"', '\"p (mbar)\"', '\"T (degC)\"', '\"Tpot (K)\"', '\"Tdew (degC)\"', '\"rh (%)\"', '\"VPmax (mbar)\"', '\"VPact (mbar)\"', '\"VPdef (mbar)\"', '\"sh (g/kg)\"', '\"H2OC (mmol/mol)\"', '\"rho (g/m**3)\"', '\"wv (m/s)\"', '\"max. wv (m/s)\"', '\"wd (deg)\"']\n",
            "420451\n"
          ]
        }
      ],
      "source": [
        "import os\n",
        "fname = os.path.join(\"jena_climate_2009_2016.csv\")\n",
        "\n",
        "with open(fname) as f:\n",
        "    data = f.read()\n",
        "\n",
        "lines = data.split(\"\\n\")\n",
        "header = lines[0].split(\",\")\n",
        "lines = lines[1:]\n",
        "print(header)\n",
        "print(len(lines))"
      ]
    },
    {
      "cell_type": "code",
      "source": [
        "lines[2:3]"
      ],
      "metadata": {
        "id": "j72n56n2m2ag",
        "outputId": "df7086cf-d001-458d-d75f-5b56b0c12eb4",
        "colab": {
          "base_uri": "https://localhost:8080/"
        }
      },
      "execution_count": 6,
      "outputs": [
        {
          "output_type": "execute_result",
          "data": {
            "text/plain": [
              "['01.01.2009 00:30:00,996.53,-8.51,264.91,-9.31,93.90,3.21,3.01,0.20,1.88,3.02,1310.24,0.19,0.63,171.60']"
            ]
          },
          "metadata": {},
          "execution_count": 6
        }
      ]
    },
    {
      "cell_type": "markdown",
      "metadata": {
        "id": "kRnwyaNijbcY"
      },
      "source": [
        "**데이터 파싱**"
      ]
    },
    {
      "cell_type": "code",
      "source": [
        "len(lines)"
      ],
      "metadata": {
        "id": "z3UdOcr9n7-o",
        "outputId": "71aa43bc-cc59-46a1-8a39-1cae43a110b2",
        "colab": {
          "base_uri": "https://localhost:8080/"
        }
      },
      "execution_count": 9,
      "outputs": [
        {
          "output_type": "execute_result",
          "data": {
            "text/plain": [
              "420451"
            ]
          },
          "metadata": {},
          "execution_count": 9
        }
      ]
    },
    {
      "cell_type": "code",
      "execution_count": 7,
      "metadata": {
        "execution": {
          "iopub.execute_input": "2022-05-20T13:26:59.030213Z",
          "iopub.status.busy": "2022-05-20T13:26:59.029492Z",
          "iopub.status.idle": "2022-05-20T13:27:00.936580Z",
          "shell.execute_reply": "2022-05-20T13:27:00.935499Z"
        },
        "id": "FiZFxhiCjbcY"
      },
      "outputs": [],
      "source": [
        "import numpy as np\n",
        "temperature = np.zeros((len(lines),))\n",
        "raw_data = np.zeros((len(lines), len(header) - 1))\n",
        "for i, line in enumerate(lines):\n",
        "    values = [float(x) for x in line.split(\",\")[1:]]\n",
        "    temperature[i] = values[1]\n",
        "    raw_data[i, :] = values[:]"
      ]
    },
    {
      "cell_type": "code",
      "source": [
        "temperature"
      ],
      "metadata": {
        "id": "CZGIN1FboWPj",
        "outputId": "a1bed020-e005-4d22-8095-58b081e4a9f0",
        "colab": {
          "base_uri": "https://localhost:8080/"
        }
      },
      "execution_count": 13,
      "outputs": [
        {
          "output_type": "execute_result",
          "data": {
            "text/plain": [
              "array([-8.02, -8.41, -8.51, ..., -3.16, -4.23, -4.82])"
            ]
          },
          "metadata": {},
          "execution_count": 13
        }
      ]
    },
    {
      "cell_type": "markdown",
      "metadata": {
        "id": "b1MbsjsljbcZ"
      },
      "source": [
        "**전체 기온을 그래프로 그리기**"
      ]
    },
    {
      "cell_type": "code",
      "execution_count": 8,
      "metadata": {
        "execution": {
          "iopub.execute_input": "2022-05-20T13:27:00.940623Z",
          "iopub.status.busy": "2022-05-20T13:27:00.940326Z",
          "iopub.status.idle": "2022-05-20T13:27:02.011631Z",
          "shell.execute_reply": "2022-05-20T13:27:02.010321Z"
        },
        "id": "o6gAh5ecjbcZ",
        "outputId": "f7f803f9-1396-448b-d085-24403e0e2ae0",
        "colab": {
          "base_uri": "https://localhost:8080/",
          "height": 434
        }
      },
      "outputs": [
        {
          "output_type": "display_data",
          "data": {
            "text/plain": [
              "<Figure size 640x480 with 1 Axes>"
            ],
            "image/png": "[encoded data removed]"
          },
          "metadata": {}
        }
      ],
      "source": [
        "from matplotlib import pyplot as plt\n",
        "plt.plot(range(len(temperature)), temperature)\n",
        "plt.show()"
      ]
    },
    {
      "cell_type": "markdown",
      "metadata": {
        "id": "aALKlaFJjbcZ"
      },
      "source": [
        "**처음 10일간의 기온을 그래프로 그리기**"
      ]
    },
    {
      "cell_type": "code",
      "execution_count": null,
      "metadata": {
        "execution": {
          "iopub.execute_input": "2022-05-20T13:27:02.015866Z",
          "iopub.status.busy": "2022-05-20T13:27:02.015374Z",
          "iopub.status.idle": "2022-05-20T13:27:02.123996Z",
          "shell.execute_reply": "2022-05-20T13:27:02.122754Z"
        },
        "id": "FGPdWjXujbca",
        "outputId": "c478e933-8aff-4a8f-8c01-1f3c8886c72f",
        "colab": {
          "base_uri": "https://localhost:8080/",
          "height": 430
        }
      },
      "outputs": [
        {
          "output_type": "display_data",
          "data": {
            "text/plain": [
              "<Figure size 640x480 with 1 Axes>"
            ],
            "image/png": "[encoded data removed]"
          },
          "metadata": {}
        }
      ],
      "source": [
        "plt.plot(range(1440), temperature[:1440])\n",
        "plt.show()"
      ]
    },
    {
      "cell_type": "markdown",
      "metadata": {
        "id": "QaZN550Xjbca"
      },
      "source": [
        "**각 분할에 사용할 샘플 수 계산하기**"
      ]
    },
    {
      "cell_type": "code",
      "execution_count": 15,
      "metadata": {
        "execution": {
          "iopub.execute_input": "2022-05-20T13:27:02.128070Z",
          "iopub.status.busy": "2022-05-20T13:27:02.127766Z",
          "iopub.status.idle": "2022-05-20T13:27:02.133998Z",
          "shell.execute_reply": "2022-05-20T13:27:02.132864Z"
        },
        "id": "YG7JjzJtjbca",
        "outputId": "bd7630a2-cb0e-49c9-97f0-189249947424",
        "colab": {
          "base_uri": "https://localhost:8080/"
        }
      },
      "outputs": [
        {
          "output_type": "stream",
          "name": "stdout",
          "text": [
            "num_train_samples: 210225\n",
            "num_val_samples: 105112\n",
            "num_test_samples: 105114\n"
          ]
        }
      ],
      "source": [
        "num_train_samples = int(0.5 * len(raw_data))\n",
        "num_val_samples = int(0.25 * len(raw_data))\n",
        "num_test_samples = len(raw_data) - num_train_samples - num_val_samples\n",
        "print(\"num_train_samples:\", num_train_samples)\n",
        "print(\"num_val_samples:\", num_val_samples)\n",
        "print(\"num_test_samples:\", num_test_samples)"
      ]
    },
    {
      "cell_type": "markdown",
      "metadata": {
        "id": "B-GzlCYCjbcb"
      },
      "source": [
        "### 데이터 준비"
      ]
    },
    {
      "cell_type": "markdown",
      "metadata": {
        "id": "gsmS_D67jbcb"
      },
      "source": [
        "**데이터 정규화**"
      ]
    },
    {
      "cell_type": "code",
      "execution_count": 16,
      "metadata": {
        "execution": {
          "iopub.execute_input": "2022-05-20T13:27:02.137634Z",
          "iopub.status.busy": "2022-05-20T13:27:02.137353Z",
          "iopub.status.idle": "2022-05-20T13:27:02.191157Z",
          "shell.execute_reply": "2022-05-20T13:27:02.189956Z"
        },
        "id": "5BhCfjkrjbcb"
      },
      "outputs": [],
      "source": [
        "mean = raw_data[:num_train_samples].mean(axis=0)\n",
        "raw_data -= mean\n",
        "std = raw_data[:num_train_samples].std(axis=0)\n",
        "raw_data /= std"
      ]
    },
    {
      "cell_type": "code",
      "execution_count": 17,
      "metadata": {
        "execution": {
          "iopub.execute_input": "2022-05-20T13:27:02.195344Z",
          "iopub.status.busy": "2022-05-20T13:27:02.195011Z",
          "iopub.status.idle": "2022-05-20T13:27:02.314820Z",
          "shell.execute_reply": "2022-05-20T13:27:02.312523Z"
        },
        "id": "sgoxHRsPjbcb",
        "outputId": "01e879e4-be17-441c-bb90-65711b2b68c4",
        "colab": {
          "base_uri": "https://localhost:8080/"
        }
      },
      "outputs": [
        {
          "output_type": "stream",
          "name": "stdout",
          "text": [
            "[0, 1, 2] 3\n",
            "[1, 2, 3] 4\n",
            "[2, 3, 4] 5\n",
            "[3, 4, 5] 6\n",
            "[4, 5, 6] 7\n"
          ]
        }
      ],
      "source": [
        "import numpy as np\n",
        "from tensorflow import keras\n",
        "int_sequence = np.arange(10)\n",
        "dummy_dataset = keras.utils.timeseries_dataset_from_array(\n",
        "    data=int_sequence[:-3],\n",
        "    targets=int_sequence[3:],\n",
        "    sequence_length=3,\n",
        "    batch_size=2,\n",
        ")\n",
        "\n",
        "for inputs, targets in dummy_dataset:\n",
        "    for i in range(inputs.shape[0]):\n",
        "        print([int(x) for x in inputs[i]], int(targets[i]))"
      ]
    },
    {
      "cell_type": "markdown",
      "metadata": {
        "id": "n_d8n6Yqjbcb"
      },
      "source": [
        "**훈련, 검증, 테스트 데이터셋 만들기**"
      ]
    },
    {
      "cell_type": "code",
      "execution_count": 27,
      "metadata": {
        "execution": {
          "iopub.execute_input": "2022-05-20T13:27:02.318918Z",
          "iopub.status.busy": "2022-05-20T13:27:02.318531Z",
          "iopub.status.idle": "2022-05-20T13:27:02.483352Z",
          "shell.execute_reply": "2022-05-20T13:27:02.482263Z"
        },
        "id": "uts3EvXajbcc"
      },
      "outputs": [],
      "source": [
        "sampling_rate = 6\n",
        "sequence_length = 120\n",
        "delay = sampling_rate * (sequence_length + 24 - 1)\n",
        "batch_size = 256\n",
        "\n",
        "train_dataset = keras.utils.timeseries_dataset_from_array(\n",
        "    raw_data[:-delay],\n",
        "    targets=temperature[delay:],\n",
        "    sampling_rate=sampling_rate,\n",
        "    sequence_length=sequence_length,\n",
        "    shuffle=True,\n",
        "    batch_size=batch_size,\n",
        "    start_index=0,\n",
        "    end_index=num_train_samples)\n",
        "\n",
        "val_dataset = keras.utils.timeseries_dataset_from_array(\n",
        "    raw_data[:-delay],\n",
        "    targets=temperature[delay:],\n",
        "    sampling_rate=sampling_rate,\n",
        "    sequence_length=sequence_length,\n",
        "    shuffle=True,\n",
        "    batch_size=batch_size,\n",
        "    start_index=num_train_samples,\n",
        "    end_index=num_train_samples + num_val_samples)\n",
        "\n",
        "test_dataset = keras.utils.timeseries_dataset_from_array(\n",
        "    raw_data[:-delay],\n",
        "    targets=temperature[delay:],\n",
        "    sampling_rate=sampling_rate,\n",
        "    sequence_length=sequence_length,\n",
        "    shuffle=True,\n",
        "    batch_size=batch_size,\n",
        "    start_index=num_train_samples + num_val_samples)"
      ]
    },
    {
      "cell_type": "code",
      "source": [
        "# 동영상 41분 확인\n",
        "int_sequence = np.arange(10,4204510,10)\n",
        "sampling_rate = 6\n",
        "sequence_length = 120\n",
        "delay = sampling_rate * (sequence_length + 24 - 1)\n",
        "batch_size = 256\n",
        "\n",
        "train_dataset2 = keras.utils.timeseries_dataset_from_array(\n",
        "    int_sequence[:-delay],\n",
        "    targets=temperature[delay:],\n",
        "    sampling_rate=sampling_rate,\n",
        "    sequence_length=sequence_length,\n",
        "    shuffle=True,\n",
        "    batch_size=batch_size,\n",
        "    start_index=0,\n",
        "    end_index=num_train_samples)"
      ],
      "metadata": {
        "id": "a5xT-bZftfWq"
      },
      "execution_count": 24,
      "outputs": []
    },
    {
      "cell_type": "code",
      "source": [
        "for samples, targets in train_dataset2:\n",
        "    print(\"샘플 크기:\", samples)\n",
        "    print(\"타깃 크기:\", targets)\n",
        "    break"
      ],
      "metadata": {
        "id": "RG1MFV_QuJf4",
        "outputId": "50a8c10c-134f-414b-b92a-dd6377c31954",
        "colab": {
          "base_uri": "https://localhost:8080/"
        }
      },
      "execution_count": 25,
      "outputs": [
        {
          "output_type": "stream",
          "name": "stdout",
          "text": [
            "샘플 크기: tf.Tensor(\n",
            "[[1856360 1856420 1856480 ... 1863380 1863440 1863500]\n",
            " [1999560 1999620 1999680 ... 2006580 2006640 2006700]\n",
            " [1808240 1808300 1808360 ... 1815260 1815320 1815380]\n",
            " ...\n",
            " [ 626210  626270  626330 ...  633230  633290  633350]\n",
            " [2088530 2088590 2088650 ... 2095550 2095610 2095670]\n",
            " [  12870   12930   12990 ...   19890   19950   20010]], shape=(256, 120), dtype=int64)\n",
            "타깃 크기: tf.Tensor(\n",
            "[ 14.57  10.23  14.48  11.1    5.27  15.52  17.95   4.19  12.64  17.4\n",
            "   4.54   0.35   2.1    6.53   9.14  15.87  12.99  17.58  19.25   5.97\n",
            "   8.09  21.66  -0.22  -6.33  18.05  21.48   1.62  10.82   7.41 -11.67\n",
            "  14.23   8.91  18.69  12.03  -6.64  -5.52   1.92  13.13  -4.86   0.81\n",
            "   6.07   4.65  13.3   20.32  11.77  -1.02  -1.52  -6.12   2.27   0.05\n",
            "  10.19  13.24   6.72  22.32  18.96  -0.33  13.12  13.61  -0.68   8.74\n",
            "   8.37   7.04  -2.52  11.81   7.66  -0.76  -3.5    0.66  23.95  19.68\n",
            "  20.54  14.23  11.72   6.55  18.77  16.11  12.24 -16.92  -5.13   7.48\n",
            "   2.33  13.25  11.75  -0.56  14.16   7.02  21.62   8.06  18.19  19.46\n",
            "  10.65  -5.76 -10.71  -1.16   6.02  20.66  12.64  14.5   27.08 -13.39\n",
            "  16.84   3.39  17.56  11.34  -1.5   -3.89  15.93   3.58   0.36  20.59\n",
            "  13.58  20.8   26.51   8.16   1.92  -4.98   0.79  26.83   4.49   6.7\n",
            "   5.69  -0.13   7.58   1.4   13.56   7.2   11.91   4.24  19.76   4.48\n",
            "  10.15   3.06   6.58  -6.35  23.83  16.94   7.2    1.93  -0.53  14.73\n",
            "   7.9   18.93   9.29   0.77  12.56  23.75  17.92   8.9   16.26  17.73\n",
            "   4.34 -13.67  14.64  -3.24  17.09   1.11   0.97   9.33  15.6   10.05\n",
            "  14.34   3.     6.22   0.88  23.72   0.67  16.12  11.84  28.98   3.9\n",
            "  -6.77   1.41  14.5   12.84   7.9   -6.15  21.8   -3.55   5.85  35.59\n",
            "  24.31   1.98   4.95  14.43  11.23  -2.15   5.29   8.18  -9.93   2.36\n",
            "  18.29  12.68  29.78   1.79  21.7    1.74  14.99  -7.75  11.23  14.55\n",
            "  21.09   7.76  -5.4    0.72  10.06   4.77   2.89  18.25  20.31   8.76\n",
            "  14.55   2.5    4.54  18.75   3.08  -7.98   8.61  -2.36  11.16   7.95\n",
            "  15.32   5.78  -3.54   7.76  10.51   6.82  13.18   6.51  10.34   5.97\n",
            "   0.65  -2.25  19.89  12.57   0.31  12.06  13.55   8.97  21.88  18.03\n",
            "  -3.57  18.71   9.26   9.94  11.84  -3.76  15.96  17.35   6.17  23.84\n",
            "   8.09  13.26  -0.97   6.17   7.61  -3.51], shape=(256,), dtype=float64)\n"
          ]
        }
      ]
    },
    {
      "cell_type": "markdown",
      "metadata": {
        "id": "dZNUb2s2jbcc"
      },
      "source": [
        "**훈련 데이터셋의 배치 크기 확인하기**"
      ]
    },
    {
      "cell_type": "code",
      "execution_count": 26,
      "metadata": {
        "execution": {
          "iopub.execute_input": "2022-05-20T13:27:02.487516Z",
          "iopub.status.busy": "2022-05-20T13:27:02.487209Z",
          "iopub.status.idle": "2022-05-20T13:27:02.708306Z",
          "shell.execute_reply": "2022-05-20T13:27:02.707147Z"
        },
        "id": "pC_5Co8Zjbcc",
        "outputId": "cff6cd69-7e86-461a-e0bf-223a299025b6",
        "colab": {
          "base_uri": "https://localhost:8080/"
        }
      },
      "outputs": [
        {
          "output_type": "stream",
          "name": "stdout",
          "text": [
            "샘플 크기: (256, 120)\n",
            "타깃 크기: (256,)\n"
          ]
        }
      ],
      "source": [
        "for samples, targets in train_dataset:\n",
        "    print(\"샘플 크기:\", samples.shape)\n",
        "    print(\"타깃 크기:\", targets.shape)\n",
        "    break"
      ]
    },
    {
      "cell_type": "markdown",
      "metadata": {
        "id": "vdYKKLDjjbcd"
      },
      "source": [
        "### 상식 수준의 기준점"
      ]
    },
    {
      "cell_type": "markdown",
      "metadata": {
        "id": "OABELWY3jbcd"
      },
      "source": [
        "**상식적인 기준 모델의 MAE 계산하기**"
      ]
    },
    {
      "cell_type": "code",
      "execution_count": 28,
      "metadata": {
        "execution": {
          "iopub.execute_input": "2022-05-20T13:27:02.712723Z",
          "iopub.status.busy": "2022-05-20T13:27:02.712259Z",
          "iopub.status.idle": "2022-05-20T13:27:12.831040Z",
          "shell.execute_reply": "2022-05-20T13:27:12.829972Z"
        },
        "id": "-ryWeRYljbcd",
        "outputId": "db7fe365-a4eb-475b-f55b-495c7b4f6447",
        "colab": {
          "base_uri": "https://localhost:8080/"
        }
      },
      "outputs": [
        {
          "output_type": "stream",
          "name": "stdout",
          "text": [
            "검증 MAE: 2.44\n",
            "테스트 MAE: 2.62\n"
          ]
        }
      ],
      "source": [
        "def evaluate_naive_method(dataset):\n",
        "    total_abs_err = 0.\n",
        "    samples_seen = 0\n",
        "    for samples, targets in dataset:\n",
        "        preds = samples[:, -1, 1] * std[1] + mean[1]\n",
        "        total_abs_err += np.sum(np.abs(preds - targets))\n",
        "        samples_seen += samples.shape[0]\n",
        "    return total_abs_err / samples_seen\n",
        "\n",
        "print(f\"검증 MAE: {evaluate_naive_method(val_dataset):.2f}\")\n",
        "print(f\"테스트 MAE: {evaluate_naive_method(test_dataset):.2f}\")"
      ]
    },
    {
      "cell_type": "markdown",
      "metadata": {
        "id": "AwYpH902jbcd"
      },
      "source": [
        "### 기본적인 머신 러닝 모델 시도해 보기"
      ]
    },
    {
      "cell_type": "markdown",
      "metadata": {
        "id": "g8shk8fVjbcd"
      },
      "source": [
        "**밀집 연결 모델 훈련하고 평가하기**"
      ]
    },
    {
      "cell_type": "code",
      "execution_count": 29,
      "metadata": {
        "execution": {
          "iopub.execute_input": "2022-05-20T13:27:12.835455Z",
          "iopub.status.busy": "2022-05-20T13:27:12.834662Z",
          "iopub.status.idle": "2022-05-20T13:30:16.406591Z",
          "shell.execute_reply": "2022-05-20T13:30:16.405650Z"
        },
        "id": "AnkykZycjbcd",
        "outputId": "9e68c736-f65d-4a56-f418-fc12f0fb618c",
        "colab": {
          "base_uri": "https://localhost:8080/"
        }
      },
      "outputs": [
        {
          "output_type": "stream",
          "name": "stdout",
          "text": [
            "Epoch 1/10\n",
            "819/819 [==============================] - 37s 42ms/step - loss: 12.8369 - mae: 2.7682 - val_loss: 14.5415 - val_mae: 3.0150\n",
            "Epoch 2/10\n"
          ]
        },
        {
          "output_type": "stream",
          "name": "stderr",
          "text": [
            "/usr/local/lib/python3.10/dist-packages/keras/src/engine/training.py:3103: UserWarning: You are saving your model as an HDF5 file via `model.save()`. This file format is considered legacy. We recommend using instead the native Keras format, e.g. `model.save('my_model.keras')`.\n",
            "  saving_api.save_model(\n"
          ]
        },
        {
          "output_type": "stream",
          "name": "stdout",
          "text": [
            "819/819 [==============================] - 37s 45ms/step - loss: 9.1880 - mae: 2.3850 - val_loss: 12.9917 - val_mae: 2.8774\n",
            "Epoch 3/10\n",
            "819/819 [==============================] - 45s 55ms/step - loss: 8.4323 - mae: 2.2864 - val_loss: 11.9060 - val_mae: 2.7342\n",
            "Epoch 4/10\n",
            "819/819 [==============================] - 45s 55ms/step - loss: 7.8801 - mae: 2.2135 - val_loss: 10.6964 - val_mae: 2.5922\n",
            "Epoch 5/10\n",
            "819/819 [==============================] - 45s 55ms/step - loss: 7.5623 - mae: 2.1698 - val_loss: 12.9052 - val_mae: 2.8516\n",
            "Epoch 6/10\n",
            "819/819 [==============================] - 35s 43ms/step - loss: 7.3197 - mae: 2.1365 - val_loss: 11.1764 - val_mae: 2.6451\n",
            "Epoch 7/10\n",
            "819/819 [==============================] - 34s 42ms/step - loss: 7.0964 - mae: 2.1046 - val_loss: 11.3059 - val_mae: 2.6720\n",
            "Epoch 8/10\n",
            "819/819 [==============================] - 35s 43ms/step - loss: 6.9356 - mae: 2.0800 - val_loss: 15.3905 - val_mae: 3.1178\n",
            "Epoch 9/10\n",
            "819/819 [==============================] - 45s 54ms/step - loss: 6.7859 - mae: 2.0586 - val_loss: 13.1559 - val_mae: 2.8860\n",
            "Epoch 10/10\n",
            "819/819 [==============================] - 46s 55ms/step - loss: 6.6464 - mae: 2.0398 - val_loss: 11.3168 - val_mae: 2.6683\n",
            "405/405 [==============================] - 11s 27ms/step - loss: 11.1676 - mae: 2.6147\n",
            "테스트 MAE: 2.61\n"
          ]
        }
      ],
      "source": [
        "from tensorflow import keras\n",
        "from tensorflow.keras import layers\n",
        "\n",
        "inputs = keras.Input(shape=(sequence_length, raw_data.shape[-1]))\n",
        "x = layers.Flatten()(inputs)\n",
        "x = layers.Dense(16, activation=\"relu\")(x)\n",
        "outputs = layers.Dense(1)(x)\n",
        "model = keras.Model(inputs, outputs)\n",
        "\n",
        "callbacks = [\n",
        "    keras.callbacks.ModelCheckpoint(\"jena_dense.h5\",\n",
        "                                    save_best_only=True)\n",
        "]\n",
        "model.compile(optimizer=\"rmsprop\", loss=\"mse\", metrics=[\"mae\"])\n",
        "history = model.fit(train_dataset,\n",
        "                    epochs=10,\n",
        "                    validation_data=val_dataset,\n",
        "                    callbacks=callbacks)\n",
        "\n",
        "model = keras.models.load_model(\"jena_dense.h5\")\n",
        "print(f\"테스트 MAE: {model.evaluate(test_dataset)[1]:.2f}\")"
      ]
    },
    {
      "cell_type": "markdown",
      "metadata": {
        "id": "lmTjKA_qjbce"
      },
      "source": [
        "**결과 그래프 그리기**"
      ]
    },
    {
      "cell_type": "code",
      "execution_count": 30,
      "metadata": {
        "execution": {
          "iopub.execute_input": "2022-05-20T13:30:16.410386Z",
          "iopub.status.busy": "2022-05-20T13:30:16.410076Z",
          "iopub.status.idle": "2022-05-20T13:30:16.562302Z",
          "shell.execute_reply": "2022-05-20T13:30:16.561390Z"
        },
        "id": "GE_ngKAZjbce",
        "outputId": "298264cd-4c42-4a4b-8327-7773a0e995c0",
        "colab": {
          "base_uri": "https://localhost:8080/",
          "height": 452
        }
      },
      "outputs": [
        {
          "output_type": "display_data",
          "data": {
            "text/plain": [
              "<Figure size 640x480 with 1 Axes>"
            ],
            "image/png": "[encoded data removed]"
          },
          "metadata": {}
        }
      ],
      "source": [
        "import matplotlib.pyplot as plt\n",
        "loss = history.history[\"mae\"]\n",
        "val_loss = history.history[\"val_mae\"]\n",
        "epochs = range(1, len(loss) + 1)\n",
        "plt.figure()\n",
        "plt.plot(epochs, loss, \"bo\", label=\"Training MAE\")\n",
        "plt.plot(epochs, val_loss, \"b\", label=\"Validation MAE\")\n",
        "plt.title(\"Training and validation MAE\")\n",
        "plt.legend()\n",
        "plt.show()"
      ]
    },
    {
      "cell_type": "markdown",
      "metadata": {
        "id": "nHd3-Y89jbce"
      },
      "source": [
        "### 1D 합성곱 모델 시도해 보기"
      ]
    },
    {
      "cell_type": "code",
      "execution_count": 31,
      "metadata": {
        "execution": {
          "iopub.execute_input": "2022-05-20T13:30:16.566194Z",
          "iopub.status.busy": "2022-05-20T13:30:16.565904Z",
          "iopub.status.idle": "2022-05-20T13:35:49.724331Z",
          "shell.execute_reply": "2022-05-20T13:35:49.723349Z"
        },
        "id": "MIodgX8jjbce",
        "outputId": "8c25c380-ba8e-4f5d-80c5-9ba17b5c1b19",
        "colab": {
          "base_uri": "https://localhost:8080/"
        }
      },
      "outputs": [
        {
          "output_type": "stream",
          "name": "stdout",
          "text": [
            "Epoch 1/10\n",
            "819/819 [==============================] - 40s 45ms/step - loss: 21.1255 - mae: 3.6151 - val_loss: 17.0706 - val_mae: 3.2486\n",
            "Epoch 2/10\n",
            "819/819 [==============================] - 36s 44ms/step - loss: 15.1195 - mae: 3.0895 - val_loss: 17.0308 - val_mae: 3.2368\n",
            "Epoch 3/10\n",
            "819/819 [==============================] - 46s 56ms/step - loss: 13.6872 - mae: 2.9382 - val_loss: 13.8155 - val_mae: 2.9438\n",
            "Epoch 4/10\n",
            "819/819 [==============================] - 37s 45ms/step - loss: 12.7802 - mae: 2.8363 - val_loss: 14.1435 - val_mae: 2.9517\n",
            "Epoch 5/10\n",
            "819/819 [==============================] - 46s 55ms/step - loss: 12.2123 - mae: 2.7709 - val_loss: 14.1591 - val_mae: 2.9730\n",
            "Epoch 6/10\n",
            "819/819 [==============================] - 36s 44ms/step - loss: 11.8340 - mae: 2.7276 - val_loss: 15.0973 - val_mae: 3.0457\n",
            "Epoch 7/10\n",
            "819/819 [==============================] - 35s 43ms/step - loss: 11.4358 - mae: 2.6804 - val_loss: 12.8642 - val_mae: 2.8239\n",
            "Epoch 8/10\n",
            "819/819 [==============================] - 37s 46ms/step - loss: 11.1150 - mae: 2.6426 - val_loss: 12.8310 - val_mae: 2.8243\n",
            "Epoch 9/10\n",
            "819/819 [==============================] - 45s 55ms/step - loss: 10.8080 - mae: 2.6056 - val_loss: 13.3330 - val_mae: 2.8748\n",
            "Epoch 10/10\n",
            "819/819 [==============================] - 46s 56ms/step - loss: 10.5296 - mae: 2.5718 - val_loss: 14.2928 - val_mae: 2.9738\n",
            "405/405 [==============================] - 11s 27ms/step - loss: 14.3335 - mae: 2.9970\n",
            "테스트 MAE: 3.00\n"
          ]
        }
      ],
      "source": [
        "inputs = keras.Input(shape=(sequence_length, raw_data.shape[-1]))\n",
        "x = layers.Conv1D(8, 24, activation=\"relu\")(inputs)\n",
        "x = layers.MaxPooling1D(2)(x)\n",
        "x = layers.Conv1D(8, 12, activation=\"relu\")(x)\n",
        "x = layers.MaxPooling1D(2)(x)\n",
        "x = layers.Conv1D(8, 6, activation=\"relu\")(x)\n",
        "x = layers.GlobalAveragePooling1D()(x)\n",
        "outputs = layers.Dense(1)(x)\n",
        "model = keras.Model(inputs, outputs)\n",
        "\n",
        "callbacks = [\n",
        "    keras.callbacks.ModelCheckpoint(\"jena_conv.h5\",\n",
        "                                    save_best_only=True)\n",
        "]\n",
        "model.compile(optimizer=\"rmsprop\", loss=\"mse\", metrics=[\"mae\"])\n",
        "history = model.fit(train_dataset,\n",
        "                    epochs=10,\n",
        "                    validation_data=val_dataset,\n",
        "                    callbacks=callbacks)\n",
        "\n",
        "model = keras.models.load_model(\"jena_conv.h5\")\n",
        "print(f\"테스트 MAE: {model.evaluate(test_dataset)[1]:.2f}\")"
      ]
    },
    {
      "cell_type": "code",
      "execution_count": null,
      "metadata": {
        "execution": {
          "iopub.execute_input": "2022-05-20T13:35:49.728113Z",
          "iopub.status.busy": "2022-05-20T13:35:49.727783Z",
          "iopub.status.idle": "2022-05-20T13:35:49.850064Z",
          "shell.execute_reply": "2022-05-20T13:35:49.849311Z"
        },
        "id": "twXzOJXkjbce",
        "outputId": "29a01c0c-d6cb-4604-d0ec-71dddb174f98",
        "colab": {
          "base_uri": "https://localhost:8080/",
          "height": 452
        }
      },
      "outputs": [
        {
          "output_type": "display_data",
          "data": {
            "text/plain": [
              "<Figure size 640x480 with 1 Axes>"
            ],
            "image/png": "[encoded data removed]"
          },
          "metadata": {}
        }
      ],
      "source": [
        "loss = history.history[\"mae\"]\n",
        "val_loss = history.history[\"val_mae\"]\n",
        "epochs = range(1, len(loss) + 1)\n",
        "plt.figure()\n",
        "plt.plot(epochs, loss, \"bo\", label=\"Training MAE\")\n",
        "plt.plot(epochs, val_loss, \"b\", label=\"Validation MAE\")\n",
        "plt.title(\"Training and validation MAE\")\n",
        "plt.legend()\n",
        "plt.show()"
      ]
    },
    {
      "cell_type": "markdown",
      "metadata": {
        "id": "SIVEXb7ojbcf"
      },
      "source": [
        "### 첫 번째 순환 신경망"
      ]
    },
    {
      "cell_type": "markdown",
      "metadata": {
        "id": "KGsF8BjGjbcf"
      },
      "source": [
        "**간단한 LSTM 기반 모델**"
      ]
    },
    {
      "cell_type": "code",
      "execution_count": 32,
      "metadata": {
        "execution": {
          "iopub.execute_input": "2022-05-20T13:35:49.855589Z",
          "iopub.status.busy": "2022-05-20T13:35:49.855249Z",
          "iopub.status.idle": "2022-05-20T13:46:15.333207Z",
          "shell.execute_reply": "2022-05-20T13:46:15.332248Z"
        },
        "id": "ElIY09G2jbcg",
        "outputId": "bb8ba38f-3f41-4275-8478-e150b38115fe",
        "colab": {
          "base_uri": "https://localhost:8080/"
        }
      },
      "outputs": [
        {
          "output_type": "stream",
          "name": "stdout",
          "text": [
            "Epoch 1/10\n",
            "819/819 [==============================] - 49s 57ms/step - loss: 42.0072 - mae: 4.6927 - val_loss: 12.7964 - val_mae: 2.7033\n",
            "Epoch 2/10\n",
            "819/819 [==============================] - 37s 44ms/step - loss: 10.8729 - mae: 2.5631 - val_loss: 9.5713 - val_mae: 2.4142\n",
            "Epoch 3/10\n",
            "819/819 [==============================] - 49s 60ms/step - loss: 9.9827 - mae: 2.4614 - val_loss: 9.5475 - val_mae: 2.4051\n",
            "Epoch 4/10\n",
            "819/819 [==============================] - 38s 46ms/step - loss: 9.7433 - mae: 2.4324 - val_loss: 9.5334 - val_mae: 2.4066\n",
            "Epoch 5/10\n",
            "819/819 [==============================] - 37s 45ms/step - loss: 9.5529 - mae: 2.4081 - val_loss: 9.5801 - val_mae: 2.3992\n",
            "Epoch 6/10\n",
            "819/819 [==============================] - 46s 56ms/step - loss: 9.3247 - mae: 2.3804 - val_loss: 10.0959 - val_mae: 2.4620\n",
            "Epoch 7/10\n",
            "819/819 [==============================] - 48s 59ms/step - loss: 9.0619 - mae: 2.3479 - val_loss: 9.8008 - val_mae: 2.4329\n",
            "Epoch 8/10\n",
            "819/819 [==============================] - 38s 46ms/step - loss: 8.8065 - mae: 2.3149 - val_loss: 9.7748 - val_mae: 2.4326\n",
            "Epoch 9/10\n",
            "819/819 [==============================] - 37s 45ms/step - loss: 8.5952 - mae: 2.2860 - val_loss: 9.7023 - val_mae: 2.4278\n",
            "Epoch 10/10\n",
            "819/819 [==============================] - 37s 45ms/step - loss: 8.3672 - mae: 2.2569 - val_loss: 10.2456 - val_mae: 2.4820\n",
            "405/405 [==============================] - 12s 29ms/step - loss: 10.7499 - mae: 2.5543\n",
            "테스트 MAE: 2.55\n"
          ]
        }
      ],
      "source": [
        "inputs = keras.Input(shape=(sequence_length, raw_data.shape[-1]))\n",
        "x = layers.LSTM(16)(inputs)\n",
        "outputs = layers.Dense(1)(x)\n",
        "model = keras.Model(inputs, outputs)\n",
        "\n",
        "callbacks = [\n",
        "    keras.callbacks.ModelCheckpoint(\"jena_lstm.h5\",\n",
        "                                    save_best_only=True)\n",
        "]\n",
        "model.compile(optimizer=\"rmsprop\", loss=\"mse\", metrics=[\"mae\"])\n",
        "history = model.fit(train_dataset,\n",
        "                    epochs=10,\n",
        "                    validation_data=val_dataset,\n",
        "                    callbacks=callbacks)\n",
        "\n",
        "model = keras.models.load_model(\"jena_lstm.h5\")\n",
        "print(f\"테스트 MAE: {model.evaluate(test_dataset)[1]:.2f}\")"
      ]
    },
    {
      "cell_type": "code",
      "execution_count": 33,
      "metadata": {
        "execution": {
          "iopub.execute_input": "2022-05-20T13:46:15.336897Z",
          "iopub.status.busy": "2022-05-20T13:46:15.336598Z",
          "iopub.status.idle": "2022-05-20T13:46:15.462410Z",
          "shell.execute_reply": "2022-05-20T13:46:15.461466Z"
        },
        "id": "EX3qK89tjbcg",
        "outputId": "f1eda457-7317-4ef1-eba3-71371b023826",
        "colab": {
          "base_uri": "https://localhost:8080/",
          "height": 452
        }
      },
      "outputs": [
        {
          "output_type": "display_data",
          "data": {
            "text/plain": [
              "<Figure size 640x480 with 1 Axes>"
            ],
            "image/png": "[encoded data removed]"
          },
          "metadata": {}
        }
      ],
      "source": [
        "loss = history.history[\"mae\"]\n",
        "val_loss = history.history[\"val_mae\"]\n",
        "epochs = range(1, len(loss) + 1)\n",
        "plt.figure()\n",
        "plt.plot(epochs, loss, \"bo\", label=\"Training MAE\")\n",
        "plt.plot(epochs, val_loss, \"b\", label=\"Validation MAE\")\n",
        "plt.title(\"Training and validation MAE\")\n",
        "plt.legend()\n",
        "plt.show()"
      ]
    },
    {
      "cell_type": "markdown",
      "metadata": {
        "id": "OjfiTkmOjbcg"
      },
      "source": [
        "## 순환 신경망 이해하기"
      ]
    },
    {
      "cell_type": "markdown",
      "metadata": {
        "id": "11qaJzuKjbcg"
      },
      "source": [
        "**넘파이로 구현한 간단한 RNN**"
      ]
    },
    {
      "cell_type": "code",
      "execution_count": 34,
      "metadata": {
        "execution": {
          "iopub.execute_input": "2022-05-20T13:46:15.466402Z",
          "iopub.status.busy": "2022-05-20T13:46:15.466102Z",
          "iopub.status.idle": "2022-05-20T13:46:15.474183Z",
          "shell.execute_reply": "2022-05-20T13:46:15.473353Z"
        },
        "id": "LqYsbiAGjbcg"
      },
      "outputs": [],
      "source": [
        "import numpy as np\n",
        "timesteps = 100\n",
        "input_features = 32\n",
        "output_features = 64\n",
        "inputs = np.random.random((timesteps, input_features))\n",
        "state_t = np.zeros((output_features,))\n",
        "W = np.random.random((output_features, input_features))\n",
        "U = np.random.random((output_features, output_features))\n",
        "b = np.random.random((output_features,))\n",
        "successive_outputs = []\n",
        "for input_t in inputs:\n",
        "    output_t = np.tanh(np.dot(W, input_t) + np.dot(U, state_t) + b)\n",
        "    successive_outputs.append(output_t)\n",
        "    state_t = output_t\n",
        "final_output_sequence = np.stack(successive_outputs, axis=0)"
      ]
    },
    {
      "cell_type": "markdown",
      "metadata": {
        "id": "m5_JDLW5jbch"
      },
      "source": [
        "### 케라스의 순환 층"
      ]
    },
    {
      "cell_type": "markdown",
      "metadata": {
        "id": "8scRPX8yjbch"
      },
      "source": [
        "**어떤 길이의 시퀀스도 처리할 수 있는 RNN 층**"
      ]
    },
    {
      "cell_type": "code",
      "execution_count": 35,
      "metadata": {
        "execution": {
          "iopub.execute_input": "2022-05-20T13:46:15.477895Z",
          "iopub.status.busy": "2022-05-20T13:46:15.477617Z",
          "iopub.status.idle": "2022-05-20T13:46:15.532690Z",
          "shell.execute_reply": "2022-05-20T13:46:15.531842Z"
        },
        "id": "RDRvy-SDjbch"
      },
      "outputs": [],
      "source": [
        "num_features = 14\n",
        "inputs = keras.Input(shape=(None, num_features))\n",
        "outputs = layers.SimpleRNN(16)(inputs)"
      ]
    },
    {
      "cell_type": "markdown",
      "metadata": {
        "id": "d_cZi_TVjbch"
      },
      "source": [
        "**마지막 출력 스텝만 반환하는 RNN 층**"
      ]
    },
    {
      "cell_type": "code",
      "execution_count": 36,
      "metadata": {
        "execution": {
          "iopub.execute_input": "2022-05-20T13:46:15.536872Z",
          "iopub.status.busy": "2022-05-20T13:46:15.536352Z",
          "iopub.status.idle": "2022-05-20T13:46:15.590222Z",
          "shell.execute_reply": "2022-05-20T13:46:15.589305Z"
        },
        "id": "7OpmWg1yjbch",
        "outputId": "9c6354d3-641c-4313-dc6c-9812cb6de7ae",
        "colab": {
          "base_uri": "https://localhost:8080/"
        }
      },
      "outputs": [
        {
          "output_type": "stream",
          "name": "stdout",
          "text": [
            "(None, 16)\n"
          ]
        }
      ],
      "source": [
        "num_features = 14\n",
        "steps = 120\n",
        "inputs = keras.Input(shape=(steps, num_features))\n",
        "outputs = layers.SimpleRNN(16, return_sequences=False)(inputs)\n",
        "print(outputs.shape)"
      ]
    },
    {
      "cell_type": "markdown",
      "metadata": {
        "id": "MvXPhL0qjbch"
      },
      "source": [
        "**전체 출력 시퀀스를 반환하는 RNN 층**"
      ]
    },
    {
      "cell_type": "code",
      "execution_count": 37,
      "metadata": {
        "execution": {
          "iopub.execute_input": "2022-05-20T13:46:15.594315Z",
          "iopub.status.busy": "2022-05-20T13:46:15.593481Z",
          "iopub.status.idle": "2022-05-20T13:46:15.647526Z",
          "shell.execute_reply": "2022-05-20T13:46:15.646394Z"
        },
        "id": "jDKDaTY9jbch",
        "outputId": "97c4dda4-bec4-44ea-c9b4-ab13c92157b3",
        "colab": {
          "base_uri": "https://localhost:8080/"
        }
      },
      "outputs": [
        {
          "output_type": "stream",
          "name": "stdout",
          "text": [
            "(None, 120, 16)\n"
          ]
        }
      ],
      "source": [
        "num_features = 14\n",
        "steps = 120\n",
        "inputs = keras.Input(shape=(steps, num_features))\n",
        "outputs = layers.SimpleRNN(16, return_sequences=True)(inputs)\n",
        "print(outputs.shape)"
      ]
    },
    {
      "cell_type": "markdown",
      "metadata": {
        "id": "Twps5rVojbch"
      },
      "source": [
        "**스태킹(stacking) RNN 층**"
      ]
    },
    {
      "cell_type": "code",
      "execution_count": 38,
      "metadata": {
        "execution": {
          "iopub.execute_input": "2022-05-20T13:46:15.651371Z",
          "iopub.status.busy": "2022-05-20T13:46:15.651069Z",
          "iopub.status.idle": "2022-05-20T13:46:15.801889Z",
          "shell.execute_reply": "2022-05-20T13:46:15.801117Z"
        },
        "id": "WCXNh9L6jbci"
      },
      "outputs": [],
      "source": [
        "inputs = keras.Input(shape=(steps, num_features))\n",
        "x = layers.SimpleRNN(16, return_sequences=True)(inputs)\n",
        "x = layers.SimpleRNN(16, return_sequences=True)(x)\n",
        "outputs = layers.SimpleRNN(16)(x)"
      ]
    },
    {
      "cell_type": "markdown",
      "metadata": {
        "id": "5UTaHUSfjbci"
      },
      "source": [
        "## 순환 신경망의 고급 사용법"
      ]
    },
    {
      "cell_type": "markdown",
      "metadata": {
        "id": "HfvBqBgLjbci"
      },
      "source": [
        "### 과대적합을 감소하기 위해 순환 드롭아웃 사용하기"
      ]
    },
    {
      "cell_type": "markdown",
      "metadata": {
        "id": "tzGShMPQjbci"
      },
      "source": [
        "**드롭아웃 규제를 적용한 LSTM 모델 훈련하고 평가하기**"
      ]
    },
    {
      "cell_type": "code",
      "execution_count": 41,
      "metadata": {
        "execution": {
          "iopub.execute_input": "2022-05-20T13:46:15.806506Z",
          "iopub.status.busy": "2022-05-20T13:46:15.805817Z",
          "iopub.status.idle": "2022-05-20T15:04:54.368986Z",
          "shell.execute_reply": "2022-05-20T15:04:54.368048Z"
        },
        "id": "ZDfwJ1Osjbci",
        "outputId": "b0021f2a-66ab-49eb-b5da-4950632addbf",
        "colab": {
          "base_uri": "https://localhost:8080/"
        }
      },
      "outputs": [
        {
          "output_type": "stream",
          "name": "stdout",
          "text": [
            "Epoch 1/10\n",
            "819/819 [==============================] - 40s 47ms/step - loss: 28.6631 - mae: 3.9318 - val_loss: 9.8359 - val_mae: 2.4371\n",
            "Epoch 2/10\n",
            "819/819 [==============================] - 39s 48ms/step - loss: 14.6376 - mae: 2.9659 - val_loss: 9.3774 - val_mae: 2.3783\n",
            "Epoch 3/10\n",
            "819/819 [==============================] - 39s 48ms/step - loss: 13.5000 - mae: 2.8519 - val_loss: 9.2285 - val_mae: 2.3641\n",
            "Epoch 4/10\n",
            "819/819 [==============================] - 38s 46ms/step - loss: 12.8634 - mae: 2.7850 - val_loss: 9.2457 - val_mae: 2.3681\n",
            "Epoch 5/10\n",
            "819/819 [==============================] - 39s 47ms/step - loss: 12.3575 - mae: 2.7256 - val_loss: 9.1939 - val_mae: 2.3734\n",
            "Epoch 6/10\n",
            "819/819 [==============================] - 48s 58ms/step - loss: 11.9687 - mae: 2.6837 - val_loss: 9.7555 - val_mae: 2.4362\n",
            "Epoch 7/10\n",
            "819/819 [==============================] - 49s 60ms/step - loss: 11.5365 - mae: 2.6313 - val_loss: 8.9523 - val_mae: 2.3400\n",
            "Epoch 8/10\n",
            "819/819 [==============================] - 38s 47ms/step - loss: 11.1580 - mae: 2.5915 - val_loss: 9.1829 - val_mae: 2.3658\n",
            "Epoch 9/10\n",
            "819/819 [==============================] - 40s 49ms/step - loss: 10.9569 - mae: 2.5637 - val_loss: 9.0814 - val_mae: 2.3434\n",
            "Epoch 10/10\n",
            "819/819 [==============================] - 48s 59ms/step - loss: 10.6861 - mae: 2.5272 - val_loss: 9.8246 - val_mae: 2.4414\n"
          ]
        }
      ],
      "source": [
        "inputs = keras.Input(shape=(sequence_length, raw_data.shape[-1]))\n",
        "# 훈련 속도를 놓이기 위해 순환 드롭아웃을 제외합니다.\n",
        "#x = layers.LSTM(32, recurrent_dropout=0.25)(inputs)\n",
        "x = layers.LSTM(32)(inputs)\n",
        "x = layers.Dropout(0.5)(x)\n",
        "outputs = layers.Dense(1)(x)\n",
        "model = keras.Model(inputs, outputs)\n",
        "\n",
        "callbacks = [\n",
        "    keras.callbacks.ModelCheckpoint(\"jena_lstm_dropout.h5\",\n",
        "                                    save_best_only=True)\n",
        "]\n",
        "model.compile(optimizer=\"rmsprop\", loss=\"mse\", metrics=[\"mae\"])\n",
        "history = model.fit(train_dataset,\n",
        "                    epochs=10,\n",
        "                    validation_data=val_dataset,\n",
        "                    callbacks=callbacks)"
      ]
    },
    {
      "cell_type": "code",
      "execution_count": 42,
      "metadata": {
        "execution": {
          "iopub.execute_input": "2022-05-20T15:04:54.372845Z",
          "iopub.status.busy": "2022-05-20T15:04:54.372302Z",
          "iopub.status.idle": "2022-05-20T15:04:54.500136Z",
          "shell.execute_reply": "2022-05-20T15:04:54.499227Z"
        },
        "id": "TUqqYeRgjbci",
        "outputId": "36063f28-d415-4267-dabf-3c9e63a24436",
        "colab": {
          "base_uri": "https://localhost:8080/",
          "height": 452
        }
      },
      "outputs": [
        {
          "output_type": "display_data",
          "data": {
            "text/plain": [
              "<Figure size 640x480 with 1 Axes>"
            ],
            "image/png": "[encoded data removed]"
          },
          "metadata": {}
        }
      ],
      "source": [
        "loss = history.history[\"mae\"]\n",
        "val_loss = history.history[\"val_mae\"]\n",
        "epochs = range(1, len(loss) + 1)\n",
        "plt.figure()\n",
        "plt.plot(epochs, loss, \"bo\", label=\"Training MAE\")\n",
        "plt.plot(epochs, val_loss, \"b\", label=\"Validation MAE\")\n",
        "plt.title(\"Training and validation MAE\")\n",
        "plt.legend()\n",
        "plt.show()"
      ]
    },
    {
      "cell_type": "code",
      "execution_count": 43,
      "metadata": {
        "execution": {
          "iopub.execute_input": "2022-05-20T15:04:54.505555Z",
          "iopub.status.busy": "2022-05-20T15:04:54.504713Z",
          "iopub.status.idle": "2022-05-20T15:04:57.937020Z",
          "shell.execute_reply": "2022-05-20T15:04:57.935916Z"
        },
        "id": "u_-Jap5vjbcj",
        "outputId": "4f8e9d08-5e6d-4674-b3ee-380e6f747d22",
        "colab": {
          "base_uri": "https://localhost:8080/"
        }
      },
      "outputs": [
        {
          "output_type": "stream",
          "name": "stderr",
          "text": [
            "WARNING:tensorflow:Layer lstm_3 will not use cuDNN kernels since it doesn't meet the criteria. It will use a generic GPU kernel as fallback when running on GPU.\n"
          ]
        }
      ],
      "source": [
        "inputs = keras.Input(shape=(sequence_length, num_features))\n",
        "x = layers.LSTM(32, recurrent_dropout=0.2, unroll=True)(inputs)"
      ]
    },
    {
      "cell_type": "markdown",
      "metadata": {
        "id": "dIAEo0Ttjbcj"
      },
      "source": [
        "### 스태킹 순환 층"
      ]
    },
    {
      "cell_type": "markdown",
      "metadata": {
        "id": "9AfaRKy2jbcj"
      },
      "source": [
        "**드롭아웃 규제와 스태킹을 적용한 GRU 모델을 훈련하고 평가하기**"
      ]
    },
    {
      "cell_type": "code",
      "execution_count": 44,
      "metadata": {
        "execution": {
          "iopub.execute_input": "2022-05-20T15:04:57.941005Z",
          "iopub.status.busy": "2022-05-20T15:04:57.940685Z",
          "iopub.status.idle": "2022-05-20T17:21:17.499207Z",
          "shell.execute_reply": "2022-05-20T17:21:17.498103Z"
        },
        "id": "-v7IqHRsjbcj",
        "outputId": "b81ada92-a460-4994-99c0-c243aeef97d3",
        "colab": {
          "base_uri": "https://localhost:8080/"
        }
      },
      "outputs": [
        {
          "output_type": "stream",
          "name": "stdout",
          "text": [
            "Epoch 1/10\n",
            "819/819 [==============================] - 46s 52ms/step - loss: 24.4799 - mae: 3.6497 - val_loss: 9.3043 - val_mae: 2.3564\n",
            "Epoch 2/10\n",
            "819/819 [==============================] - 45s 55ms/step - loss: 13.7068 - mae: 2.8675 - val_loss: 9.2598 - val_mae: 2.3635\n",
            "Epoch 3/10\n",
            "819/819 [==============================] - 43s 52ms/step - loss: 12.7756 - mae: 2.7706 - val_loss: 9.0007 - val_mae: 2.3351\n",
            "Epoch 4/10\n",
            "819/819 [==============================] - 42s 51ms/step - loss: 12.0432 - mae: 2.6921 - val_loss: 8.9169 - val_mae: 2.3211\n",
            "Epoch 5/10\n",
            "819/819 [==============================] - 41s 49ms/step - loss: 11.3386 - mae: 2.6098 - val_loss: 9.1646 - val_mae: 2.3412\n",
            "Epoch 6/10\n",
            "819/819 [==============================] - 42s 50ms/step - loss: 10.6969 - mae: 2.5366 - val_loss: 10.2244 - val_mae: 2.4775\n",
            "Epoch 7/10\n",
            "819/819 [==============================] - 42s 51ms/step - loss: 10.0256 - mae: 2.4600 - val_loss: 9.3359 - val_mae: 2.3808\n",
            "Epoch 8/10\n",
            "819/819 [==============================] - 42s 51ms/step - loss: 9.5378 - mae: 2.3935 - val_loss: 9.7951 - val_mae: 2.4304\n",
            "Epoch 9/10\n",
            "819/819 [==============================] - 42s 51ms/step - loss: 9.0116 - mae: 2.3249 - val_loss: 10.8492 - val_mae: 2.5580\n",
            "Epoch 10/10\n",
            "819/819 [==============================] - 50s 61ms/step - loss: 8.5339 - mae: 2.2614 - val_loss: 10.9698 - val_mae: 2.5679\n",
            "405/405 [==============================] - 13s 31ms/step - loss: 9.8103 - mae: 2.4646\n",
            "테스트 MAE: 2.46\n"
          ]
        }
      ],
      "source": [
        "inputs = keras.Input(shape=(sequence_length, raw_data.shape[-1]))\n",
        "# 훈련 속도를 놓이기 위해 순환 드롭아웃을 제외합니다.\n",
        "# x = layers.GRU(32, recurrent_dropout=0.5, return_sequences=True)(inputs)\n",
        "# x = layers.GRU(32, recurrent_dropout=0.5)(x)\n",
        "x = layers.GRU(32, return_sequences=True)(inputs)\n",
        "x = layers.GRU(32)(x)\n",
        "x = layers.Dropout(0.5)(x)\n",
        "outputs = layers.Dense(1)(x)\n",
        "model = keras.Model(inputs, outputs)\n",
        "\n",
        "callbacks = [\n",
        "    keras.callbacks.ModelCheckpoint(\"jena_stacked_gru_dropout.h5\",\n",
        "                                    save_best_only=True)\n",
        "]\n",
        "model.compile(optimizer=\"rmsprop\", loss=\"mse\", metrics=[\"mae\"])\n",
        "history = model.fit(train_dataset,\n",
        "                    epochs=10,\n",
        "                    validation_data=val_dataset,\n",
        "                    callbacks=callbacks)\n",
        "model = keras.models.load_model(\"jena_stacked_gru_dropout.h5\")\n",
        "print(f\"테스트 MAE: {model.evaluate(test_dataset)[1]:.2f}\")"
      ]
    },
    {
      "cell_type": "code",
      "execution_count": 45,
      "metadata": {
        "execution": {
          "iopub.execute_input": "2022-05-20T17:21:17.502935Z",
          "iopub.status.busy": "2022-05-20T17:21:17.502627Z",
          "iopub.status.idle": "2022-05-20T17:21:17.637424Z",
          "shell.execute_reply": "2022-05-20T17:21:17.636229Z"
        },
        "id": "ajG9EuXxjbck",
        "outputId": "f5adcf11-3cf3-4420-e019-dd3cb319455a",
        "colab": {
          "base_uri": "https://localhost:8080/",
          "height": 452
        }
      },
      "outputs": [
        {
          "output_type": "display_data",
          "data": {
            "text/plain": [
              "<Figure size 640x480 with 1 Axes>"
            ],
            "image/png": "[encoded data removed]"
          },
          "metadata": {}
        }
      ],
      "source": [
        "loss = history.history[\"mae\"]\n",
        "val_loss = history.history[\"val_mae\"]\n",
        "epochs = range(1, len(loss) + 1)\n",
        "plt.figure()\n",
        "plt.plot(epochs, loss, \"bo\", label=\"Training MAE\")\n",
        "plt.plot(epochs, val_loss, \"b\", label=\"Validation MAE\")\n",
        "plt.title(\"Training and validation MAE\")\n",
        "plt.legend()\n",
        "plt.show()"
      ]
    },
    {
      "cell_type": "markdown",
      "metadata": {
        "id": "Yj_01R2Cjbck"
      },
      "source": [
        "### 양방향 RNN 사용하기"
      ]
    },
    {
      "cell_type": "markdown",
      "metadata": {
        "id": "HfYzAJbqjbck"
      },
      "source": [
        "시퀀스를 거꾸로 뒤집어 LSTM 모델 훈련하기 (책에는 없음)"
      ]
    },
    {
      "cell_type": "code",
      "execution_count": 46,
      "metadata": {
        "execution": {
          "iopub.execute_input": "2022-05-20T17:21:17.641176Z",
          "iopub.status.busy": "2022-05-20T17:21:17.640902Z",
          "iopub.status.idle": "2022-05-20T17:21:17.646145Z",
          "shell.execute_reply": "2022-05-20T17:21:17.645090Z"
        },
        "id": "P2Ns9cJajbck"
      },
      "outputs": [],
      "source": [
        "def train_generator():\n",
        "    while True:\n",
        "        for samples, targets in train_dataset:\n",
        "            yield samples[:, ::-1, :], targets\n",
        "\n",
        "def val_generator():\n",
        "    while True:\n",
        "        for samples, targets in val_dataset:\n",
        "            yield samples[:, ::-1, :], targets\n",
        "\n",
        "train_gen = train_generator()\n",
        "val_gen = val_generator()"
      ]
    },
    {
      "cell_type": "code",
      "execution_count": 47,
      "metadata": {
        "execution": {
          "iopub.execute_input": "2022-05-20T17:21:17.649630Z",
          "iopub.status.busy": "2022-05-20T17:21:17.649357Z",
          "iopub.status.idle": "2022-05-20T17:38:03.455221Z",
          "shell.execute_reply": "2022-05-20T17:38:03.454271Z"
        },
        "id": "4Yd7xpW3jbck",
        "outputId": "1d3ab97a-f455-4abb-f3db-4c436ae29dd9",
        "colab": {
          "base_uri": "https://localhost:8080/"
        }
      },
      "outputs": [
        {
          "output_type": "stream",
          "name": "stdout",
          "text": [
            "Epoch 1/10\n",
            "819/819 [==============================] - 53s 63ms/step - loss: 31.5106 - mae: 4.3007 - val_loss: 17.7024 - val_mae: 3.2935\n",
            "Epoch 2/10\n",
            "819/819 [==============================] - 81s 99ms/step - loss: 21.5372 - mae: 3.6410 - val_loss: 17.8061 - val_mae: 3.3044\n",
            "Epoch 3/10\n",
            "819/819 [==============================] - 41s 50ms/step - loss: 20.2656 - mae: 3.5186 - val_loss: 17.6034 - val_mae: 3.2640\n",
            "Epoch 4/10\n",
            "819/819 [==============================] - 51s 62ms/step - loss: 19.3539 - mae: 3.4278 - val_loss: 17.6462 - val_mae: 3.2459\n",
            "Epoch 5/10\n",
            "819/819 [==============================] - 68s 60ms/step - loss: 18.4288 - mae: 3.3399 - val_loss: 15.4499 - val_mae: 3.0832\n",
            "Epoch 6/10\n",
            "819/819 [==============================] - 110s 135ms/step - loss: 16.0909 - mae: 3.1380 - val_loss: 13.0171 - val_mae: 2.8117\n",
            "Epoch 7/10\n",
            "819/819 [==============================] - 39s 47ms/step - loss: 14.8656 - mae: 3.0158 - val_loss: 13.2526 - val_mae: 2.7955\n",
            "Epoch 8/10\n",
            "819/819 [==============================] - 91s 86ms/step - loss: 14.1015 - mae: 2.9311 - val_loss: 11.8087 - val_mae: 2.6564\n",
            "Epoch 9/10\n",
            "819/819 [==============================] - 73s 89ms/step - loss: 13.5378 - mae: 2.8723 - val_loss: 12.4225 - val_mae: 2.7398\n",
            "Epoch 10/10\n",
            "819/819 [==============================] - 45s 55ms/step - loss: 13.2487 - mae: 2.8384 - val_loss: 11.2949 - val_mae: 2.5944\n"
          ]
        }
      ],
      "source": [
        "inputs = keras.Input(shape=(sequence_length, raw_data.shape[-1]))\n",
        "# 훈련 속도를 놓이기 위해 순환 드롭아웃을 제외합니다.\n",
        "# x = layers.LSTM(32, recurrent_dropout=0.25)(inputs)\n",
        "x = layers.LSTM(32)(inputs)\n",
        "x = layers.Dropout(0.5)(x)\n",
        "outputs = layers.Dense(1)(x)\n",
        "model = keras.Model(inputs, outputs)\n",
        "\n",
        "model.compile(optimizer=\"rmsprop\", loss=\"mse\", metrics=[\"mae\"])\n",
        "history = model.fit(train_gen,\n",
        "                    epochs=10,\n",
        "                    steps_per_epoch=819,\n",
        "                    validation_data=val_gen,\n",
        "                    validation_steps=410)"
      ]
    },
    {
      "cell_type": "code",
      "execution_count": 48,
      "metadata": {
        "execution": {
          "iopub.execute_input": "2022-05-20T17:38:03.459157Z",
          "iopub.status.busy": "2022-05-20T17:38:03.458872Z",
          "iopub.status.idle": "2022-05-20T17:38:03.588800Z",
          "shell.execute_reply": "2022-05-20T17:38:03.587843Z"
        },
        "id": "HjBY66fkjbck",
        "outputId": "e0b13bcb-a39f-4964-faf4-67ed3bc146ce",
        "colab": {
          "base_uri": "https://localhost:8080/",
          "height": 452
        }
      },
      "outputs": [
        {
          "output_type": "display_data",
          "data": {
            "text/plain": [
              "<Figure size 640x480 with 1 Axes>"
            ],
            "image/png": "[encoded data removed]"
          },
          "metadata": {}
        }
      ],
      "source": [
        "loss = history.history[\"mae\"]\n",
        "val_loss = history.history[\"val_mae\"]\n",
        "epochs = range(1, len(loss) + 1)\n",
        "plt.figure()\n",
        "plt.plot(epochs, loss, \"bo\", label=\"Training MAE\")\n",
        "plt.plot(epochs, val_loss, \"b\", label=\"Validation MAE\")\n",
        "plt.title(\"Training and validation MAE\")\n",
        "plt.legend()\n",
        "plt.show()"
      ]
    },
    {
      "cell_type": "markdown",
      "metadata": {
        "id": "9mc9iUIKjbck"
      },
      "source": [
        "**양방향 LSTM 모델 훈련하고 평가하기**"
      ]
    },
    {
      "cell_type": "code",
      "execution_count": 49,
      "metadata": {
        "execution": {
          "iopub.execute_input": "2022-05-20T17:38:03.594401Z",
          "iopub.status.busy": "2022-05-20T17:38:03.593387Z",
          "iopub.status.idle": "2022-05-20T17:49:14.410464Z",
          "shell.execute_reply": "2022-05-20T17:49:14.409759Z"
        },
        "id": "eysu8EhMjbcl",
        "outputId": "91a85681-2083-4940-ee1c-6f5ce899b45e",
        "colab": {
          "base_uri": "https://localhost:8080/"
        }
      },
      "outputs": [
        {
          "output_type": "stream",
          "name": "stdout",
          "text": [
            "Epoch 1/10\n",
            "819/819 [==============================] - 47s 52ms/step - loss: 26.3892 - mae: 3.6898 - val_loss: 10.1348 - val_mae: 2.4602\n",
            "Epoch 2/10\n",
            "819/819 [==============================] - 43s 53ms/step - loss: 9.4696 - mae: 2.3929 - val_loss: 9.6671 - val_mae: 2.4108\n",
            "Epoch 3/10\n",
            "819/819 [==============================] - 46s 55ms/step - loss: 8.6498 - mae: 2.2898 - val_loss: 9.5120 - val_mae: 2.3850\n",
            "Epoch 4/10\n",
            "819/819 [==============================] - 42s 51ms/step - loss: 8.0722 - mae: 2.2142 - val_loss: 10.0546 - val_mae: 2.4427\n",
            "Epoch 5/10\n",
            "819/819 [==============================] - 43s 52ms/step - loss: 7.6756 - mae: 2.1607 - val_loss: 10.3919 - val_mae: 2.4889\n",
            "Epoch 6/10\n",
            "819/819 [==============================] - 41s 50ms/step - loss: 7.4260 - mae: 2.1268 - val_loss: 9.8676 - val_mae: 2.4310\n",
            "Epoch 7/10\n",
            "819/819 [==============================] - 44s 54ms/step - loss: 7.1819 - mae: 2.0915 - val_loss: 10.4692 - val_mae: 2.5034\n",
            "Epoch 8/10\n",
            "819/819 [==============================] - 42s 50ms/step - loss: 6.9964 - mae: 2.0641 - val_loss: 9.9414 - val_mae: 2.4339\n",
            "Epoch 9/10\n",
            "819/819 [==============================] - 41s 50ms/step - loss: 6.7832 - mae: 2.0320 - val_loss: 10.2639 - val_mae: 2.4716\n",
            "Epoch 10/10\n",
            "819/819 [==============================] - 41s 50ms/step - loss: 6.6105 - mae: 2.0039 - val_loss: 10.3532 - val_mae: 2.4828\n"
          ]
        }
      ],
      "source": [
        "inputs = keras.Input(shape=(sequence_length, raw_data.shape[-1]))\n",
        "x = layers.Bidirectional(layers.LSTM(16))(inputs)\n",
        "outputs = layers.Dense(1)(x)\n",
        "model = keras.Model(inputs, outputs)\n",
        "\n",
        "model.compile(optimizer=\"rmsprop\", loss=\"mse\", metrics=[\"mae\"])\n",
        "history = model.fit(train_dataset,\n",
        "                    epochs=10,\n",
        "                    validation_data=val_dataset)"
      ]
    },
    {
      "cell_type": "markdown",
      "metadata": {
        "id": "wrkE0wkWjbcl"
      },
      "source": [
        "### 더 나아가서"
      ]
    },
    {
      "cell_type": "markdown",
      "metadata": {
        "id": "fi2t0VRNjbcl"
      },
      "source": [
        "## 요약"
      ]
    }
  ],
  "metadata": {
    "colab": {
      "name": "chapter10_dl-for-timeseries.i",
      "provenance": [],
      "gpuClass": "premium",
      "gpuType": "T4"
    },
    "kernelspec": {
      "display_name": "default:Python",
      "language": "python",
      "name": "conda-env-default-py"
    },
    "language_info": {
      "codemirror_mode": {
        "name": "ipython",
        "version": 3
      },
      "file_extension": ".py",
      "mimetype": "text/x-python",
      "name": "python",
      "nbconvert_exporter": "python",
      "pygments_lexer": "ipython3",
      "version": "3.9.10"
    },
    "accelerator": "GPU"
  },
  "nbformat": 4,
  "nbformat_minor": 0
}